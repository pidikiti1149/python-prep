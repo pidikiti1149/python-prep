{
 "cells": [
  {
   "cell_type": "code",
   "execution_count": 1,
   "id": "566d4a7d",
   "metadata": {},
   "outputs": [],
   "source": [
    "# to install a package pip install package name \n",
    "# */ (base) adityas-MacBook-Air:~ adityapidikiti$ pip install colorama\n",
    "#Requirement already satisfied: colorama in ./anaconda3/lib/python3.10/site-packages (0.4.6)\n",
    "#(base) adityas-MacBook-Air:~ adityapidikiti$ python \n",
    "#Python 3.10.9 (main, Mar  1 2023, 12:33:47) [Clang 14.0.6 ] on darwin\n",
    "#Type \"help\", \"copyright\", \"credits\" or \"license\" for more information.\n",
    "#>>> from colorama import init \n",
    "#>>> init()\n",
    "#>>> from colorama import Fore\n",
    "#>>> print(Fore.YELLOW + \"Hello Aditya!\")\n",
    "#/*"
   ]
  },
  {
   "cell_type": "code",
   "execution_count": null,
   "id": "cf24b8f9",
   "metadata": {},
   "outputs": [],
   "source": [
    "if __name__ = "
   ]
  }
 ],
 "metadata": {
  "kernelspec": {
   "display_name": "Python 3 (ipykernel)",
   "language": "python",
   "name": "python3"
  },
  "language_info": {
   "codemirror_mode": {
    "name": "ipython",
    "version": 3
   },
   "file_extension": ".py",
   "mimetype": "text/x-python",
   "name": "python",
   "nbconvert_exporter": "python",
   "pygments_lexer": "ipython3",
   "version": "3.10.9"
  }
 },
 "nbformat": 4,
 "nbformat_minor": 5
}
