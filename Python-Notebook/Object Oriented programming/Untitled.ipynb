{
 "cells": [
  {
   "cell_type": "code",
   "execution_count": 1,
   "id": "66cb4826",
   "metadata": {},
   "outputs": [],
   "source": [
    "mylist = [1,2,3]"
   ]
  },
  {
   "cell_type": "code",
   "execution_count": 2,
   "id": "55b6b266",
   "metadata": {},
   "outputs": [
    {
     "data": {
      "text/plain": [
       "list"
      ]
     },
     "execution_count": 2,
     "metadata": {},
     "output_type": "execute_result"
    }
   ],
   "source": [
    "type(mylist)"
   ]
  },
  {
   "cell_type": "code",
   "execution_count": 3,
   "id": "86aa01fa",
   "metadata": {},
   "outputs": [],
   "source": [
    "myset = set()"
   ]
  },
  {
   "cell_type": "code",
   "execution_count": 5,
   "id": "b9e131ed",
   "metadata": {},
   "outputs": [],
   "source": [
    "myset = set(mylist)"
   ]
  },
  {
   "cell_type": "code",
   "execution_count": 6,
   "id": "51d18ec9",
   "metadata": {},
   "outputs": [
    {
     "data": {
      "text/plain": [
       "{1, 2, 3}"
      ]
     },
     "execution_count": 6,
     "metadata": {},
     "output_type": "execute_result"
    }
   ],
   "source": [
    "myset"
   ]
  },
  {
   "cell_type": "code",
   "execution_count": 27,
   "id": "bef0b462",
   "metadata": {},
   "outputs": [],
   "source": [
    "class Dog():\n",
    "    \n",
    "    def __init__(self,breed,name,spots):\n",
    "        \n",
    "        #Attributes\n",
    "        #we take in argument\n",
    "        #Assign it using self.attribute_name\n",
    "        self.breed = breed\n",
    "        self.name = name\n",
    "        #Except boolean True or False\n",
    "        self.spots = spots"
   ]
  },
  {
   "cell_type": "code",
   "execution_count": 29,
   "id": "193d14bd",
   "metadata": {},
   "outputs": [],
   "source": [
    "my_dog = Dog(breed='Lab', name='Puppy', spots=False)"
   ]
  },
  {
   "cell_type": "code",
   "execution_count": 30,
   "id": "950538a6",
   "metadata": {},
   "outputs": [
    {
     "data": {
      "text/plain": [
       "__main__.Dog"
      ]
     },
     "execution_count": 30,
     "metadata": {},
     "output_type": "execute_result"
    }
   ],
   "source": [
    "type(my_dog)"
   ]
  },
  {
   "cell_type": "code",
   "execution_count": 32,
   "id": "a4e32373",
   "metadata": {},
   "outputs": [
    {
     "data": {
      "text/plain": [
       "'Lab'"
      ]
     },
     "execution_count": 32,
     "metadata": {},
     "output_type": "execute_result"
    }
   ],
   "source": [
    "my_dog.breed"
   ]
  },
  {
   "cell_type": "code",
   "execution_count": 34,
   "id": "0fd21953",
   "metadata": {},
   "outputs": [
    {
     "data": {
      "text/plain": [
       "False"
      ]
     },
     "execution_count": 34,
     "metadata": {},
     "output_type": "execute_result"
    }
   ],
   "source": [
    "my_dog.spots"
   ]
  },
  {
   "cell_type": "code",
   "execution_count": 35,
   "id": "7086abe1",
   "metadata": {},
   "outputs": [
    {
     "data": {
      "text/plain": [
       "'Puppy'"
      ]
     },
     "execution_count": 35,
     "metadata": {},
     "output_type": "execute_result"
    }
   ],
   "source": [
    "my_dog.name"
   ]
  },
  {
   "cell_type": "code",
   "execution_count": 36,
   "id": "dca73820",
   "metadata": {},
   "outputs": [],
   "source": [
    "#Class object attributes "
   ]
  },
  {
   "cell_type": "code",
   "execution_count": 37,
   "id": "063bb4da",
   "metadata": {},
   "outputs": [],
   "source": [
    "class Dog():\n",
    "    \n",
    "    #CLASS OBJECT attribute \n",
    "    #SAME FOR ANY INSTANCE OF A CLASS\n",
    "    \n",
    "    species = 'mammel'\n",
    "    \n",
    "    def __init__(self,breed,name,spots):\n",
    "        \n",
    "        #Attributes\n",
    "        #we take in argument\n",
    "        #Assign it using self.attribute_name\n",
    "        self.breed = breed\n",
    "        self.name = name\n",
    "        #Except boolean True or False\n",
    "        self.spots = spots"
   ]
  },
  {
   "cell_type": "code",
   "execution_count": 41,
   "id": "28e3f424",
   "metadata": {},
   "outputs": [],
   "source": [
    "my_dog = Dog(breed='Lab', name='Puppy', spots=False)"
   ]
  },
  {
   "cell_type": "code",
   "execution_count": 44,
   "id": "4decf3f6",
   "metadata": {},
   "outputs": [
    {
     "data": {
      "text/plain": [
       "'mammel'"
      ]
     },
     "execution_count": 44,
     "metadata": {},
     "output_type": "execute_result"
    }
   ],
   "source": [
    "my_dog.species"
   ]
  },
  {
   "cell_type": "code",
   "execution_count": 47,
   "id": "1e061453",
   "metadata": {},
   "outputs": [],
   "source": [
    "#METHODS\n",
    "\n",
    "#Method is a funtion inside a class "
   ]
  },
  {
   "cell_type": "code",
   "execution_count": 70,
   "id": "7dc3e75d",
   "metadata": {},
   "outputs": [],
   "source": [
    "class Dog():\n",
    "    \n",
    "    #CLASS OBJECT attribute \n",
    "    #SAME FOR ANY INSTANCE OF A CLASS\n",
    "    \n",
    "    species = 'mammel'\n",
    "    \n",
    "    def __init__(self,breed,name):\n",
    "        \n",
    "        #Attributes\n",
    "        #we take in argument\n",
    "        #Assign it using self.attribute_name\n",
    "        self.breed = breed\n",
    "        self.name = name\n",
    "        \n",
    "    #Operations/Actions ---> Methods\n",
    "    def bark(self,number):\n",
    "        #print(f\"WOLF! My name is {self.name}\")\n",
    "        print(\"WOLF! My name is {} and the number is {}\".format(self.name,number))\n",
    "        "
   ]
  },
  {
   "cell_type": "code",
   "execution_count": 71,
   "id": "ba83c6d5",
   "metadata": {},
   "outputs": [],
   "source": [
    "my_dog = Dog('Lab', 'Tommy')"
   ]
  },
  {
   "cell_type": "code",
   "execution_count": 72,
   "id": "1687361c",
   "metadata": {},
   "outputs": [
    {
     "name": "stdout",
     "output_type": "stream",
     "text": [
      "WOLF! My name is Tommy and the number is 10\n"
     ]
    }
   ],
   "source": [
    "my_dog.bark(10)"
   ]
  },
  {
   "cell_type": "code",
   "execution_count": 111,
   "id": "2704b19b",
   "metadata": {},
   "outputs": [],
   "source": [
    "class Circle():\n",
    "    \n",
    "    pi = 3.14\n",
    "    \n",
    "    def __init__(self,radius=1):\n",
    "        self.radius = radius\n",
    "        #self.area = radius*radius*self.pi OR\n",
    "        self.area = radius*radius*Circle.pi\n",
    "    \n",
    "    def get_circumference(self):\n",
    "        #return 2*self.pi*self.radius OR\n",
    "        return 2*Circle.pi*self.radius"
   ]
  },
  {
   "cell_type": "code",
   "execution_count": 112,
   "id": "58360a93",
   "metadata": {},
   "outputs": [],
   "source": [
    "my_radius=Circle(2)"
   ]
  },
  {
   "cell_type": "code",
   "execution_count": 113,
   "id": "0250553b",
   "metadata": {},
   "outputs": [
    {
     "data": {
      "text/plain": [
       "3.14"
      ]
     },
     "execution_count": 113,
     "metadata": {},
     "output_type": "execute_result"
    }
   ],
   "source": [
    "my_radius.pi"
   ]
  },
  {
   "cell_type": "code",
   "execution_count": 114,
   "id": "f50e74d8",
   "metadata": {},
   "outputs": [
    {
     "data": {
      "text/plain": [
       "2"
      ]
     },
     "execution_count": 114,
     "metadata": {},
     "output_type": "execute_result"
    }
   ],
   "source": [
    "my_radius.radius"
   ]
  },
  {
   "cell_type": "code",
   "execution_count": 115,
   "id": "b9f9a86c",
   "metadata": {},
   "outputs": [
    {
     "data": {
      "text/plain": [
       "12.56"
      ]
     },
     "execution_count": 115,
     "metadata": {},
     "output_type": "execute_result"
    }
   ],
   "source": [
    "my_radius.get_circumference()"
   ]
  },
  {
   "cell_type": "code",
   "execution_count": 116,
   "id": "6750247f",
   "metadata": {},
   "outputs": [
    {
     "data": {
      "text/plain": [
       "12.56"
      ]
     },
     "execution_count": 116,
     "metadata": {},
     "output_type": "execute_result"
    }
   ],
   "source": [
    "my_radius.area"
   ]
  },
  {
   "cell_type": "code",
   "execution_count": 117,
   "id": "d9d31f5e",
   "metadata": {},
   "outputs": [],
   "source": [
    "#Inheritance - reuse code "
   ]
  },
  {
   "cell_type": "code",
   "execution_count": 127,
   "id": "3c29d827",
   "metadata": {},
   "outputs": [],
   "source": [
    "class Animal():\n",
    "    \n",
    "    def __init__(self):\n",
    "        print('Animal Created!')\n",
    "        \n",
    "    def who_am_I(self):\n",
    "        print(\"I'm an Animal\")\n",
    "    \n",
    "    def eat(self):\n",
    "        print('Im eating')"
   ]
  },
  {
   "cell_type": "code",
   "execution_count": 128,
   "id": "1f0873ed",
   "metadata": {},
   "outputs": [
    {
     "name": "stdout",
     "output_type": "stream",
     "text": [
      "Animal Created!\n"
     ]
    }
   ],
   "source": [
    "myanimal = Animal()"
   ]
  },
  {
   "cell_type": "code",
   "execution_count": 129,
   "id": "94fafc7d",
   "metadata": {},
   "outputs": [
    {
     "name": "stdout",
     "output_type": "stream",
     "text": [
      "Im eating\n"
     ]
    }
   ],
   "source": [
    "myanimal.eat()"
   ]
  },
  {
   "cell_type": "code",
   "execution_count": 130,
   "id": "4fe6ecc8",
   "metadata": {},
   "outputs": [
    {
     "name": "stdout",
     "output_type": "stream",
     "text": [
      "I'm an Animal\n"
     ]
    }
   ],
   "source": [
    "myanimal.who_am_I()"
   ]
  },
  {
   "cell_type": "code",
   "execution_count": 146,
   "id": "1629f53b",
   "metadata": {},
   "outputs": [],
   "source": [
    "class Dog(Animal):\n",
    "    \n",
    "    def __init__(self):\n",
    "        Animal.__init__(self)\n",
    "        print('Dog created')\n",
    "        \n",
    "    def eat(self):\n",
    "        print('Im a dog')\n",
    "        \n",
    "    def bark(self):\n",
    "        print('WOLF!')\n",
    "    \n",
    "    "
   ]
  },
  {
   "cell_type": "code",
   "execution_count": 147,
   "id": "07f31d46",
   "metadata": {},
   "outputs": [
    {
     "name": "stdout",
     "output_type": "stream",
     "text": [
      "Animal Created!\n",
      "Dog created\n"
     ]
    }
   ],
   "source": [
    "mydog = Dog()"
   ]
  },
  {
   "cell_type": "code",
   "execution_count": 148,
   "id": "c3a2a9af",
   "metadata": {},
   "outputs": [
    {
     "name": "stdout",
     "output_type": "stream",
     "text": [
      "Im a dog\n"
     ]
    }
   ],
   "source": [
    "mydog.eat()"
   ]
  },
  {
   "cell_type": "code",
   "execution_count": 149,
   "id": "3190c6fc",
   "metadata": {},
   "outputs": [
    {
     "name": "stdout",
     "output_type": "stream",
     "text": [
      "I'm an Animal\n"
     ]
    }
   ],
   "source": [
    "mydog.who_am_I()             #Inherited by Animal class although we didn't defined it in DOG class"
   ]
  },
  {
   "cell_type": "code",
   "execution_count": 150,
   "id": "cffe9e76",
   "metadata": {},
   "outputs": [
    {
     "name": "stdout",
     "output_type": "stream",
     "text": [
      "WOLF!\n"
     ]
    }
   ],
   "source": [
    "mydog.bark()"
   ]
  },
  {
   "cell_type": "code",
   "execution_count": 151,
   "id": "77847f2d",
   "metadata": {},
   "outputs": [],
   "source": [
    "#Polymorphism - Different object can share same method name"
   ]
  },
  {
   "cell_type": "code",
   "execution_count": 161,
   "id": "c918d325",
   "metadata": {},
   "outputs": [],
   "source": [
    "class Donkey():\n",
    "    \n",
    "    def __init__(self,name):\n",
    "        self.name = name \n",
    "    \n",
    "    def speak(self):\n",
    "        return self.name + \"says WOLF!\""
   ]
  },
  {
   "cell_type": "code",
   "execution_count": 162,
   "id": "3335bced",
   "metadata": {},
   "outputs": [],
   "source": [
    "class Cat():\n",
    "    \n",
    "    def __init__(self,name):\n",
    "        self.name = name \n",
    "    \n",
    "    def speak(self):\n",
    "        return self.name + \"says MEOW!\""
   ]
  },
  {
   "cell_type": "code",
   "execution_count": 163,
   "id": "4a9a8a26",
   "metadata": {},
   "outputs": [],
   "source": [
    "my_donkey = Donkey('Tommy')"
   ]
  },
  {
   "cell_type": "code",
   "execution_count": 164,
   "id": "531ceb28",
   "metadata": {},
   "outputs": [],
   "source": [
    "my_cat = Cat('Jimmy')"
   ]
  },
  {
   "cell_type": "code",
   "execution_count": 165,
   "id": "3cc169b7",
   "metadata": {},
   "outputs": [
    {
     "data": {
      "text/plain": [
       "'Tommy'"
      ]
     },
     "execution_count": 165,
     "metadata": {},
     "output_type": "execute_result"
    }
   ],
   "source": [
    "my_donkey.name"
   ]
  },
  {
   "cell_type": "code",
   "execution_count": 167,
   "id": "8ef20ae5",
   "metadata": {},
   "outputs": [
    {
     "data": {
      "text/plain": [
       "'Tommysays WOLF!'"
      ]
     },
     "execution_count": 167,
     "metadata": {},
     "output_type": "execute_result"
    }
   ],
   "source": [
    "my_donkey.speak()"
   ]
  },
  {
   "cell_type": "code",
   "execution_count": 168,
   "id": "c71f6488",
   "metadata": {},
   "outputs": [
    {
     "data": {
      "text/plain": [
       "'Jimmy'"
      ]
     },
     "execution_count": 168,
     "metadata": {},
     "output_type": "execute_result"
    }
   ],
   "source": [
    "my_cat.name"
   ]
  },
  {
   "cell_type": "code",
   "execution_count": 169,
   "id": "beb41c20",
   "metadata": {},
   "outputs": [
    {
     "data": {
      "text/plain": [
       "'Jimmysays MEOW!'"
      ]
     },
     "execution_count": 169,
     "metadata": {},
     "output_type": "execute_result"
    }
   ],
   "source": [
    "my_cat.speak()"
   ]
  },
  {
   "cell_type": "code",
   "execution_count": 170,
   "id": "89b7bb33",
   "metadata": {},
   "outputs": [
    {
     "name": "stdout",
     "output_type": "stream",
     "text": [
      "Tommysays WOLF!\n"
     ]
    }
   ],
   "source": [
    "print(my_donkey.speak())"
   ]
  },
  {
   "cell_type": "code",
   "execution_count": 171,
   "id": "b377cc1c",
   "metadata": {},
   "outputs": [
    {
     "name": "stdout",
     "output_type": "stream",
     "text": [
      "Jimmysays MEOW!\n"
     ]
    }
   ],
   "source": [
    "print(my_cat.speak())"
   ]
  },
  {
   "cell_type": "code",
   "execution_count": 172,
   "id": "04808c82",
   "metadata": {},
   "outputs": [
    {
     "name": "stdout",
     "output_type": "stream",
     "text": [
      "<class '__main__.Donkey'>\n",
      "Tommysays WOLF!\n",
      "<class '__main__.Cat'>\n",
      "Jimmysays MEOW!\n"
     ]
    }
   ],
   "source": [
    "for pet in [my_donkey, my_cat]:\n",
    "    \n",
    "    print(type(pet))\n",
    "    print(pet.speak())"
   ]
  },
  {
   "cell_type": "code",
   "execution_count": 173,
   "id": "93aad2fc",
   "metadata": {},
   "outputs": [],
   "source": [
    "def pet_speak(pet):\n",
    "    \n",
    "    print(pet.speak())"
   ]
  },
  {
   "cell_type": "code",
   "execution_count": 174,
   "id": "323c532d",
   "metadata": {},
   "outputs": [
    {
     "name": "stdout",
     "output_type": "stream",
     "text": [
      "Tommysays WOLF!\n"
     ]
    }
   ],
   "source": [
    "pet_speak(my_donkey)"
   ]
  },
  {
   "cell_type": "code",
   "execution_count": 175,
   "id": "8cbc4d28",
   "metadata": {},
   "outputs": [
    {
     "name": "stdout",
     "output_type": "stream",
     "text": [
      "Jimmysays MEOW!\n"
     ]
    }
   ],
   "source": [
    "pet_speak(my_cat)"
   ]
  },
  {
   "cell_type": "code",
   "execution_count": 176,
   "id": "d017c6df",
   "metadata": {},
   "outputs": [],
   "source": [
    "class Animal():\n",
    "    \n",
    "    def __init__(self,name):\n",
    "        self.name = name \n",
    "    \n",
    "    def speak(self):\n",
    "        raise NotImplementedError(\"Subcalss must need to implement this\")"
   ]
  },
  {
   "cell_type": "code",
   "execution_count": 177,
   "id": "d88ebb82",
   "metadata": {},
   "outputs": [],
   "source": [
    "my_ani = Animal('fred')"
   ]
  },
  {
   "cell_type": "code",
   "execution_count": 179,
   "id": "035b6a16",
   "metadata": {},
   "outputs": [
    {
     "ename": "NotImplementedError",
     "evalue": "sub calss must need to implement this",
     "output_type": "error",
     "traceback": [
      "\u001b[0;31m---------------------------------------------------------------------------\u001b[0m",
      "\u001b[0;31mNotImplementedError\u001b[0m                       Traceback (most recent call last)",
      "Cell \u001b[0;32mIn[179], line 1\u001b[0m\n\u001b[0;32m----> 1\u001b[0m \u001b[43mmy_ani\u001b[49m\u001b[38;5;241;43m.\u001b[39;49m\u001b[43mspeak\u001b[49m\u001b[43m(\u001b[49m\u001b[43m)\u001b[49m\n",
      "Cell \u001b[0;32mIn[176], line 7\u001b[0m, in \u001b[0;36mAnimal.speak\u001b[0;34m(self)\u001b[0m\n\u001b[1;32m      6\u001b[0m \u001b[38;5;28;01mdef\u001b[39;00m \u001b[38;5;21mspeak\u001b[39m(\u001b[38;5;28mself\u001b[39m):\n\u001b[0;32m----> 7\u001b[0m     \u001b[38;5;28;01mraise\u001b[39;00m \u001b[38;5;167;01mNotImplementedError\u001b[39;00m(\u001b[38;5;124m\"\u001b[39m\u001b[38;5;124msub calss must need to implement this\u001b[39m\u001b[38;5;124m\"\u001b[39m)\n",
      "\u001b[0;31mNotImplementedError\u001b[0m: sub calss must need to implement this"
     ]
    }
   ],
   "source": [
    "my_ani.speak()"
   ]
  },
  {
   "cell_type": "code",
   "execution_count": 180,
   "id": "cec062a6",
   "metadata": {},
   "outputs": [],
   "source": [
    "class Dog(Animal):\n",
    "    \n",
    "    def speak(self):\n",
    "        return self.name + \"says MEOW!\""
   ]
  },
  {
   "cell_type": "code",
   "execution_count": 181,
   "id": "e654ff29",
   "metadata": {},
   "outputs": [],
   "source": [
    "class Cat(Animal):\n",
    "    \n",
    "    def speak(self):\n",
    "        return self.name + \"says MEOW!\""
   ]
  },
  {
   "cell_type": "code",
   "execution_count": 183,
   "id": "a4f6317a",
   "metadata": {},
   "outputs": [],
   "source": [
    "catti = Cat('newton')"
   ]
  },
  {
   "cell_type": "code",
   "execution_count": 184,
   "id": "fd9f2057",
   "metadata": {},
   "outputs": [],
   "source": [
    "doggt = Dog('jimmy')"
   ]
  },
  {
   "cell_type": "code",
   "execution_count": 185,
   "id": "6b8d5ba1",
   "metadata": {},
   "outputs": [
    {
     "data": {
      "text/plain": [
       "'jimmy'"
      ]
     },
     "execution_count": 185,
     "metadata": {},
     "output_type": "execute_result"
    }
   ],
   "source": [
    "doggt.name"
   ]
  },
  {
   "cell_type": "code",
   "execution_count": 186,
   "id": "12d11449",
   "metadata": {},
   "outputs": [
    {
     "data": {
      "text/plain": [
       "'jimmysays MEOW!'"
      ]
     },
     "execution_count": 186,
     "metadata": {},
     "output_type": "execute_result"
    }
   ],
   "source": [
    "doggt.speak()"
   ]
  },
  {
   "cell_type": "code",
   "execution_count": 188,
   "id": "de8e6adf",
   "metadata": {},
   "outputs": [
    {
     "data": {
      "text/plain": [
       "'newtonsays MEOW!'"
      ]
     },
     "execution_count": 188,
     "metadata": {},
     "output_type": "execute_result"
    }
   ],
   "source": [
    "catti.speak()"
   ]
  },
  {
   "cell_type": "code",
   "execution_count": 189,
   "id": "185bf022",
   "metadata": {},
   "outputs": [],
   "source": [
    "mylist = [1,2,3]"
   ]
  },
  {
   "cell_type": "code",
   "execution_count": 190,
   "id": "23d4c7be",
   "metadata": {},
   "outputs": [
    {
     "data": {
      "text/plain": [
       "3"
      ]
     },
     "execution_count": 190,
     "metadata": {},
     "output_type": "execute_result"
    }
   ],
   "source": [
    "len(mylist)"
   ]
  },
  {
   "cell_type": "code",
   "execution_count": 191,
   "id": "0f469f05",
   "metadata": {},
   "outputs": [],
   "source": [
    "class Sample():\n",
    "    pass"
   ]
  },
  {
   "cell_type": "code",
   "execution_count": 192,
   "id": "7c25e29f",
   "metadata": {},
   "outputs": [],
   "source": [
    "mysample = Sample()"
   ]
  },
  {
   "cell_type": "code",
   "execution_count": 194,
   "id": "8e3c6435",
   "metadata": {},
   "outputs": [
    {
     "ename": "TypeError",
     "evalue": "object of type 'Sample' has no len()",
     "output_type": "error",
     "traceback": [
      "\u001b[0;31m---------------------------------------------------------------------------\u001b[0m",
      "\u001b[0;31mTypeError\u001b[0m                                 Traceback (most recent call last)",
      "Cell \u001b[0;32mIn[194], line 1\u001b[0m\n\u001b[0;32m----> 1\u001b[0m \u001b[38;5;28;43mlen\u001b[39;49m\u001b[43m(\u001b[49m\u001b[43mmysample\u001b[49m\u001b[43m)\u001b[49m\n",
      "\u001b[0;31mTypeError\u001b[0m: object of type 'Sample' has no len()"
     ]
    }
   ],
   "source": [
    "len(mysample)"
   ]
  },
  {
   "cell_type": "code",
   "execution_count": 195,
   "id": "f3a78ce4",
   "metadata": {},
   "outputs": [
    {
     "name": "stdout",
     "output_type": "stream",
     "text": [
      "<__main__.Sample object at 0x7f9e3448b4f0>\n"
     ]
    }
   ],
   "source": [
    "print(mysample)"
   ]
  },
  {
   "cell_type": "code",
   "execution_count": 196,
   "id": "90bf4ccf",
   "metadata": {},
   "outputs": [
    {
     "name": "stdout",
     "output_type": "stream",
     "text": [
      "[1, 2, 3]\n"
     ]
    }
   ],
   "source": [
    "print(mylist)"
   ]
  },
  {
   "cell_type": "code",
   "execution_count": 197,
   "id": "ec5dd15e",
   "metadata": {},
   "outputs": [],
   "source": [
    "#Magic or Dundar methods"
   ]
  },
  {
   "cell_type": "code",
   "execution_count": 245,
   "id": "c53495f8",
   "metadata": {},
   "outputs": [],
   "source": [
    "class Book():\n",
    "    \n",
    "    def __init__(self,title,author,pages):\n",
    "        self.title = title\n",
    "        self.author = author \n",
    "        self.pages = pages\n",
    "        \n",
    "    def __str__(self):\n",
    "        return f\"{self.title} by {self.author}\"\n",
    "    \n",
    "    def __len__(self):\n",
    "        return self.pages\n",
    "    \n",
    "    def __del__(self):\n",
    "        print('Book has been deleted')"
   ]
  },
  {
   "cell_type": "code",
   "execution_count": 246,
   "id": "9aa5c3d9",
   "metadata": {},
   "outputs": [],
   "source": [
    "b = Book('PythonBook','Aditya',50)"
   ]
  },
  {
   "cell_type": "code",
   "execution_count": 247,
   "id": "659df5bd",
   "metadata": {},
   "outputs": [
    {
     "name": "stdout",
     "output_type": "stream",
     "text": [
      "PythonBook by Aditya\n"
     ]
    }
   ],
   "source": [
    "print(b)"
   ]
  },
  {
   "cell_type": "code",
   "execution_count": 248,
   "id": "c2f7ad70",
   "metadata": {},
   "outputs": [
    {
     "data": {
      "text/plain": [
       "50"
      ]
     },
     "execution_count": 248,
     "metadata": {},
     "output_type": "execute_result"
    }
   ],
   "source": [
    "len(b)"
   ]
  },
  {
   "cell_type": "code",
   "execution_count": 249,
   "id": "c6a777d2",
   "metadata": {},
   "outputs": [
    {
     "name": "stdout",
     "output_type": "stream",
     "text": [
      "Book has been deleted\n"
     ]
    }
   ],
   "source": [
    "del b"
   ]
  },
  {
   "cell_type": "code",
   "execution_count": 250,
   "id": "5ddaf20c",
   "metadata": {},
   "outputs": [
    {
     "ename": "SyntaxError",
     "evalue": "invalid syntax (149021408.py, line 1)",
     "output_type": "error",
     "traceback": [
      "\u001b[0;36m  Cell \u001b[0;32mIn[250], line 1\u001b[0;36m\u001b[0m\n\u001b[0;31m    b.del\u001b[0m\n\u001b[0m      ^\u001b[0m\n\u001b[0;31mSyntaxError\u001b[0m\u001b[0;31m:\u001b[0m invalid syntax\n"
     ]
    }
   ],
   "source": [
    "b.del"
   ]
  },
  {
   "cell_type": "code",
   "execution_count": 270,
   "id": "c81eef58",
   "metadata": {},
   "outputs": [],
   "source": [
    "class Line:\n",
    "    \n",
    "    def __init__(self,coor1,coor2):\n",
    "        self.coor1 = coor1\n",
    "        self.coor2 = coor2\n",
    "    \n",
    "    def distance(self):\n",
    "        \n",
    "        #or\n",
    "        #x1,y1 = self.coor1\n",
    "        #x2,y2 = self.coor2\n",
    "        d = ((self.coor2[0]-self.coor1[0])**2 + (self.coor2[1]-self.coor1[1])**2)**0.5\n",
    "        return d\n",
    "    \n",
    "    def slope(self):\n",
    "        m = (self.coor2[1]-self.coor1[1])/(self.coor2[0]-self.coor1[0])\n",
    "        return m\n"
   ]
  },
  {
   "cell_type": "code",
   "execution_count": 271,
   "id": "cb55ab56",
   "metadata": {},
   "outputs": [],
   "source": [
    "coordinate1 = (3,2)\n",
    "coordinate2 = (8,10)\n",
    "\n",
    "li = Line(coordinate1,coordinate2)"
   ]
  },
  {
   "cell_type": "code",
   "execution_count": 272,
   "id": "3f4c1286",
   "metadata": {},
   "outputs": [
    {
     "data": {
      "text/plain": [
       "9.433981132056603"
      ]
     },
     "execution_count": 272,
     "metadata": {},
     "output_type": "execute_result"
    }
   ],
   "source": [
    "li.distance()"
   ]
  },
  {
   "cell_type": "code",
   "execution_count": 273,
   "id": "25939258",
   "metadata": {},
   "outputs": [
    {
     "data": {
      "text/plain": [
       "1.6"
      ]
     },
     "execution_count": 273,
     "metadata": {},
     "output_type": "execute_result"
    }
   ],
   "source": [
    "li.slope()"
   ]
  },
  {
   "cell_type": "code",
   "execution_count": 274,
   "id": "e794b2ad",
   "metadata": {},
   "outputs": [
    {
     "data": {
      "text/plain": [
       "-1"
      ]
     },
     "execution_count": 274,
     "metadata": {},
     "output_type": "execute_result"
    }
   ],
   "source": [
    "-1**2"
   ]
  },
  {
   "cell_type": "code",
   "execution_count": 275,
   "id": "dd2e418e",
   "metadata": {},
   "outputs": [
    {
     "data": {
      "text/plain": [
       "4"
      ]
     },
     "execution_count": 275,
     "metadata": {},
     "output_type": "execute_result"
    }
   ],
   "source": [
    "2**2"
   ]
  },
  {
   "cell_type": "code",
   "execution_count": 276,
   "id": "ef98cb84",
   "metadata": {},
   "outputs": [
    {
     "data": {
      "text/plain": [
       "3"
      ]
     },
     "execution_count": 276,
     "metadata": {},
     "output_type": "execute_result"
    }
   ],
   "source": [
    "4-1"
   ]
  },
  {
   "cell_type": "code",
   "execution_count": 277,
   "id": "d5f0e6ac",
   "metadata": {},
   "outputs": [
    {
     "data": {
      "text/plain": [
       "1.7320508075688772"
      ]
     },
     "execution_count": 277,
     "metadata": {},
     "output_type": "execute_result"
    }
   ],
   "source": [
    "3**0.5"
   ]
  },
  {
   "cell_type": "code",
   "execution_count": 279,
   "id": "fc6883b9",
   "metadata": {},
   "outputs": [],
   "source": [
    "class Cylinder:\n",
    "    \n",
    "    pi = 3.14\n",
    "    \n",
    "    def __init__(self,height=1,radius=1):\n",
    "        self.height = height\n",
    "        self.radius = radius \n",
    "        \n",
    "    def volume(self):\n",
    "        V = Cylinder.pi*(self.radius**2)*self.height\n",
    "        return V\n",
    "    \n",
    "    def surface_area(self):\n",
    "        A=(2*Cylinder.pi*self.radius*self.height)+(2*Cylinder.pi*(self.radius**2))\n",
    "        return A"
   ]
  },
  {
   "cell_type": "code",
   "execution_count": 281,
   "id": "165bc990",
   "metadata": {},
   "outputs": [],
   "source": [
    "c = Cylinder(2,3)"
   ]
  },
  {
   "cell_type": "code",
   "execution_count": 282,
   "id": "bc40dbc1",
   "metadata": {},
   "outputs": [
    {
     "data": {
      "text/plain": [
       "56.52"
      ]
     },
     "execution_count": 282,
     "metadata": {},
     "output_type": "execute_result"
    }
   ],
   "source": [
    "c.volume()"
   ]
  },
  {
   "cell_type": "code",
   "execution_count": 283,
   "id": "68622955",
   "metadata": {},
   "outputs": [
    {
     "data": {
      "text/plain": [
       "94.2"
      ]
     },
     "execution_count": 283,
     "metadata": {},
     "output_type": "execute_result"
    }
   ],
   "source": [
    "c.surface_area()"
   ]
  },
  {
   "cell_type": "code",
   "execution_count": 315,
   "id": "eb252afd",
   "metadata": {},
   "outputs": [],
   "source": [
    "class Account:\n",
    "    \n",
    "    def __init__(self,owner,balance):\n",
    "        self.owner = owner\n",
    "        self.balance = balance \n",
    "    \n",
    "    def __str__(self):\n",
    "        return f\"Account owner :{self.owner} \\nAccount balance :${self.balance}\"\n",
    "    \n",
    "    def deposit(self,amount):\n",
    "        self.amount = amount\n",
    "        self.balance = self.balance + self.amount\n",
    "        print(f\"Deposted {self.amount} to the account and final balance is {self.balance}\")\n",
    "        \n",
    "    def withdraw(self,amount):\n",
    "        self.amount = amount\n",
    "        if self.amount>self.balance:\n",
    "            print('Funds Unavailable!')\n",
    "        else:\n",
    "            self.balance = self.balance - self.amount\n",
    "            print(f\"Withdraw of {self.amount} from the account is succesful and final balance is {self.balance}\")"
   ]
  },
  {
   "cell_type": "code",
   "execution_count": 316,
   "id": "e3501a8c",
   "metadata": {},
   "outputs": [],
   "source": [
    "accnt = Account('Jose',100)"
   ]
  },
  {
   "cell_type": "code",
   "execution_count": 317,
   "id": "96f3ed08",
   "metadata": {},
   "outputs": [
    {
     "name": "stdout",
     "output_type": "stream",
     "text": [
      "Account owner :Jose \n",
      "Account balance :$100\n"
     ]
    }
   ],
   "source": [
    "print(accnt)"
   ]
  },
  {
   "cell_type": "code",
   "execution_count": 318,
   "id": "05f0ba9a",
   "metadata": {},
   "outputs": [
    {
     "name": "stdout",
     "output_type": "stream",
     "text": [
      "Deposted 100 to the account and final balance is 200\n"
     ]
    }
   ],
   "source": [
    "accnt.deposit(100)"
   ]
  },
  {
   "cell_type": "code",
   "execution_count": 320,
   "id": "39403690",
   "metadata": {},
   "outputs": [
    {
     "name": "stdout",
     "output_type": "stream",
     "text": [
      "Withdraw of 100 from the account is succesful and final balance is 100\n"
     ]
    }
   ],
   "source": [
    "accnt.withdraw(100)"
   ]
  },
  {
   "cell_type": "code",
   "execution_count": 321,
   "id": "eead865d",
   "metadata": {},
   "outputs": [
    {
     "name": "stdout",
     "output_type": "stream",
     "text": [
      "Deposted 1000 to the account and final balance is 1100\n"
     ]
    }
   ],
   "source": [
    "accnt.deposit(1000)"
   ]
  },
  {
   "cell_type": "code",
   "execution_count": 322,
   "id": "4a04e9b5",
   "metadata": {},
   "outputs": [
    {
     "name": "stdout",
     "output_type": "stream",
     "text": [
      "Withdraw of 500 from the account is succesful and final balance is 600\n"
     ]
    }
   ],
   "source": [
    "accnt.withdraw(500)"
   ]
  },
  {
   "cell_type": "code",
   "execution_count": 323,
   "id": "b5e90241",
   "metadata": {},
   "outputs": [
    {
     "data": {
      "text/plain": [
       "'Jose'"
      ]
     },
     "execution_count": 323,
     "metadata": {},
     "output_type": "execute_result"
    }
   ],
   "source": [
    "accnt.owner"
   ]
  },
  {
   "cell_type": "code",
   "execution_count": 324,
   "id": "6831017f",
   "metadata": {},
   "outputs": [
    {
     "data": {
      "text/plain": [
       "600"
      ]
     },
     "execution_count": 324,
     "metadata": {},
     "output_type": "execute_result"
    }
   ],
   "source": [
    "accnt.balance"
   ]
  },
  {
   "cell_type": "code",
   "execution_count": 325,
   "id": "30d22eb2",
   "metadata": {},
   "outputs": [
    {
     "ename": "SyntaxError",
     "evalue": "invalid syntax (2598339086.py, line 1)",
     "output_type": "error",
     "traceback": [
      "\u001b[0;36m  Cell \u001b[0;32mIn[325], line 1\u001b[0;36m\u001b[0m\n\u001b[0;31m    */ (base) adityas-MacBook-Air:~ adityapidikiti$ pip install colorama\u001b[0m\n\u001b[0m     ^\u001b[0m\n\u001b[0;31mSyntaxError\u001b[0m\u001b[0;31m:\u001b[0m invalid syntax\n"
     ]
    }
   ],
   "source": []
  },
  {
   "cell_type": "code",
   "execution_count": null,
   "id": "f64a784a",
   "metadata": {},
   "outputs": [],
   "source": []
  }
 ],
 "metadata": {
  "kernelspec": {
   "display_name": "Python 3 (ipykernel)",
   "language": "python",
   "name": "python3"
  },
  "language_info": {
   "codemirror_mode": {
    "name": "ipython",
    "version": 3
   },
   "file_extension": ".py",
   "mimetype": "text/x-python",
   "name": "python",
   "nbconvert_exporter": "python",
   "pygments_lexer": "ipython3",
   "version": "3.10.9"
  }
 },
 "nbformat": 4,
 "nbformat_minor": 5
}
