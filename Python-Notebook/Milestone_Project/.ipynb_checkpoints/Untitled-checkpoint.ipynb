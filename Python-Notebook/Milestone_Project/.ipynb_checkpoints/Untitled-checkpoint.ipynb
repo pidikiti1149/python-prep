{
 "cells": [
  {
   "cell_type": "code",
   "execution_count": 22,
   "id": "a34a24f3",
   "metadata": {},
   "outputs": [
    {
     "name": "stdout",
     "output_type": "stream",
     "text": [
      "[1, 2, 3]\n"
     ]
    }
   ],
   "source": [
    "print([1,2,3])"
   ]
  },
  {
   "cell_type": "code",
   "execution_count": 23,
   "id": "1277ec9c",
   "metadata": {},
   "outputs": [],
   "source": [
    "def display (row1,row2,row3):                 #Deisplaying Information\n",
    "    print(row1)\n",
    "    print(row2)\n",
    "    print(row3)"
   ]
  },
  {
   "cell_type": "code",
   "execution_count": 24,
   "id": "921c621f",
   "metadata": {},
   "outputs": [
    {
     "name": "stdout",
     "output_type": "stream",
     "text": [
      "[' ', ' ', ' ']\n",
      "[' ', ' ', ' ']\n",
      "[' ', ' ', ' ']\n"
     ]
    }
   ],
   "source": [
    "row1 = [' ', ' ', ' ']\n",
    "row2 = [' ', ' ', ' ']\n",
    "row3 = [' ', ' ', ' ']\n",
    "\n",
    "display(row1,row2,row3 )"
   ]
  },
  {
   "cell_type": "code",
   "execution_count": 25,
   "id": "96b1e2dc",
   "metadata": {},
   "outputs": [],
   "source": [
    "row2[0] = 'x'"
   ]
  },
  {
   "cell_type": "code",
   "execution_count": 26,
   "id": "7de42e7f",
   "metadata": {},
   "outputs": [
    {
     "name": "stdout",
     "output_type": "stream",
     "text": [
      "[' ', ' ', ' ']\n",
      "['x', ' ', ' ']\n",
      "[' ', ' ', ' ']\n"
     ]
    }
   ],
   "source": [
    "display(row1,row2,row3 )"
   ]
  },
  {
   "cell_type": "code",
   "execution_count": 27,
   "id": "7a468873",
   "metadata": {},
   "outputs": [],
   "source": [
    "# Accepting User Input"
   ]
  },
  {
   "cell_type": "code",
   "execution_count": 28,
   "id": "780de12a",
   "metadata": {},
   "outputs": [
    {
     "name": "stdout",
     "output_type": "stream",
     "text": [
      "Please enter a value: 3\n"
     ]
    },
    {
     "data": {
      "text/plain": [
       "'3'"
      ]
     },
     "execution_count": 28,
     "metadata": {},
     "output_type": "execute_result"
    }
   ],
   "source": [
    "input(\"Please enter a value: \")            #input function always returns a string "
   ]
  },
  {
   "cell_type": "code",
   "execution_count": 29,
   "id": "1c112504",
   "metadata": {},
   "outputs": [
    {
     "name": "stdout",
     "output_type": "stream",
     "text": [
      "Please enter a value: 3\n"
     ]
    }
   ],
   "source": [
    "result = input(\"Please enter a value: \")"
   ]
  },
  {
   "cell_type": "code",
   "execution_count": 30,
   "id": "99e809ab",
   "metadata": {},
   "outputs": [
    {
     "data": {
      "text/plain": [
       "'3'"
      ]
     },
     "execution_count": 30,
     "metadata": {},
     "output_type": "execute_result"
    }
   ],
   "source": [
    "result"
   ]
  },
  {
   "cell_type": "code",
   "execution_count": 31,
   "id": "e7f8a074",
   "metadata": {},
   "outputs": [
    {
     "data": {
      "text/plain": [
       "str"
      ]
     },
     "execution_count": 31,
     "metadata": {},
     "output_type": "execute_result"
    }
   ],
   "source": [
    "type(result)"
   ]
  },
  {
   "cell_type": "code",
   "execution_count": 32,
   "id": "cd84d118",
   "metadata": {},
   "outputs": [
    {
     "name": "stdout",
     "output_type": "stream",
     "text": [
      "Please enter a value: 3\n"
     ]
    }
   ],
   "source": [
    "result = int(input(\"Please enter a value: \"))              #conver the number to int from string"
   ]
  },
  {
   "cell_type": "code",
   "execution_count": 33,
   "id": "651764ce",
   "metadata": {},
   "outputs": [
    {
     "data": {
      "text/plain": [
       "3"
      ]
     },
     "execution_count": 33,
     "metadata": {},
     "output_type": "execute_result"
    }
   ],
   "source": [
    "result"
   ]
  },
  {
   "cell_type": "code",
   "execution_count": 34,
   "id": "cc126dcf",
   "metadata": {},
   "outputs": [
    {
     "ename": "IndexError",
     "evalue": "list index out of range",
     "output_type": "error",
     "traceback": [
      "\u001b[0;31m---------------------------------------------------------------------------\u001b[0m",
      "\u001b[0;31mIndexError\u001b[0m                                Traceback (most recent call last)",
      "Cell \u001b[0;32mIn[34], line 1\u001b[0m\n\u001b[0;32m----> 1\u001b[0m \u001b[43mrow1\u001b[49m\u001b[43m[\u001b[49m\u001b[43mresult\u001b[49m\u001b[43m]\u001b[49m\n",
      "\u001b[0;31mIndexError\u001b[0m: list index out of range"
     ]
    }
   ],
   "source": [
    "row1[result]                 #Assigning input to row position"
   ]
  },
  {
   "cell_type": "code",
   "execution_count": null,
   "id": "375b7fa5",
   "metadata": {},
   "outputs": [],
   "source": [
    "result = int(input(\"Please enter a value: \"))"
   ]
  },
  {
   "cell_type": "code",
   "execution_count": null,
   "id": "991abc3d",
   "metadata": {},
   "outputs": [],
   "source": [
    "20+20"
   ]
  },
  {
   "cell_type": "code",
   "execution_count": null,
   "id": "4bf75c00",
   "metadata": {},
   "outputs": [],
   "source": [
    "#Validating user input"
   ]
  },
  {
   "cell_type": "code",
   "execution_count": 35,
   "id": "9bd04bf5",
   "metadata": {},
   "outputs": [],
   "source": [
    "def user_choice():\n",
    "    \n",
    "    choice = input(\"Please enter a number between (0-10): \")\n",
    "    return int(choice)"
   ]
  },
  {
   "cell_type": "code",
   "execution_count": 36,
   "id": "097921b7",
   "metadata": {},
   "outputs": [
    {
     "name": "stdout",
     "output_type": "stream",
     "text": [
      "Please enter a number between (0-10): \n"
     ]
    },
    {
     "ename": "ValueError",
     "evalue": "invalid literal for int() with base 10: ''",
     "output_type": "error",
     "traceback": [
      "\u001b[0;31m---------------------------------------------------------------------------\u001b[0m",
      "\u001b[0;31mValueError\u001b[0m                                Traceback (most recent call last)",
      "Cell \u001b[0;32mIn[36], line 1\u001b[0m\n\u001b[0;32m----> 1\u001b[0m \u001b[43muser_choice\u001b[49m\u001b[43m(\u001b[49m\u001b[43m)\u001b[49m\n",
      "Cell \u001b[0;32mIn[35], line 4\u001b[0m, in \u001b[0;36muser_choice\u001b[0;34m()\u001b[0m\n\u001b[1;32m      1\u001b[0m \u001b[38;5;28;01mdef\u001b[39;00m \u001b[38;5;21muser_choice\u001b[39m():\n\u001b[1;32m      3\u001b[0m     choice \u001b[38;5;241m=\u001b[39m \u001b[38;5;28minput\u001b[39m(\u001b[38;5;124m\"\u001b[39m\u001b[38;5;124mPlease enter a number between (0-10): \u001b[39m\u001b[38;5;124m\"\u001b[39m)\n\u001b[0;32m----> 4\u001b[0m     \u001b[38;5;28;01mreturn\u001b[39;00m \u001b[38;5;28;43mint\u001b[39;49m\u001b[43m(\u001b[49m\u001b[43mchoice\u001b[49m\u001b[43m)\u001b[49m\n",
      "\u001b[0;31mValueError\u001b[0m: invalid literal for int() with base 10: ''"
     ]
    }
   ],
   "source": [
    "user_choice()"
   ]
  },
  {
   "cell_type": "code",
   "execution_count": 37,
   "id": "ff2db109",
   "metadata": {},
   "outputs": [],
   "source": [
    "\n",
    "def user_choice():\n",
    "    \n",
    "    choice = 'WRONG'\n",
    "    \n",
    "    while choice.isdigit()== False:\n",
    "        choice = input(\"Please enter a number between (0-10): \")\n",
    "        \n",
    "        if choice.isdigit()== False:\n",
    "            print('Sorry you enterd the worng number!')\n",
    "    return int(choice)"
   ]
  },
  {
   "cell_type": "code",
   "execution_count": 38,
   "id": "800c19e0",
   "metadata": {},
   "outputs": [
    {
     "name": "stdout",
     "output_type": "stream",
     "text": [
      "Please enter a number between (0-10): \n",
      "Sorry you enterd the worng number!\n",
      "Please enter a number between (0-10): \n",
      "Sorry you enterd the worng number!\n",
      "Please enter a number between (0-10): \n",
      "Sorry you enterd the worng number!\n",
      "Please enter a number between (0-10): \n",
      "Sorry you enterd the worng number!\n",
      "Please enter a number between (0-10): \n",
      "Sorry you enterd the worng number!\n",
      "Please enter a number between (0-10): 2\n"
     ]
    },
    {
     "data": {
      "text/plain": [
       "2"
      ]
     },
     "execution_count": 38,
     "metadata": {},
     "output_type": "execute_result"
    }
   ],
   "source": [
    "user_choice()"
   ]
  },
  {
   "cell_type": "code",
   "execution_count": 39,
   "id": "3a41da21",
   "metadata": {},
   "outputs": [],
   "source": [
    "result = 'WRONG'"
   ]
  },
  {
   "cell_type": "code",
   "execution_count": 40,
   "id": "38ddf177",
   "metadata": {},
   "outputs": [],
   "source": [
    "acceptable_values = range(0,12)"
   ]
  },
  {
   "cell_type": "code",
   "execution_count": 41,
   "id": "9ab35c89",
   "metadata": {},
   "outputs": [
    {
     "data": {
      "text/plain": [
       "False"
      ]
     },
     "execution_count": 41,
     "metadata": {},
     "output_type": "execute_result"
    }
   ],
   "source": [
    "result in acceptable_values"
   ]
  },
  {
   "cell_type": "code",
   "execution_count": 42,
   "id": "f772fe60",
   "metadata": {},
   "outputs": [],
   "source": [
    "def user_choice():\n",
    "    # Variables \n",
    "    \n",
    "    # Initial\n",
    "    choice = 'WRONG'\n",
    "    acceptable_range = range(0,11)\n",
    "    within_range = False\n",
    "    \n",
    "    while choice.isdigit()== False or within_range == False :\n",
    "        choice = input(\"Please enter a number between (0-10): \")\n",
    "        \n",
    "        #DIGIT CHECK\n",
    "        if choice.isdigit()== False:\n",
    "            print('Sorry you enterd the worng number!')\n",
    "        \n",
    "        if choice.isdigit()== True:\n",
    "            if int(choice) in acceptable_range:\n",
    "                within_range = True\n",
    "            else:\n",
    "                print('Sorry Please enter values between 0 and 10')\n",
    "                within_range = False\n",
    "                \n",
    "    return int(choice)"
   ]
  },
  {
   "cell_type": "code",
   "execution_count": 43,
   "id": "945e6a9d",
   "metadata": {},
   "outputs": [
    {
     "name": "stdout",
     "output_type": "stream",
     "text": [
      "Please enter a number between (0-10): \n",
      "Sorry you enterd the worng number!\n",
      "Please enter a number between (0-10): \n",
      "Sorry you enterd the worng number!\n",
      "Please enter a number between (0-10): \n",
      "Sorry you enterd the worng number!\n",
      "Please enter a number between (0-10): \n",
      "Sorry you enterd the worng number!\n",
      "Please enter a number between (0-10): \n",
      "Sorry you enterd the worng number!\n",
      "Please enter a number between (0-10): 1\n"
     ]
    },
    {
     "data": {
      "text/plain": [
       "1"
      ]
     },
     "execution_count": 43,
     "metadata": {},
     "output_type": "execute_result"
    }
   ],
   "source": [
    "user_choice()"
   ]
  },
  {
   "cell_type": "code",
   "execution_count": 44,
   "id": "93611399",
   "metadata": {},
   "outputs": [],
   "source": [
    "#simple User Interaction"
   ]
  },
  {
   "cell_type": "code",
   "execution_count": 45,
   "id": "8381ef79",
   "metadata": {},
   "outputs": [],
   "source": [
    "def display_game(game_list):\n",
    "    print('Here is the current list: ')\n",
    "    print(game_list)"
   ]
  },
  {
   "cell_type": "code",
   "execution_count": 46,
   "id": "3635cbe0",
   "metadata": {},
   "outputs": [
    {
     "name": "stdout",
     "output_type": "stream",
     "text": [
      "Here is the current list: \n",
      "[0, 1, 2]\n"
     ]
    }
   ],
   "source": [
    "game_list = [0,1,2]\n",
    "display_game(game_list)"
   ]
  },
  {
   "cell_type": "code",
   "execution_count": 47,
   "id": "f2bdbe1f",
   "metadata": {},
   "outputs": [],
   "source": [
    "def position_choice():\n",
    "    \n",
    "    choice = 'WRONG'\n",
    "    \n",
    "    while choice not in ['0', '1', '2']:\n",
    "        \n",
    "        choice = input(\"pick a position (0,1,2): \")\n",
    "        \n",
    "        if choice not in ['0', '1', '2']:\n",
    "            print('Sorry Invalid choice')\n",
    "    return int(choice)"
   ]
  },
  {
   "cell_type": "code",
   "execution_count": 48,
   "id": "c66bbb7a",
   "metadata": {},
   "outputs": [
    {
     "name": "stdout",
     "output_type": "stream",
     "text": [
      "pick a position (0,1,2): \n",
      "Sorry Invalid choice\n",
      "pick a position (0,1,2): 1\n"
     ]
    },
    {
     "data": {
      "text/plain": [
       "1"
      ]
     },
     "execution_count": 48,
     "metadata": {},
     "output_type": "execute_result"
    }
   ],
   "source": [
    " position_choice()"
   ]
  },
  {
   "cell_type": "code",
   "execution_count": 49,
   "id": "8afe4b21",
   "metadata": {},
   "outputs": [],
   "source": [
    "def replacement_value(game_list, position):\n",
    "    \n",
    "    user_placement = input(\"Type a string to place a position: \")\n",
    "    \n",
    "    game_list[position] = user_placement\n",
    "    \n",
    "    return game_list"
   ]
  },
  {
   "cell_type": "code",
   "execution_count": 50,
   "id": "f975f697",
   "metadata": {},
   "outputs": [
    {
     "name": "stdout",
     "output_type": "stream",
     "text": [
      "Type a string to place a position: \n"
     ]
    },
    {
     "data": {
      "text/plain": [
       "[0, '', 2]"
      ]
     },
     "execution_count": 50,
     "metadata": {},
     "output_type": "execute_result"
    }
   ],
   "source": [
    "replacement_value(game_list, 1)"
   ]
  },
  {
   "cell_type": "code",
   "execution_count": 51,
   "id": "ba5c2f48",
   "metadata": {},
   "outputs": [],
   "source": [
    "def gameon_choice():\n",
    "    \n",
    "    choice = 'WRONG'\n",
    "    \n",
    "    while choice not in ['Y','N']:\n",
    "        \n",
    "        choice = input(\"Keep Playing? (Y or N): \")\n",
    "        \n",
    "        if choice not in ['Y','N']:\n",
    "            print('Sorry choose between Y or N')\n",
    "        \n",
    "    if choice == \"Y\":\n",
    "        return True\n",
    "    else:\n",
    "        return False"
   ]
  },
  {
   "cell_type": "code",
   "execution_count": 52,
   "id": "c45e2352",
   "metadata": {},
   "outputs": [
    {
     "name": "stdout",
     "output_type": "stream",
     "text": [
      "Keep Playing? (Y or N): Y\n"
     ]
    },
    {
     "data": {
      "text/plain": [
       "True"
      ]
     },
     "execution_count": 52,
     "metadata": {},
     "output_type": "execute_result"
    }
   ],
   "source": [
    "gameon_choice()"
   ]
  },
  {
   "cell_type": "code",
   "execution_count": 53,
   "id": "9a67080d",
   "metadata": {},
   "outputs": [
    {
     "name": "stdout",
     "output_type": "stream",
     "text": [
      "Here is the current list: \n",
      "[0, 1, 2]\n",
      "pick a position (0,1,2): \n",
      "Sorry Invalid choice\n",
      "pick a position (0,1,2): )\n",
      "Sorry Invalid choice\n",
      "pick a position (0,1,2): \n",
      "Sorry Invalid choice\n",
      "pick a position (0,1,2): 0\n",
      "Type a string to place a position: tree\n",
      "Here is the current list: \n",
      "['tree', 1, 2]\n",
      "Keep Playing? (Y or N): N\n"
     ]
    }
   ],
   "source": [
    "game_on = True \n",
    "game_list = [0,1,2]\n",
    "\n",
    "while game_on: \n",
    "    \n",
    "    display_game(game_list)\n",
    "    \n",
    "    position = position_choice()\n",
    "    \n",
    "    game_list = replacement_value(game_list, position)\n",
    "    \n",
    "    display_game(game_list)\n",
    "    \n",
    "    game_on = gameon_choice()"
   ]
  },
  {
   "cell_type": "code",
   "execution_count": 54,
   "id": "73b8a281",
   "metadata": {},
   "outputs": [],
   "source": [
    "def play_game():\n",
    "    \n",
    "    game_list = [0,1,2]\n",
    "    \n",
    "    game_on = [True, False]\n",
    "    \n",
    "    for x in game_on:\n",
    "        game_on = gameon_choice()\n",
    "        if game_on == True:\n",
    "            display_game(game_list)\n",
    "            position = position_choice()\n",
    "            replacement_value(game_list, position)\n",
    "            display_game(game_list)\n",
    "            \n",
    "    \n",
    "    \n",
    "        \n",
    "        \n",
    "        \n",
    "        \n",
    "        \n",
    "        \n",
    "        \n",
    "        \n",
    "        \n",
    "        \n",
    "    "
   ]
  },
  {
   "cell_type": "code",
   "execution_count": 55,
   "id": "ecf3afa7",
   "metadata": {},
   "outputs": [
    {
     "name": "stdout",
     "output_type": "stream",
     "text": [
      "Keep Playing? (Y or N): Y\n",
      "Here is the current list: \n",
      "[0, 1, 2]\n",
      "pick a position (0,1,2): 0\n",
      "Type a string to place a position: tree\n",
      "Here is the current list: \n",
      "['tree', 1, 2]\n",
      "Keep Playing? (Y or N): Y\n",
      "Here is the current list: \n",
      "['tree', 1, 2]\n",
      "pick a position (0,1,2): 1\n",
      "Type a string to place a position: hello\n",
      "Here is the current list: \n",
      "['tree', 'hello', 2]\n"
     ]
    }
   ],
   "source": [
    "play_game()"
   ]
  },
  {
   "cell_type": "code",
   "execution_count": 1,
   "id": "ab12531a",
   "metadata": {},
   "outputs": [],
   "source": [
    "from IPython.display import clear_output\n",
    "\n",
    "def display_board(board):\n",
    "    print(board[7]+'|'+board[8]+'|'+board[9])\n",
    "    print(board[4]+'|'+board[5]+'|'+board[6])\n",
    "    print(board[1]+'|'+board[2]+'|'+board[3])"
   ]
  },
  {
   "cell_type": "code",
   "execution_count": 2,
   "id": "241100a1",
   "metadata": {},
   "outputs": [
    {
     "name": "stdout",
     "output_type": "stream",
     "text": [
      " | | \n",
      " | | \n",
      " | | \n"
     ]
    }
   ],
   "source": [
    "test_board = [' ']*10\n",
    "display_board(test_board)"
   ]
  },
  {
   "cell_type": "code",
   "execution_count": 3,
   "id": "d425406f",
   "metadata": {},
   "outputs": [],
   "source": [
    "def player_input():\n",
    "    \n",
    "    marker = ''\n",
    "    \n",
    "    while marker != 'X' and marker != 'O':\n",
    "        marker = input(\"Player Please choose either X or 0: \")\n",
    "        \n",
    "        if marker != 'X' and marker != 'O':\n",
    "            print(\"Sorry choose either X or O\")\n",
    "    \n",
    "    player1 = marker \n",
    "    \n",
    "    if player1 == 'X':\n",
    "        player2 = 'O'\n",
    "    else:\n",
    "        player2 = 'X'\n",
    "        \n",
    "    return(player1,player2)"
   ]
  },
  {
   "cell_type": "code",
   "execution_count": 4,
   "id": "91927d17",
   "metadata": {},
   "outputs": [
    {
     "name": "stdout",
     "output_type": "stream",
     "text": [
      "Player Please choose either X or 0: X\n",
      "('X', 'O')\n"
     ]
    }
   ],
   "source": [
    "marker = player_input()\n",
    "\n",
    "print (marker)"
   ]
  },
  {
   "cell_type": "code",
   "execution_count": 5,
   "id": "4b7a424d",
   "metadata": {},
   "outputs": [],
   "source": [
    "def place_marker(board, marker, position):\n",
    "        \n",
    "    board[position] = marker\n",
    "    "
   ]
  },
  {
   "cell_type": "code",
   "execution_count": 6,
   "id": "4c0a634e",
   "metadata": {},
   "outputs": [
    {
     "name": "stdout",
     "output_type": "stream",
     "text": [
      "X|X| \n",
      "X|X|X\n",
      "X|X|X\n"
     ]
    }
   ],
   "source": [
    "test_board = [' ']*10\n",
    "list_1= [0,1,2,3,4,5,6,7,8,]\n",
    "\n",
    "for x in list_1:\n",
    "    place_marker(test_board,'X', x)\n",
    "\n",
    "\n",
    "display_board(test_board)\n",
    "    "
   ]
  },
  {
   "cell_type": "code",
   "execution_count": 7,
   "id": "79100561",
   "metadata": {},
   "outputs": [],
   "source": [
    "def win_check(board, mark):\n",
    "    \n",
    "    if board[1] == board[2] == board [3] == mark:\n",
    "        return True\n",
    "    elif board[4] == board[5] == board [6] == mark:\n",
    "        return True \n",
    "    elif board[7] == board[8] == board [9] == mark:\n",
    "        return True \n",
    "    elif board[1] == board[5] == board [9] == mark:\n",
    "        return True \n",
    "    elif board[3] == board[5] == board [7] == mark:\n",
    "        return True \n",
    "    else:\n",
    "        return False"
   ]
  },
  {
   "cell_type": "code",
   "execution_count": 8,
   "id": "2c3166c8",
   "metadata": {},
   "outputs": [
    {
     "data": {
      "text/plain": [
       "False"
      ]
     },
     "execution_count": 8,
     "metadata": {},
     "output_type": "execute_result"
    }
   ],
   "source": [
    "win_check(test_board,'O')"
   ]
  },
  {
   "cell_type": "code",
   "execution_count": 9,
   "id": "28e9d009",
   "metadata": {},
   "outputs": [
    {
     "data": {
      "text/plain": [
       "['X', 'X', 'X', 'X', 'X', 'X', 'X', 'X', 'X', ' ']"
      ]
     },
     "execution_count": 9,
     "metadata": {},
     "output_type": "execute_result"
    }
   ],
   "source": [
    "test_board"
   ]
  },
  {
   "cell_type": "code",
   "execution_count": 10,
   "id": "17d7e5db",
   "metadata": {},
   "outputs": [],
   "source": [
    "import random\n",
    "\n",
    "def choose_first():\n",
    "    flip = random.randint(0,1) \n",
    "    if flip == 0 :\n",
    "        print('Player1 Go first')\n",
    "    else:\n",
    "        print('Player2 Go first')"
   ]
  },
  {
   "cell_type": "code",
   "execution_count": 11,
   "id": "5d83b0a7",
   "metadata": {},
   "outputs": [
    {
     "name": "stdout",
     "output_type": "stream",
     "text": [
      "Player1 Go first\n"
     ]
    }
   ],
   "source": [
    "choose_first()"
   ]
  },
  {
   "cell_type": "code",
   "execution_count": 12,
   "id": "c28be58d",
   "metadata": {},
   "outputs": [],
   "source": [
    "def space_check(board, position):\n",
    "    \n",
    "    if board[position] == ' ' or board[position] == '':\n",
    "        return True\n",
    "    else:\n",
    "        return False"
   ]
  },
  {
   "cell_type": "code",
   "execution_count": 13,
   "id": "44933ba7",
   "metadata": {},
   "outputs": [
    {
     "data": {
      "text/plain": [
       "False"
      ]
     },
     "execution_count": 13,
     "metadata": {},
     "output_type": "execute_result"
    }
   ],
   "source": [
    "space_check(test_board,8)"
   ]
  },
  {
   "cell_type": "code",
   "execution_count": 14,
   "id": "a0999cd0",
   "metadata": {},
   "outputs": [],
   "source": [
    "def full_board_check(board):\n",
    "    for i in board:\n",
    "        continue\n",
    "        \n",
    "    return i == 'X' or i == 'O'"
   ]
  },
  {
   "cell_type": "code",
   "execution_count": 15,
   "id": "300cd442",
   "metadata": {},
   "outputs": [
    {
     "data": {
      "text/plain": [
       "False"
      ]
     },
     "execution_count": 15,
     "metadata": {},
     "output_type": "execute_result"
    }
   ],
   "source": [
    "full_board_check(test_board)"
   ]
  },
  {
   "cell_type": "code",
   "execution_count": 16,
   "id": "99db765b",
   "metadata": {},
   "outputs": [],
   "source": [
    "def player_choice(board):\n",
    "    \n",
    "    position = int(input('Choose next position from (1-9): '))\n",
    "    \n",
    "    space_check(board,position)\n",
    "    \n",
    "    while space_check(board,position) == True:\n",
    "        return position"
   ]
  },
  {
   "cell_type": "code",
   "execution_count": 17,
   "id": "1f34e7c3",
   "metadata": {},
   "outputs": [
    {
     "name": "stdout",
     "output_type": "stream",
     "text": [
      "Choose next position from (1-9): 1\n"
     ]
    }
   ],
   "source": [
    "player_choice(test_board)"
   ]
  },
  {
   "cell_type": "code",
   "execution_count": 18,
   "id": "797391fc",
   "metadata": {},
   "outputs": [],
   "source": [
    "def replay():\n",
    "    \n",
    "    choice = 'WRONG'\n",
    "    \n",
    "    while choice not in ['Y','N']:\n",
    "        \n",
    "        choice = input(\"Keep Playing? (Y or N): \")\n",
    "        \n",
    "        if choice not in ['Y','N']:\n",
    "            print('Sorry choose between Y or N')\n",
    "        \n",
    "    if choice == \"Y\":\n",
    "        return True\n",
    "    else:\n",
    "        return False\n",
    "    "
   ]
  },
  {
   "cell_type": "code",
   "execution_count": 19,
   "id": "7f8a8c29",
   "metadata": {},
   "outputs": [
    {
     "name": "stdout",
     "output_type": "stream",
     "text": [
      "Keep Playing? (Y or N): N\n"
     ]
    },
    {
     "data": {
      "text/plain": [
       "False"
      ]
     },
     "execution_count": 19,
     "metadata": {},
     "output_type": "execute_result"
    }
   ],
   "source": [
    "replay()"
   ]
  },
  {
   "cell_type": "code",
   "execution_count": null,
   "id": "a2375e98",
   "metadata": {},
   "outputs": [
    {
     "name": "stdout",
     "output_type": "stream",
     "text": [
      "Welcome to Tic Tac Toe!\n",
      "Player Please choose either X or 0: X\n",
      "Choose next position from (1-9): 1\n",
      " | | \n",
      " | | \n",
      "X| | \n",
      "Player 1 you are won!\n"
     ]
    }
   ],
   "source": [
    "print('Welcome to Tic Tac Toe!')\n",
    " \n",
    "game_on = True\n",
    "game_board = [' ']*10\n",
    "\n",
    "\n",
    "while game_on:\n",
    "    \n",
    "    marker = player_input() \n",
    "    \n",
    "    player1_marker = marker[0]\n",
    "    player2_marker = marker[1]\n",
    "        \n",
    "    board_check = full_board_check(game_board)\n",
    "        \n",
    "    if board_check == True:\n",
    "        game_board = [' ']*10\n",
    "    else:\n",
    "        pass\n",
    "        \n",
    "    player = 1\n",
    "        \n",
    "    while board_check == False:\n",
    "                \n",
    "            \n",
    "        position = player_choice(game_board)\n",
    "\n",
    "        if player == 1:\n",
    "            place_marker(game_board, player1_marker, position)\n",
    "            player = 2  \n",
    "        elif player == 2:\n",
    "            place_marker(game_board, player2_marker, position)\n",
    "            player = 1\n",
    "        else: \n",
    "            pass\n",
    "                \n",
    "            \n",
    "        display_board(game_board)\n",
    "            \n",
    "        board_check = full_board_check(game_board)\n",
    "            \n",
    "        win_check1 = win_check(test_board,'O')\n",
    "            \n",
    "        win_check2 = win_check(test_board,'X')\n",
    "            \n",
    "    while win_check1 == True or win_check2 == True:\n",
    "        if win_check1 == True and player2_marker == 'O':\n",
    "            print (\"Player 2 you are won!\")\n",
    "            break\n",
    "        elif win_check1 == True and player1_marker == 'O':\n",
    "            print (\"Player 1 you are won!\")\n",
    "            break\n",
    "        elif win_check2 == True and player2_marker == 'X':\n",
    "            print (\"Player 2 you are won!\")\n",
    "            break\n",
    "        elif win_check2 == True and player1_marker == 'X':\n",
    "            print (\"Player 1 you are won!\")\n",
    "            break\n",
    "        else:\n",
    "            pass\n",
    "            \n",
    "    game_on = replay()\n",
    "     \n",
    "    \n",
    "    \n",
    "    \n",
    "    \n",
    "\n"
   ]
  },
  {
   "cell_type": "code",
   "execution_count": null,
   "id": "97fa8158",
   "metadata": {},
   "outputs": [],
   "source": [
    "while win_check1 == True or win_check2 == True:\n",
    "            if win_check1 == True and player2_marker == 'O':\n",
    "                print (\"Player 2 you are won!\")\n",
    "                break\n",
    "            elif win_check1 == True and player1_marker == 'O':\n",
    "                print (\"Player 1 you are won!\")\n",
    "                break\n",
    "            elif win_check2 == True and player2_marker == 'X':\n",
    "                print (\"Player 2 you are won!\")\n",
    "                break\n",
    "            elif win_check2 == True and player1_marker == 'X':\n",
    "                print (\"Player 1 you are won!\")\n",
    "                break\n",
    "            else:\n",
    "                pass\n",
    "            \n",
    "        game_on = replay()"
   ]
  },
  {
   "cell_type": "code",
   "execution_count": 30,
   "id": "92f8fb25",
   "metadata": {},
   "outputs": [
    {
     "ename": "IndentationError",
     "evalue": "unexpected indent (2274088730.py, line 3)",
     "output_type": "error",
     "traceback": [
      "\u001b[0;36m  Cell \u001b[0;32mIn[30], line 3\u001b[0;36m\u001b[0m\n\u001b[0;31m    place_marker(game_board, marker, position)\u001b[0m\n\u001b[0m    ^\u001b[0m\n\u001b[0;31mIndentationError\u001b[0m\u001b[0;31m:\u001b[0m unexpected indent\n"
     ]
    }
   ],
   "source": [
    "position = player_choice(game_board)\n",
    "            \n",
    "            place_marker(game_board, marker, position)\n",
    "            \n",
    "            display_board(game_board)\n",
    "            \n",
    "            win = win_check(game_board, 'X')\n",
    "            "
   ]
  },
  {
   "cell_type": "code",
   "execution_count": 31,
   "id": "4a52c67d",
   "metadata": {},
   "outputs": [],
   "source": [
    "test_board.clear()"
   ]
  },
  {
   "cell_type": "code",
   "execution_count": 32,
   "id": "fbc776a4",
   "metadata": {},
   "outputs": [
    {
     "ename": "IndexError",
     "evalue": "list index out of range",
     "output_type": "error",
     "traceback": [
      "\u001b[0;31m---------------------------------------------------------------------------\u001b[0m",
      "\u001b[0;31mIndexError\u001b[0m                                Traceback (most recent call last)",
      "Cell \u001b[0;32mIn[32], line 1\u001b[0m\n\u001b[0;32m----> 1\u001b[0m \u001b[43mdisplay_board\u001b[49m\u001b[43m(\u001b[49m\u001b[43mtest_board\u001b[49m\u001b[43m)\u001b[49m\n",
      "Cell \u001b[0;32mIn[24], line 4\u001b[0m, in \u001b[0;36mdisplay_board\u001b[0;34m(board)\u001b[0m\n\u001b[1;32m      3\u001b[0m \u001b[38;5;28;01mdef\u001b[39;00m \u001b[38;5;21mdisplay_board\u001b[39m(board):\n\u001b[0;32m----> 4\u001b[0m     \u001b[38;5;28mprint\u001b[39m(\u001b[43mboard\u001b[49m\u001b[43m[\u001b[49m\u001b[38;5;241;43m7\u001b[39;49m\u001b[43m]\u001b[49m\u001b[38;5;241m+\u001b[39m\u001b[38;5;124m'\u001b[39m\u001b[38;5;124m|\u001b[39m\u001b[38;5;124m'\u001b[39m\u001b[38;5;241m+\u001b[39mboard[\u001b[38;5;241m8\u001b[39m]\u001b[38;5;241m+\u001b[39m\u001b[38;5;124m'\u001b[39m\u001b[38;5;124m|\u001b[39m\u001b[38;5;124m'\u001b[39m\u001b[38;5;241m+\u001b[39mboard[\u001b[38;5;241m9\u001b[39m])\n\u001b[1;32m      5\u001b[0m     \u001b[38;5;28mprint\u001b[39m(board[\u001b[38;5;241m4\u001b[39m]\u001b[38;5;241m+\u001b[39m\u001b[38;5;124m'\u001b[39m\u001b[38;5;124m|\u001b[39m\u001b[38;5;124m'\u001b[39m\u001b[38;5;241m+\u001b[39mboard[\u001b[38;5;241m5\u001b[39m]\u001b[38;5;241m+\u001b[39m\u001b[38;5;124m'\u001b[39m\u001b[38;5;124m|\u001b[39m\u001b[38;5;124m'\u001b[39m\u001b[38;5;241m+\u001b[39mboard[\u001b[38;5;241m6\u001b[39m])\n\u001b[1;32m      6\u001b[0m     \u001b[38;5;28mprint\u001b[39m(board[\u001b[38;5;241m1\u001b[39m]\u001b[38;5;241m+\u001b[39m\u001b[38;5;124m'\u001b[39m\u001b[38;5;124m|\u001b[39m\u001b[38;5;124m'\u001b[39m\u001b[38;5;241m+\u001b[39mboard[\u001b[38;5;241m2\u001b[39m]\u001b[38;5;241m+\u001b[39m\u001b[38;5;124m'\u001b[39m\u001b[38;5;124m|\u001b[39m\u001b[38;5;124m'\u001b[39m\u001b[38;5;241m+\u001b[39mboard[\u001b[38;5;241m3\u001b[39m])\n",
      "\u001b[0;31mIndexError\u001b[0m: list index out of range"
     ]
    }
   ],
   "source": [
    "display_board(test_board)"
   ]
  },
  {
   "cell_type": "code",
   "execution_count": null,
   "id": "bfdf8bb4",
   "metadata": {},
   "outputs": [],
   "source": []
  }
 ],
 "metadata": {
  "kernelspec": {
   "display_name": "Python 3 (ipykernel)",
   "language": "python",
   "name": "python3"
  },
  "language_info": {
   "codemirror_mode": {
    "name": "ipython",
    "version": 3
   },
   "file_extension": ".py",
   "mimetype": "text/x-python",
   "name": "python",
   "nbconvert_exporter": "python",
   "pygments_lexer": "ipython3",
   "version": "3.10.9"
  }
 },
 "nbformat": 4,
 "nbformat_minor": 5
}
