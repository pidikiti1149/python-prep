{
 "cells": [
  {
   "cell_type": "code",
   "execution_count": 1,
   "id": "a34a24f3",
   "metadata": {},
   "outputs": [
    {
     "name": "stdout",
     "output_type": "stream",
     "text": [
      "[1, 2, 3]\n"
     ]
    }
   ],
   "source": [
    "print([1,2,3])"
   ]
  },
  {
   "cell_type": "code",
   "execution_count": 2,
   "id": "1277ec9c",
   "metadata": {},
   "outputs": [],
   "source": [
    "def display (row1,row2,row3):                 #Deisplaying Information\n",
    "    print(row1)\n",
    "    print(row2)\n",
    "    print(row3)"
   ]
  },
  {
   "cell_type": "code",
   "execution_count": 3,
   "id": "921c621f",
   "metadata": {},
   "outputs": [
    {
     "name": "stdout",
     "output_type": "stream",
     "text": [
      "[' ', ' ', ' ']\n",
      "[' ', ' ', ' ']\n",
      "[' ', ' ', ' ']\n"
     ]
    }
   ],
   "source": [
    "row1 = [' ', ' ', ' ']\n",
    "row2 = [' ', ' ', ' ']\n",
    "row3 = [' ', ' ', ' ']\n",
    "\n",
    "display(row1,row2,row3 )"
   ]
  },
  {
   "cell_type": "code",
   "execution_count": 4,
   "id": "96b1e2dc",
   "metadata": {},
   "outputs": [],
   "source": [
    "row2[0] = 'x'"
   ]
  },
  {
   "cell_type": "code",
   "execution_count": 5,
   "id": "7de42e7f",
   "metadata": {},
   "outputs": [
    {
     "name": "stdout",
     "output_type": "stream",
     "text": [
      "[' ', ' ', ' ']\n",
      "['x', ' ', ' ']\n",
      "[' ', ' ', ' ']\n"
     ]
    }
   ],
   "source": [
    "display(row1,row2,row3 )"
   ]
  },
  {
   "cell_type": "code",
   "execution_count": 6,
   "id": "7a468873",
   "metadata": {},
   "outputs": [],
   "source": [
    "# Accepting User Input"
   ]
  },
  {
   "cell_type": "code",
   "execution_count": 7,
   "id": "780de12a",
   "metadata": {},
   "outputs": [
    {
     "name": "stdout",
     "output_type": "stream",
     "text": [
      "Please enter a value: X\n"
     ]
    },
    {
     "data": {
      "text/plain": [
       "'X'"
      ]
     },
     "execution_count": 7,
     "metadata": {},
     "output_type": "execute_result"
    }
   ],
   "source": [
    "input(\"Please enter a value: \")            #input function always returns a string "
   ]
  },
  {
   "cell_type": "code",
   "execution_count": 8,
   "id": "1c112504",
   "metadata": {},
   "outputs": [
    {
     "name": "stdout",
     "output_type": "stream",
     "text": [
      "Please enter a value: X\n"
     ]
    }
   ],
   "source": [
    "result = input(\"Please enter a value: \")"
   ]
  },
  {
   "cell_type": "code",
   "execution_count": 9,
   "id": "99e809ab",
   "metadata": {},
   "outputs": [
    {
     "data": {
      "text/plain": [
       "'X'"
      ]
     },
     "execution_count": 9,
     "metadata": {},
     "output_type": "execute_result"
    }
   ],
   "source": [
    "result"
   ]
  },
  {
   "cell_type": "code",
   "execution_count": 10,
   "id": "e7f8a074",
   "metadata": {},
   "outputs": [
    {
     "data": {
      "text/plain": [
       "str"
      ]
     },
     "execution_count": 10,
     "metadata": {},
     "output_type": "execute_result"
    }
   ],
   "source": [
    "type(result)"
   ]
  },
  {
   "cell_type": "code",
   "execution_count": 11,
   "id": "cd84d118",
   "metadata": {},
   "outputs": [
    {
     "name": "stdout",
     "output_type": "stream",
     "text": [
      "Please enter a value: X\n"
     ]
    },
    {
     "ename": "ValueError",
     "evalue": "invalid literal for int() with base 10: 'X'",
     "output_type": "error",
     "traceback": [
      "\u001b[0;31m---------------------------------------------------------------------------\u001b[0m",
      "\u001b[0;31mValueError\u001b[0m                                Traceback (most recent call last)",
      "Cell \u001b[0;32mIn[11], line 1\u001b[0m\n\u001b[0;32m----> 1\u001b[0m result \u001b[38;5;241m=\u001b[39m \u001b[38;5;28;43mint\u001b[39;49m\u001b[43m(\u001b[49m\u001b[38;5;28;43minput\u001b[39;49m\u001b[43m(\u001b[49m\u001b[38;5;124;43m\"\u001b[39;49m\u001b[38;5;124;43mPlease enter a value: \u001b[39;49m\u001b[38;5;124;43m\"\u001b[39;49m\u001b[43m)\u001b[49m\u001b[43m)\u001b[49m\n",
      "\u001b[0;31mValueError\u001b[0m: invalid literal for int() with base 10: 'X'"
     ]
    }
   ],
   "source": [
    "result = int(input(\"Please enter a value: \"))              #conver the number to int from string"
   ]
  },
  {
   "cell_type": "code",
   "execution_count": null,
   "id": "651764ce",
   "metadata": {},
   "outputs": [],
   "source": [
    "result"
   ]
  },
  {
   "cell_type": "code",
   "execution_count": null,
   "id": "cc126dcf",
   "metadata": {},
   "outputs": [],
   "source": [
    "row1[result]                 #Assigning input to row position"
   ]
  },
  {
   "cell_type": "code",
   "execution_count": null,
   "id": "375b7fa5",
   "metadata": {},
   "outputs": [],
   "source": [
    "result = int(input(\"Please enter a value: \"))"
   ]
  },
  {
   "cell_type": "code",
   "execution_count": null,
   "id": "991abc3d",
   "metadata": {},
   "outputs": [],
   "source": [
    "20+20"
   ]
  },
  {
   "cell_type": "code",
   "execution_count": null,
   "id": "4bf75c00",
   "metadata": {},
   "outputs": [],
   "source": [
    "#Validating user input"
   ]
  },
  {
   "cell_type": "code",
   "execution_count": null,
   "id": "9bd04bf5",
   "metadata": {},
   "outputs": [],
   "source": [
    "def user_choice():\n",
    "    \n",
    "    choice = input(\"Please enter a number between (0-10): \")\n",
    "    return int(choice)"
   ]
  },
  {
   "cell_type": "code",
   "execution_count": null,
   "id": "097921b7",
   "metadata": {},
   "outputs": [],
   "source": [
    "user_choice()"
   ]
  },
  {
   "cell_type": "code",
   "execution_count": null,
   "id": "ff2db109",
   "metadata": {},
   "outputs": [],
   "source": [
    "\n",
    "def user_choice():\n",
    "    \n",
    "    choice = 'WRONG'\n",
    "    \n",
    "    while choice.isdigit()== False:\n",
    "        choice = input(\"Please enter a number between (0-10): \")\n",
    "        \n",
    "        if choice.isdigit()== False:\n",
    "            print('Sorry you enterd the worng number!')\n",
    "    return int(choice)"
   ]
  },
  {
   "cell_type": "code",
   "execution_count": null,
   "id": "800c19e0",
   "metadata": {},
   "outputs": [],
   "source": [
    "user_choice()"
   ]
  },
  {
   "cell_type": "code",
   "execution_count": null,
   "id": "3a41da21",
   "metadata": {},
   "outputs": [],
   "source": [
    "result = 'WRONG'"
   ]
  },
  {
   "cell_type": "code",
   "execution_count": null,
   "id": "38ddf177",
   "metadata": {},
   "outputs": [],
   "source": [
    "acceptable_values = range(0,12)"
   ]
  },
  {
   "cell_type": "code",
   "execution_count": null,
   "id": "9ab35c89",
   "metadata": {},
   "outputs": [],
   "source": [
    "result in acceptable_values"
   ]
  },
  {
   "cell_type": "code",
   "execution_count": null,
   "id": "f772fe60",
   "metadata": {},
   "outputs": [],
   "source": [
    "def user_choice():\n",
    "    # Variables \n",
    "    \n",
    "    # Initial\n",
    "    choice = 'WRONG'\n",
    "    acceptable_range = range(0,11)\n",
    "    within_range = False\n",
    "    \n",
    "    while choice.isdigit()== False or within_range == False :\n",
    "        choice = input(\"Please enter a number between (0-10): \")\n",
    "        \n",
    "        #DIGIT CHECK\n",
    "        if choice.isdigit()== False:\n",
    "            print('Sorry you enterd the worng number!')\n",
    "        \n",
    "        if choice.isdigit()== True:\n",
    "            if int(choice) in acceptable_range:\n",
    "                within_range = True\n",
    "            else:\n",
    "                print('Sorry Please enter values between 0 and 10')\n",
    "                within_range = False\n",
    "                \n",
    "    return int(choice)"
   ]
  },
  {
   "cell_type": "code",
   "execution_count": null,
   "id": "945e6a9d",
   "metadata": {},
   "outputs": [],
   "source": [
    "user_choice()"
   ]
  },
  {
   "cell_type": "code",
   "execution_count": null,
   "id": "93611399",
   "metadata": {},
   "outputs": [],
   "source": [
    "#simple User Interaction"
   ]
  },
  {
   "cell_type": "code",
   "execution_count": null,
   "id": "8381ef79",
   "metadata": {},
   "outputs": [],
   "source": [
    "def display_game(game_list):\n",
    "    print('Here is the current list: ')\n",
    "    print(game_list)"
   ]
  },
  {
   "cell_type": "code",
   "execution_count": null,
   "id": "3635cbe0",
   "metadata": {},
   "outputs": [],
   "source": [
    "game_list = [0,1,2]\n",
    "display_game(game_list)"
   ]
  },
  {
   "cell_type": "code",
   "execution_count": null,
   "id": "f2bdbe1f",
   "metadata": {},
   "outputs": [],
   "source": [
    "def position_choice():\n",
    "    \n",
    "    choice = 'WRONG'\n",
    "    \n",
    "    while choice not in ['0', '1', '2']:\n",
    "        \n",
    "        choice = input(\"pick a position (0,1,2): \")\n",
    "        \n",
    "        if choice not in ['0', '1', '2']:\n",
    "            print('Sorry Invalid choice')\n",
    "    return int(choice)"
   ]
  },
  {
   "cell_type": "code",
   "execution_count": null,
   "id": "c66bbb7a",
   "metadata": {},
   "outputs": [],
   "source": [
    " position_choice()"
   ]
  },
  {
   "cell_type": "code",
   "execution_count": null,
   "id": "8afe4b21",
   "metadata": {},
   "outputs": [],
   "source": [
    "def replacement_value(game_list, position):\n",
    "    \n",
    "    user_placement = input(\"Type a string to place a position: \")\n",
    "    \n",
    "    game_list[position] = user_placement\n",
    "    \n",
    "    return game_list"
   ]
  },
  {
   "cell_type": "code",
   "execution_count": null,
   "id": "f975f697",
   "metadata": {},
   "outputs": [],
   "source": [
    "replacement_value(game_list, 1)"
   ]
  },
  {
   "cell_type": "code",
   "execution_count": null,
   "id": "ba5c2f48",
   "metadata": {},
   "outputs": [],
   "source": [
    "def gameon_choice():\n",
    "    \n",
    "    choice = 'WRONG'\n",
    "    \n",
    "    while choice not in ['Y','N']:\n",
    "        \n",
    "        choice = input(\"Keep Playing? (Y or N): \")\n",
    "        \n",
    "        if choice not in ['Y','N']:\n",
    "            print('Sorry choose between Y or N')\n",
    "        \n",
    "    if choice == \"Y\":\n",
    "        return True\n",
    "    else:\n",
    "        return False"
   ]
  },
  {
   "cell_type": "code",
   "execution_count": null,
   "id": "c45e2352",
   "metadata": {},
   "outputs": [],
   "source": [
    "gameon_choice()"
   ]
  },
  {
   "cell_type": "code",
   "execution_count": null,
   "id": "9a67080d",
   "metadata": {},
   "outputs": [],
   "source": [
    "game_on = True \n",
    "game_list = [0,1,2]\n",
    "\n",
    "while game_on: \n",
    "    \n",
    "    display_game(game_list)\n",
    "    \n",
    "    position = position_choice()\n",
    "    \n",
    "    game_list = replacement_value(game_list, position)\n",
    "    \n",
    "    display_game(game_list)\n",
    "    \n",
    "    game_on = gameon_choice()"
   ]
  },
  {
   "cell_type": "code",
   "execution_count": null,
   "id": "73b8a281",
   "metadata": {},
   "outputs": [],
   "source": [
    "def play_game():\n",
    "    \n",
    "    game_list = [0,1,2]\n",
    "    \n",
    "    game_on = [True, False]\n",
    "    \n",
    "    for x in game_on:\n",
    "        game_on = gameon_choice()\n",
    "        if game_on == True:\n",
    "            display_game(game_list)\n",
    "            position = position_choice()\n",
    "            replacement_value(game_list, position)\n",
    "            display_game(game_list)\n",
    "            \n",
    "    \n",
    "    \n",
    "        \n",
    "        \n",
    "        \n",
    "        \n",
    "        \n",
    "        \n",
    "        \n",
    "        \n",
    "        \n",
    "        \n",
    "    "
   ]
  },
  {
   "cell_type": "code",
   "execution_count": null,
   "id": "ecf3afa7",
   "metadata": {},
   "outputs": [],
   "source": [
    "play_game()"
   ]
  },
  {
   "cell_type": "code",
   "execution_count": 1,
   "id": "ab12531a",
   "metadata": {},
   "outputs": [],
   "source": [
    "from IPython.display import clear_output\n",
    "\n",
    "def display_board(board):\n",
    "    clear_output()\n",
    "    print(board[7]+'|'+board[8]+'|'+board[9])\n",
    "    print(board[4]+'|'+board[5]+'|'+board[6])\n",
    "    print(board[1]+'|'+board[2]+'|'+board[3])"
   ]
  },
  {
   "cell_type": "code",
   "execution_count": 2,
   "id": "241100a1",
   "metadata": {},
   "outputs": [
    {
     "name": "stdout",
     "output_type": "stream",
     "text": [
      " | | \n",
      " | | \n",
      " | | \n"
     ]
    }
   ],
   "source": [
    "test_board = [' ']*10\n",
    "display_board(test_board)"
   ]
  },
  {
   "cell_type": "code",
   "execution_count": 3,
   "id": "d425406f",
   "metadata": {},
   "outputs": [],
   "source": [
    "def player_input():\n",
    "    \n",
    "    marker = ''\n",
    "    \n",
    "    while marker != 'X' and marker != 'O':\n",
    "        marker = input(\"Player Please choose either X or 0: \")\n",
    "        \n",
    "        if marker != 'X' and marker != 'O':\n",
    "            print(\"Sorry choose either X or O\")\n",
    "    \n",
    "    player1 = marker \n",
    "    \n",
    "    if player1 == 'X':\n",
    "        player2 = 'O'\n",
    "    else:\n",
    "        player2 = 'X'\n",
    "        \n",
    "    return(player1,player2)"
   ]
  },
  {
   "cell_type": "code",
   "execution_count": 4,
   "id": "91927d17",
   "metadata": {},
   "outputs": [
    {
     "name": "stdout",
     "output_type": "stream",
     "text": [
      "Player Please choose either X or 0: \n",
      "Sorry choose either X or O\n",
      "Player Please choose either X or 0: X\n",
      "('X', 'O')\n"
     ]
    }
   ],
   "source": [
    "marker = player_input()\n",
    "\n",
    "print (marker)"
   ]
  },
  {
   "cell_type": "code",
   "execution_count": 5,
   "id": "4b7a424d",
   "metadata": {},
   "outputs": [],
   "source": [
    "def place_marker(board, marker, position):\n",
    "    \n",
    "    board[position] = marker\n",
    "    \n",
    "    \n",
    "    "
   ]
  },
  {
   "cell_type": "code",
   "execution_count": 6,
   "id": "4c0a634e",
   "metadata": {},
   "outputs": [
    {
     "name": "stdout",
     "output_type": "stream",
     "text": [
      "X|X|X\n",
      "X|X|X\n",
      " |X|X\n"
     ]
    }
   ],
   "source": [
    "test_board = [' ']*10\n",
    "list_1= [0,2,3,4,5,6,7,8,9]\n",
    "\n",
    "for x in list_1:\n",
    "    place_marker(test_board,'X', x)\n",
    "\n",
    "\n",
    "display_board(test_board)\n",
    "    "
   ]
  },
  {
   "cell_type": "code",
   "execution_count": 22,
   "id": "79100561",
   "metadata": {},
   "outputs": [],
   "source": [
    "def win_check(board, mark):\n",
    "    \n",
    "    if board[1] == board[2] == board [3] == mark:\n",
    "        return True\n",
    "    elif board[4] == board[5] == board [6] == mark:\n",
    "        return True \n",
    "    elif board[7] == board[8] == board [9] == mark:\n",
    "        return True \n",
    "    elif board[1] == board[5] == board [9] == mark:\n",
    "        return True \n",
    "    elif board[3] == board[5] == board [7] == mark:\n",
    "        return True\n",
    "    elif board[1] == board[4] == board [7] == mark:\n",
    "        return True\n",
    "    elif board[2] == board[5] == board [8] == mark:\n",
    "        return True\n",
    "    elif board[3] == board[6] == board [9] == mark:\n",
    "        return True\n",
    "    else:\n",
    "        return False"
   ]
  },
  {
   "cell_type": "code",
   "execution_count": 23,
   "id": "2c3166c8",
   "metadata": {},
   "outputs": [
    {
     "data": {
      "text/plain": [
       "False"
      ]
     },
     "execution_count": 23,
     "metadata": {},
     "output_type": "execute_result"
    }
   ],
   "source": [
    "win_check(test_board,'O')"
   ]
  },
  {
   "cell_type": "code",
   "execution_count": 9,
   "id": "28e9d009",
   "metadata": {},
   "outputs": [
    {
     "data": {
      "text/plain": [
       "['X', ' ', 'X', 'X', 'X', 'X', 'X', 'X', 'X', 'X']"
      ]
     },
     "execution_count": 9,
     "metadata": {},
     "output_type": "execute_result"
    }
   ],
   "source": [
    "test_board"
   ]
  },
  {
   "cell_type": "code",
   "execution_count": 10,
   "id": "17d7e5db",
   "metadata": {},
   "outputs": [],
   "source": [
    "import random\n",
    "\n",
    "def choose_first():\n",
    "    flip = random.randint(0,1) \n",
    "    if flip == 0 :\n",
    "        print('Player1 Go first')\n",
    "    else:\n",
    "        print('Player2 Go first')"
   ]
  },
  {
   "cell_type": "code",
   "execution_count": 11,
   "id": "daaf61f7",
   "metadata": {},
   "outputs": [
    {
     "name": "stdout",
     "output_type": "stream",
     "text": [
      "Player1 Go first\n"
     ]
    }
   ],
   "source": [
    "choose_first()"
   ]
  },
  {
   "cell_type": "code",
   "execution_count": 12,
   "id": "6d549666",
   "metadata": {},
   "outputs": [],
   "source": [
    "def space_check(board, position):\n",
    "    \n",
    "    if board[position] == ' ' or board[position] == '':\n",
    "        return True\n",
    "    else:\n",
    "        return False"
   ]
  },
  {
   "cell_type": "code",
   "execution_count": 13,
   "id": "78c51c49",
   "metadata": {},
   "outputs": [
    {
     "data": {
      "text/plain": [
       "False"
      ]
     },
     "execution_count": 13,
     "metadata": {},
     "output_type": "execute_result"
    }
   ],
   "source": [
    "space_check(test_board,8)"
   ]
  },
  {
   "cell_type": "code",
   "execution_count": 14,
   "id": "294e07e0",
   "metadata": {},
   "outputs": [],
   "source": [
    "def full_board_check(board):\n",
    "    \n",
    "    for i in range(1,10):\n",
    "        if space_check(board,i):\n",
    "            return False\n",
    "        \n",
    "    return True"
   ]
  },
  {
   "cell_type": "code",
   "execution_count": 15,
   "id": "78695bd5",
   "metadata": {},
   "outputs": [
    {
     "data": {
      "text/plain": [
       "False"
      ]
     },
     "execution_count": 15,
     "metadata": {},
     "output_type": "execute_result"
    }
   ],
   "source": [
    "full_board_check(test_board)"
   ]
  },
  {
   "cell_type": "code",
   "execution_count": 16,
   "id": "020da871",
   "metadata": {},
   "outputs": [],
   "source": [
    "def player_choice(board):\n",
    "    \n",
    "    position = int(input('Choose next position from (1-9): '))\n",
    "    \n",
    "    space_check(board,position)\n",
    "    \n",
    "    if space_check(board,position) == False:\n",
    "        print(\"Board already have the position occupied please choose input again\")\n",
    "        position = int(input('Choose next position from (1-9): '))\n",
    "    else:\n",
    "        pass\n",
    "    \n",
    "    while space_check(board,position) == True:\n",
    "        return position"
   ]
  },
  {
   "cell_type": "code",
   "execution_count": 17,
   "id": "ca2076d3",
   "metadata": {},
   "outputs": [
    {
     "name": "stdout",
     "output_type": "stream",
     "text": [
      "Choose next position from (1-9): 1\n"
     ]
    },
    {
     "data": {
      "text/plain": [
       "1"
      ]
     },
     "execution_count": 17,
     "metadata": {},
     "output_type": "execute_result"
    }
   ],
   "source": [
    "player_choice(test_board)"
   ]
  },
  {
   "cell_type": "code",
   "execution_count": 18,
   "id": "6612802d",
   "metadata": {},
   "outputs": [],
   "source": [
    "def replay():\n",
    "    \n",
    "    choice = 'WRONG'\n",
    "    \n",
    "    while choice not in ['Y','N']:\n",
    "        \n",
    "        choice = input(\"Keep Playing? (Y or N): \")\n",
    "        \n",
    "        if choice not in ['Y','N']:\n",
    "            print('Sorry choose between Y or N')\n",
    "        \n",
    "    if choice == \"Y\":\n",
    "        return True\n",
    "    else:\n",
    "        return False\n",
    "    "
   ]
  },
  {
   "cell_type": "code",
   "execution_count": 19,
   "id": "2c79415f",
   "metadata": {},
   "outputs": [
    {
     "name": "stdout",
     "output_type": "stream",
     "text": [
      "Keep Playing? (Y or N): N\n"
     ]
    },
    {
     "data": {
      "text/plain": [
       "False"
      ]
     },
     "execution_count": 19,
     "metadata": {},
     "output_type": "execute_result"
    }
   ],
   "source": [
    "replay()"
   ]
  },
  {
   "cell_type": "code",
   "execution_count": 24,
   "id": "83a4cb57",
   "metadata": {},
   "outputs": [
    {
     "name": "stdout",
     "output_type": "stream",
     "text": [
      "O|X|X\n",
      "O|O|X\n",
      "X|O|X\n",
      "Player 1 you have won!\n",
      "Keep Playing? (Y or N): Y\n",
      "Player Please choose either X or 0: X\n",
      "Choose next position from (1-9): !\n"
     ]
    },
    {
     "ename": "ValueError",
     "evalue": "invalid literal for int() with base 10: '!'",
     "output_type": "error",
     "traceback": [
      "\u001b[0;31m---------------------------------------------------------------------------\u001b[0m",
      "\u001b[0;31mValueError\u001b[0m                                Traceback (most recent call last)",
      "Cell \u001b[0;32mIn[24], line 24\u001b[0m\n\u001b[1;32m     20\u001b[0m player \u001b[38;5;241m=\u001b[39m \u001b[38;5;241m1\u001b[39m\n\u001b[1;32m     22\u001b[0m \u001b[38;5;28;01mwhile\u001b[39;00m board_check \u001b[38;5;241m==\u001b[39m \u001b[38;5;28;01mFalse\u001b[39;00m:\n\u001b[0;32m---> 24\u001b[0m     position \u001b[38;5;241m=\u001b[39m \u001b[43mplayer_choice\u001b[49m\u001b[43m(\u001b[49m\u001b[43mgame_board\u001b[49m\u001b[43m)\u001b[49m\n\u001b[1;32m     26\u001b[0m     \u001b[38;5;28;01mif\u001b[39;00m player \u001b[38;5;241m==\u001b[39m \u001b[38;5;241m1\u001b[39m:\n\u001b[1;32m     27\u001b[0m         place_marker(game_board, player1_marker, position)\n",
      "Cell \u001b[0;32mIn[16], line 3\u001b[0m, in \u001b[0;36mplayer_choice\u001b[0;34m(board)\u001b[0m\n\u001b[1;32m      1\u001b[0m \u001b[38;5;28;01mdef\u001b[39;00m \u001b[38;5;21mplayer_choice\u001b[39m(board):\n\u001b[0;32m----> 3\u001b[0m     position \u001b[38;5;241m=\u001b[39m \u001b[38;5;28;43mint\u001b[39;49m\u001b[43m(\u001b[49m\u001b[38;5;28;43minput\u001b[39;49m\u001b[43m(\u001b[49m\u001b[38;5;124;43m'\u001b[39;49m\u001b[38;5;124;43mChoose next position from (1-9): \u001b[39;49m\u001b[38;5;124;43m'\u001b[39;49m\u001b[43m)\u001b[49m\u001b[43m)\u001b[49m\n\u001b[1;32m      5\u001b[0m     space_check(board,position)\n\u001b[1;32m      7\u001b[0m     \u001b[38;5;28;01mif\u001b[39;00m space_check(board,position) \u001b[38;5;241m==\u001b[39m \u001b[38;5;28;01mFalse\u001b[39;00m:\n",
      "\u001b[0;31mValueError\u001b[0m: invalid literal for int() with base 10: '!'"
     ]
    }
   ],
   "source": [
    "print('Welcome to Tic Tac Toe!')\n",
    "\n",
    "game_on = True\n",
    "game_board = [' ']*10\n",
    "\n",
    "while game_on:\n",
    "    \n",
    "    marker = player_input() \n",
    "    \n",
    "    player1_marker = marker[0]\n",
    "    player2_marker = marker[1]\n",
    "        \n",
    "    board_check = full_board_check(game_board)\n",
    "        \n",
    "    if board_check == True:\n",
    "        game_board = [' ']*10\n",
    "    else:\n",
    "        pass\n",
    "        \n",
    "    player = 1\n",
    "        \n",
    "    while board_check == False:\n",
    "                \n",
    "        position = player_choice(game_board)\n",
    "\n",
    "        if player == 1:\n",
    "            place_marker(game_board, player1_marker, position)\n",
    "            player = 2  \n",
    "        elif player == 2:\n",
    "            place_marker(game_board, player2_marker, position)\n",
    "            player = 1\n",
    "        else: \n",
    "            pass\n",
    "                \n",
    "        display_board(game_board)\n",
    "        \n",
    "        win_check1 = win_check(game_board,'O')\n",
    "        win_check2 = win_check(game_board,'X')\n",
    "        \n",
    "        if win_check1 == True and player2_marker == 'O':\n",
    "            print (\"Player 2 you have won!\")\n",
    "            board_check = True\n",
    "            game_board = [' ']*10\n",
    "            break\n",
    "        elif win_check1 == True and player1_marker == 'O':\n",
    "            print (\"Player 1 you have won!\")\n",
    "            board_check = True\n",
    "            game_board = [' ']*10\n",
    "            break\n",
    "        elif win_check2 == True and player2_marker == 'X':\n",
    "            print (\"Player 2 you have won!\")\n",
    "            board_check = True\n",
    "            game_board = [' ']*10\n",
    "            break\n",
    "        elif win_check2 == True and player1_marker == 'X':\n",
    "            print (\"Player 1 you have won!\")\n",
    "            board_check = True\n",
    "            game_board = [' ']*10\n",
    "            break \n",
    "        else:\n",
    "            pass\n",
    "            \n",
    "        board_check = full_board_check(game_board)\n",
    "        \n",
    "        if board_check == True:\n",
    "            print(\"The game is tie!\") \n",
    "        \n",
    "    game_on = replay()\n",
    "\n",
    "    \n",
    "    \n",
    "    \n",
    "    \n",
    "\n"
   ]
  },
  {
   "cell_type": "code",
   "execution_count": null,
   "id": "fce260a0",
   "metadata": {},
   "outputs": [],
   "source": [
    "while win_check1 == True or win_check2 == True:\n",
    "            if win_check1 == True and player2_marker == 'O':\n",
    "                print (\"Player 2 you are won!\")\n",
    "                break\n",
    "            elif win_check1 == True and player1_marker == 'O':\n",
    "                print (\"Player 1 you are won!\")\n",
    "                break\n",
    "            elif win_check2 == True and player2_marker == 'X':\n",
    "                print (\"Player 2 you are won!\")\n",
    "                break\n",
    "            elif win_check2 == True and player1_marker == 'X':\n",
    "                print (\"Player 1 you are won!\")\n",
    "                break\n",
    "            else:\n",
    "                pass\n",
    "            \n",
    "        game_on = replay()"
   ]
  },
  {
   "cell_type": "code",
   "execution_count": null,
   "id": "0eccd311",
   "metadata": {},
   "outputs": [],
   "source": [
    "position = player_choice(game_board)\n",
    "            \n",
    "            place_marker(game_board, marker, position)\n",
    "            \n",
    "            display_board(game_board)\n",
    "            \n",
    "            win = win_check(game_board, 'X')\n",
    "            "
   ]
  },
  {
   "cell_type": "code",
   "execution_count": null,
   "id": "429fec25",
   "metadata": {},
   "outputs": [],
   "source": [
    "test_board.clear()"
   ]
  },
  {
   "cell_type": "code",
   "execution_count": null,
   "id": "4c7d545d",
   "metadata": {},
   "outputs": [],
   "source": [
    "display_board(test_board)"
   ]
  },
  {
   "cell_type": "code",
   "execution_count": null,
   "id": "77ea5c84",
   "metadata": {},
   "outputs": [],
   "source": [
    "print('Welcome to Tic Tac Toe!')\n",
    "\n",
    "game_on = True\n",
    "game_board = [' ']*10\n",
    "\n",
    "while game_on:\n",
    "    \n",
    "    marker = player_input() \n",
    "    \n",
    "    player1_marker = marker[0]\n",
    "    player2_marker = marker[1]\n",
    "        \n",
    "    board_check = full_board_check(game_board)\n",
    "        \n",
    "    if board_check == True:\n",
    "        game_board = [' ']*10\n",
    "    else:\n",
    "        pass\n",
    "        \n",
    "    player = 1\n",
    "        \n",
    "    while board_check == False:\n",
    "                \n",
    "            \n",
    "        position = player_choice(game_board)\n",
    "\n",
    "        if player == 1:\n",
    "            place_marker(game_board, player1_marker, position)\n",
    "            player = 2  \n",
    "        elif player == 2:\n",
    "            place_marker(game_board, player2_marker, position)\n",
    "            player = 1\n",
    "        else: \n",
    "            pass\n",
    "                \n",
    "            \n",
    "        display_board(game_board)\n",
    "        \n",
    "        board_check = full_board_check(game_board)\n",
    "            \n",
    "        win_check1 = win_check(game_board,'O')\n",
    "            \n",
    "        win_check2 = win_check(game_board,'X')\n",
    "            \n",
    "            \n",
    "        while win_check1 == True or win_check2 == True:\n",
    "            if win_check1 == True and player2_marker == 'O':\n",
    "                print (\"Player 2 you have won!\")\n",
    "                break\n",
    "            elif win_check1 == True and player1_marker == 'O':\n",
    "                print (\"Player 1 you have won!\")\n",
    "                break\n",
    "            elif win_check2 == True and player2_marker == 'X':\n",
    "                print (\"Player 2 you have won!\")\n",
    "                break\n",
    "            elif win_check2 == True and player1_marker == 'X':\n",
    "                print (\"Player 1 you have won!\")\n",
    "                break\n",
    "            else:\n",
    "                pass\n",
    "    \n",
    "    if board_check == True:\n",
    "        print(\"The game is tie!\") \n",
    "    else:\n",
    "        pass\n",
    "    \n",
    "    game_on = replay()\n",
    "    \n",
    "    if game_on == False:\n",
    "        print(\"Thanks for playing!\")\n",
    "    else:\n",
    "        game_board = [' ']*10\n"
   ]
  }
 ],
 "metadata": {
  "kernelspec": {
   "display_name": "Python 3 (ipykernel)",
   "language": "python",
   "name": "python3"
  },
  "language_info": {
   "codemirror_mode": {
    "name": "ipython",
    "version": 3
   },
   "file_extension": ".py",
   "mimetype": "text/x-python",
   "name": "python",
   "nbconvert_exporter": "python",
   "pygments_lexer": "ipython3",
   "version": "3.10.9"
  }
 },
 "nbformat": 4,
 "nbformat_minor": 5
}
