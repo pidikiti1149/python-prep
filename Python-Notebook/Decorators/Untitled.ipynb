{
 "cells": [
  {
   "cell_type": "code",
   "execution_count": 97,
   "id": "f533ab99",
   "metadata": {},
   "outputs": [],
   "source": [
    "def func(name='Anil'):\n",
    "     print(name)"
   ]
  },
  {
   "cell_type": "code",
   "execution_count": 98,
   "id": "2a75bcc9",
   "metadata": {},
   "outputs": [
    {
     "name": "stdout",
     "output_type": "stream",
     "text": [
      "Aditya\n"
     ]
    }
   ],
   "source": [
    "func(\"Aditya\")"
   ]
  },
  {
   "cell_type": "code",
   "execution_count": 99,
   "id": "41c9f4e7",
   "metadata": {},
   "outputs": [],
   "source": [
    "futn = func"
   ]
  },
  {
   "cell_type": "code",
   "execution_count": 131,
   "id": "95193cf2",
   "metadata": {},
   "outputs": [
    {
     "name": "stdout",
     "output_type": "stream",
     "text": [
      "Anil\n"
     ]
    }
   ],
   "source": [
    "futn()"
   ]
  },
  {
   "cell_type": "code",
   "execution_count": 132,
   "id": "b8f13850",
   "metadata": {},
   "outputs": [],
   "source": [
    "del func"
   ]
  },
  {
   "cell_type": "code",
   "execution_count": 133,
   "id": "60a9a7bf",
   "metadata": {},
   "outputs": [
    {
     "ename": "NameError",
     "evalue": "name 'func' is not defined",
     "output_type": "error",
     "traceback": [
      "\u001b[0;31m---------------------------------------------------------------------------\u001b[0m",
      "\u001b[0;31mNameError\u001b[0m                                 Traceback (most recent call last)",
      "Cell \u001b[0;32mIn[133], line 1\u001b[0m\n\u001b[0;32m----> 1\u001b[0m \u001b[43mfunc\u001b[49m()\n",
      "\u001b[0;31mNameError\u001b[0m: name 'func' is not defined"
     ]
    }
   ],
   "source": [
    "func()"
   ]
  },
  {
   "cell_type": "code",
   "execution_count": 134,
   "id": "ac089ad7",
   "metadata": {},
   "outputs": [
    {
     "name": "stdout",
     "output_type": "stream",
     "text": [
      "Anil\n"
     ]
    }
   ],
   "source": [
    "futn()"
   ]
  },
  {
   "cell_type": "code",
   "execution_count": null,
   "id": "0cf3c79b",
   "metadata": {},
   "outputs": [],
   "source": []
  },
  {
   "cell_type": "code",
   "execution_count": null,
   "id": "54536a1f",
   "metadata": {},
   "outputs": [],
   "source": []
  },
  {
   "cell_type": "code",
   "execution_count": null,
   "id": "064ed6a9",
   "metadata": {},
   "outputs": [],
   "source": []
  },
  {
   "cell_type": "code",
   "execution_count": 135,
   "id": "32cbdabe",
   "metadata": {},
   "outputs": [],
   "source": [
    "def hello(name='Aditya'):\n",
    "    print(name)\n",
    "    \n",
    "    def greet():\n",
    "        return f'\\tHello {name}'\n",
    "    \n",
    "    def welcome():\n",
    "        return f'\\tWelcome {name}'\n",
    "    \n",
    "    print(greet())\n",
    "    print(welcome())"
   ]
  },
  {
   "cell_type": "code",
   "execution_count": 136,
   "id": "03387992",
   "metadata": {},
   "outputs": [
    {
     "name": "stdout",
     "output_type": "stream",
     "text": [
      "Aditya\n",
      "\tHello Aditya\n",
      "\tWelcome Aditya\n"
     ]
    }
   ],
   "source": [
    "hello()"
   ]
  },
  {
   "cell_type": "code",
   "execution_count": 142,
   "id": "759b81fc",
   "metadata": {},
   "outputs": [],
   "source": [
    "def hello_fun(name='Aditya'):\n",
    "    print(name)\n",
    "    \n",
    "    def greet():\n",
    "        return f'\\tHello {name}'\n",
    "    \n",
    "    def welcome():\n",
    "        return f'\\t Welcome {name}'\n",
    "    \n",
    "    if name == 'Akhil':\n",
    "         print(greet())\n",
    "    else:\n",
    "        print(welcome())"
   ]
  },
  {
   "cell_type": "code",
   "execution_count": 143,
   "id": "a92950dd",
   "metadata": {},
   "outputs": [
    {
     "name": "stdout",
     "output_type": "stream",
     "text": [
      "Aditya\n",
      "\t Welcome Aditya\n"
     ]
    }
   ],
   "source": [
    "hello_fun()"
   ]
  },
  {
   "cell_type": "code",
   "execution_count": null,
   "id": "24cdc599",
   "metadata": {},
   "outputs": [],
   "source": []
  },
  {
   "cell_type": "code",
   "execution_count": 156,
   "id": "f401e5fe",
   "metadata": {},
   "outputs": [],
   "source": [
    "hello_func = hello"
   ]
  },
  {
   "cell_type": "code",
   "execution_count": 158,
   "id": "19eb17dd",
   "metadata": {},
   "outputs": [
    {
     "name": "stdout",
     "output_type": "stream",
     "text": [
      "Anil\n",
      "\tHello Anil\n",
      "\tWelcome Anil\n"
     ]
    }
   ],
   "source": [
    "hello_func('Anil')"
   ]
  },
  {
   "cell_type": "code",
   "execution_count": 159,
   "id": "035238e3",
   "metadata": {},
   "outputs": [
    {
     "name": "stdout",
     "output_type": "stream",
     "text": [
      "Aditya\n",
      "\tHello Aditya\n",
      "\tWelcome Aditya\n"
     ]
    }
   ],
   "source": [
    "hello_func()"
   ]
  },
  {
   "cell_type": "code",
   "execution_count": 190,
   "id": "00148dfe",
   "metadata": {},
   "outputs": [],
   "source": [
    "def some_func(hello):\n",
    "    \n",
    "    def wrap():\n",
    "        print(\"This is a wrap function\")\n",
    "        hello()\n",
    "    \n",
    "    return wrap"
   ]
  },
  {
   "cell_type": "code",
   "execution_count": 191,
   "id": "3f36edbe",
   "metadata": {},
   "outputs": [],
   "source": [
    "@some_func\n",
    "def demo_func():\n",
    "    print(\"Demo functio\")"
   ]
  },
  {
   "cell_type": "code",
   "execution_count": 192,
   "id": "a1a3faa2",
   "metadata": {},
   "outputs": [
    {
     "name": "stdout",
     "output_type": "stream",
     "text": [
      "This is a wrap function\n",
      "Demo functio\n"
     ]
    }
   ],
   "source": [
    "demo_func()"
   ]
  },
  {
   "cell_type": "code",
   "execution_count": 189,
   "id": "c5a7dd98",
   "metadata": {},
   "outputs": [],
   "source": [
    "def new_decorator(original_func):\n",
    "    \n",
    "    def wrap_func():\n",
    "        print('Hy Aditya!')\n",
    "        \n",
    "        original_func()\n",
    "        \n",
    "        print('Some code')\n",
    "    \n",
    "    return wrap_func"
   ]
  },
  {
   "cell_type": "code",
   "execution_count": 177,
   "id": "3e5f784c",
   "metadata": {},
   "outputs": [],
   "source": [
    "def func_decorator():\n",
    "    print(\"I need a docator\")"
   ]
  },
  {
   "cell_type": "code",
   "execution_count": 178,
   "id": "14f0db8b",
   "metadata": {},
   "outputs": [
    {
     "data": {
      "text/plain": [
       "<function __main__.func_decorator()>"
      ]
     },
     "execution_count": 178,
     "metadata": {},
     "output_type": "execute_result"
    }
   ],
   "source": [
    "func_decorator"
   ]
  },
  {
   "cell_type": "code",
   "execution_count": 179,
   "id": "45d72411",
   "metadata": {},
   "outputs": [
    {
     "data": {
      "text/plain": [
       "<function __main__.new_decorator(original_func)>"
      ]
     },
     "execution_count": 179,
     "metadata": {},
     "output_type": "execute_result"
    }
   ],
   "source": [
    "new_decorator"
   ]
  },
  {
   "cell_type": "code",
   "execution_count": 180,
   "id": "6de6711a",
   "metadata": {},
   "outputs": [],
   "source": [
    "dec = func_decorator"
   ]
  },
  {
   "cell_type": "code",
   "execution_count": 181,
   "id": "11bb9997",
   "metadata": {},
   "outputs": [
    {
     "name": "stdout",
     "output_type": "stream",
     "text": [
      "I need a docator\n"
     ]
    }
   ],
   "source": [
    "dec()"
   ]
  },
  {
   "cell_type": "code",
   "execution_count": 182,
   "id": "8605ffc1",
   "metadata": {},
   "outputs": [],
   "source": [
    "del func_decorator"
   ]
  },
  {
   "cell_type": "code",
   "execution_count": 183,
   "id": "3eb5e1fb",
   "metadata": {},
   "outputs": [
    {
     "name": "stdout",
     "output_type": "stream",
     "text": [
      "I need a docator\n"
     ]
    }
   ],
   "source": [
    "dec()"
   ]
  },
  {
   "cell_type": "code",
   "execution_count": null,
   "id": "9af4b6f7",
   "metadata": {},
   "outputs": [],
   "source": []
  }
 ],
 "metadata": {
  "kernelspec": {
   "display_name": "Python 3 (ipykernel)",
   "language": "python",
   "name": "python3"
  },
  "language_info": {
   "codemirror_mode": {
    "name": "ipython",
    "version": 3
   },
   "file_extension": ".py",
   "mimetype": "text/x-python",
   "name": "python",
   "nbconvert_exporter": "python",
   "pygments_lexer": "ipython3",
   "version": "3.10.9"
  }
 },
 "nbformat": 4,
 "nbformat_minor": 5
}
