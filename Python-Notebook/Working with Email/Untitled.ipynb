{
 "cells": [
  {
   "cell_type": "code",
   "execution_count": 1,
   "id": "61c86e88",
   "metadata": {},
   "outputs": [],
   "source": [
    "import smtplib"
   ]
  },
  {
   "cell_type": "code",
   "execution_count": 12,
   "id": "6a3afbfa",
   "metadata": {},
   "outputs": [],
   "source": [
    "smtp_object = smtplib.SMTP('smtp.gmail.com',587)"
   ]
  },
  {
   "cell_type": "code",
   "execution_count": 13,
   "id": "dd0cd4cf",
   "metadata": {},
   "outputs": [
    {
     "data": {
      "text/plain": [
       "(250,\n",
       " b'smtp.gmail.com at your service, [2607:fea8:6560:3e50:8975:76a:8d2c:1326]\\nSIZE 35882577\\n8BITMIME\\nSTARTTLS\\nENHANCEDSTATUSCODES\\nPIPELINING\\nCHUNKING\\nSMTPUTF8')"
      ]
     },
     "execution_count": 13,
     "metadata": {},
     "output_type": "execute_result"
    }
   ],
   "source": [
    "smtp_object.ehlo()"
   ]
  },
  {
   "cell_type": "code",
   "execution_count": 14,
   "id": "23506463",
   "metadata": {},
   "outputs": [
    {
     "data": {
      "text/plain": [
       "(220, b'2.0.0 Ready to start TLS')"
      ]
     },
     "execution_count": 14,
     "metadata": {},
     "output_type": "execute_result"
    }
   ],
   "source": [
    "smtp_object.starttls()"
   ]
  },
  {
   "cell_type": "code",
   "execution_count": 15,
   "id": "9b0c5370",
   "metadata": {},
   "outputs": [
    {
     "name": "stdout",
     "output_type": "stream",
     "text": [
      "what is your passwaord:s\n"
     ]
    },
    {
     "data": {
      "text/plain": [
       "'s'"
      ]
     },
     "execution_count": 15,
     "metadata": {},
     "output_type": "execute_result"
    }
   ],
   "source": [
    "input('what is your passwaord:')"
   ]
  },
  {
   "cell_type": "code",
   "execution_count": 16,
   "id": "a7567002",
   "metadata": {},
   "outputs": [],
   "source": [
    "import getpass"
   ]
  },
  {
   "cell_type": "code",
   "execution_count": 7,
   "id": "e50f149a",
   "metadata": {},
   "outputs": [
    {
     "name": "stdout",
     "output_type": "stream",
     "text": [
      "Password Please:········\n"
     ]
    }
   ],
   "source": [
    "password = getpass.getpass('Password Please:')"
   ]
  },
  {
   "cell_type": "code",
   "execution_count": 8,
   "id": "06c0e527",
   "metadata": {},
   "outputs": [],
   "source": [
    "# xrcdwwrfntxupvye"
   ]
  },
  {
   "cell_type": "code",
   "execution_count": 17,
   "id": "0c42c521",
   "metadata": {},
   "outputs": [
    {
     "name": "stdout",
     "output_type": "stream",
     "text": [
      "Email:········\n",
      "Password:········\n"
     ]
    },
    {
     "data": {
      "text/plain": [
       "(235, b'2.7.0 Accepted')"
      ]
     },
     "execution_count": 17,
     "metadata": {},
     "output_type": "execute_result"
    }
   ],
   "source": [
    "email = getpass.getpass('Email:')\n",
    "password = getpass.getpass('Password:')\n",
    "smtp_object.login(email,password)"
   ]
  },
  {
   "cell_type": "code",
   "execution_count": 18,
   "id": "fced5eb4",
   "metadata": {},
   "outputs": [
    {
     "name": "stdout",
     "output_type": "stream",
     "text": [
      "Enter the subject:Python Test\n",
      "Enter the message:Hello!\n"
     ]
    },
    {
     "data": {
      "text/plain": [
       "{}"
      ]
     },
     "execution_count": 18,
     "metadata": {},
     "output_type": "execute_result"
    }
   ],
   "source": [
    "from_address = email\n",
    "to_address = email\n",
    "subject = input(\"Enter the subject:\")\n",
    "message = input(\"Enter the message:\")\n",
    "msg = \"Subject: \"+subject+'\\n'+message\n",
    "\n",
    "smtp_object.sendmail(from_address,to_address,msg)"
   ]
  },
  {
   "cell_type": "code",
   "execution_count": 19,
   "id": "25e5c30a",
   "metadata": {},
   "outputs": [
    {
     "data": {
      "text/plain": [
       "(221,\n",
       " b'2.0.0 closing connection w4-20020a0ce104000000b0063cfe9adb2csm5151965qvk.108 - gsmtp')"
      ]
     },
     "execution_count": 19,
     "metadata": {},
     "output_type": "execute_result"
    }
   ],
   "source": [
    "smtp_object.quit()"
   ]
  },
  {
   "cell_type": "code",
   "execution_count": 20,
   "id": "c6aea778",
   "metadata": {},
   "outputs": [],
   "source": [
    "import imaplib"
   ]
  },
  {
   "cell_type": "code",
   "execution_count": 24,
   "id": "2e9f3f2e",
   "metadata": {},
   "outputs": [],
   "source": [
    "M = imaplib.IMAP4_SSL('imap.gmail.com')"
   ]
  },
  {
   "cell_type": "code",
   "execution_count": 25,
   "id": "daa02365",
   "metadata": {},
   "outputs": [],
   "source": [
    "import getpass"
   ]
  },
  {
   "cell_type": "code",
   "execution_count": 26,
   "id": "f359f0b9",
   "metadata": {},
   "outputs": [
    {
     "name": "stdout",
     "output_type": "stream",
     "text": [
      "Email:········\n",
      "Password:········\n"
     ]
    }
   ],
   "source": [
    "email = getpass.getpass('Email:')\n",
    "password = getpass.getpass('Password:')"
   ]
  },
  {
   "cell_type": "code",
   "execution_count": 27,
   "id": "a84b8e25",
   "metadata": {},
   "outputs": [
    {
     "data": {
      "text/plain": [
       "('OK', [b'pidikitiaditya@gmail.com authenticated (Success)'])"
      ]
     },
     "execution_count": 27,
     "metadata": {},
     "output_type": "execute_result"
    }
   ],
   "source": [
    "M.login(email,password)"
   ]
  },
  {
   "cell_type": "code",
   "execution_count": 28,
   "id": "1ec16edc",
   "metadata": {},
   "outputs": [
    {
     "data": {
      "text/plain": [
       "('OK',\n",
       " [b'(\\\\HasNoChildren) \"/\" \"INBOX\"',\n",
       "  b'(\\\\HasChildren \\\\Noselect) \"/\" \"[Gmail]\"',\n",
       "  b'(\\\\All \\\\HasNoChildren) \"/\" \"[Gmail]/All Mail\"',\n",
       "  b'(\\\\HasNoChildren \\\\Trash) \"/\" \"[Gmail]/Bin\"',\n",
       "  b'(\\\\Drafts \\\\HasNoChildren) \"/\" \"[Gmail]/Drafts\"',\n",
       "  b'(\\\\HasNoChildren \\\\Important) \"/\" \"[Gmail]/Important\"',\n",
       "  b'(\\\\HasNoChildren \\\\Sent) \"/\" \"[Gmail]/Sent Mail\"',\n",
       "  b'(\\\\HasNoChildren \\\\Junk) \"/\" \"[Gmail]/Spam\"',\n",
       "  b'(\\\\Flagged \\\\HasNoChildren) \"/\" \"[Gmail]/Starred\"'])"
      ]
     },
     "execution_count": 28,
     "metadata": {},
     "output_type": "execute_result"
    }
   ],
   "source": [
    "M.list()"
   ]
  },
  {
   "cell_type": "code",
   "execution_count": 53,
   "id": "f4b8e6f1",
   "metadata": {},
   "outputs": [
    {
     "data": {
      "text/plain": [
       "('OK', [b'73746'])"
      ]
     },
     "execution_count": 53,
     "metadata": {},
     "output_type": "execute_result"
    }
   ],
   "source": [
    "M.select('INBOX')"
   ]
  },
  {
   "cell_type": "code",
   "execution_count": 54,
   "id": "f8014a11",
   "metadata": {},
   "outputs": [],
   "source": [
    "typ, data = M.search(None,'SUBJECT \"PYTHONDEM\"')"
   ]
  },
  {
   "cell_type": "code",
   "execution_count": 55,
   "id": "9eba9742",
   "metadata": {},
   "outputs": [
    {
     "data": {
      "text/plain": [
       "'OK'"
      ]
     },
     "execution_count": 55,
     "metadata": {},
     "output_type": "execute_result"
    }
   ],
   "source": [
    "typ"
   ]
  },
  {
   "cell_type": "code",
   "execution_count": 56,
   "id": "6d77e5ec",
   "metadata": {},
   "outputs": [
    {
     "data": {
      "text/plain": [
       "[b'73746']"
      ]
     },
     "execution_count": 56,
     "metadata": {},
     "output_type": "execute_result"
    }
   ],
   "source": [
    "data"
   ]
  },
  {
   "cell_type": "code",
   "execution_count": 57,
   "id": "d3edea4d",
   "metadata": {},
   "outputs": [],
   "source": [
    "email_id = data[0]"
   ]
  },
  {
   "cell_type": "code",
   "execution_count": 58,
   "id": "b0c103bf",
   "metadata": {},
   "outputs": [],
   "source": [
    "result, email_data = M.fetch(email_id,'(RFC822)')"
   ]
  },
  {
   "cell_type": "code",
   "execution_count": 59,
   "id": "26c8db00",
   "metadata": {},
   "outputs": [
    {
     "data": {
      "text/plain": [
       "[(b'73746 (RFC822 {5132}',\n",
       "  b'Delivered-To: pidikitiaditya@gmail.com\\r\\nReceived: by 2002:a05:6918:239c:b0:1af:e99c:2491 with SMTP id bd28csp1765731ysb;\\r\\n        Thu, 3 Aug 2023 23:16:05 -0700 (PDT)\\r\\nX-Received: by 2002:a05:6512:3299:b0:4f8:75cf:fdd7 with SMTP id p25-20020a056512329900b004f875cffdd7mr522159lfe.22.1691129765325;\\r\\n        Thu, 03 Aug 2023 23:16:05 -0700 (PDT)\\r\\nARC-Seal: i=1; a=rsa-sha256; t=1691129765; cv=none;\\r\\n        d=google.com; s=arc-20160816;\\r\\n        b=Rtia8D8IQT+nc2ENRW6YMnW3NvwXr4WMpkogm4dwnUWWA16q6SNGUzD8GSoUDbtvB9\\r\\n         1fyYv9oDQtmZfSKX3ixCghv5zx95FIH/ANC3bX0lM42Lp7h3/pJg5lx1XwtRtHr6+WLw\\r\\n         M8hhMaljaZck75RTHvKlbW+496k/4ks9dH0hi0N513m3I38mM3vPAcf+3hOHUDVIPR+Q\\r\\n         pjOyCF+WmmliaTMY+NF9YFKKjkxVDDS/pzWwDI5jYdits8hiR5ZBPpmC2W827ferTrIv\\r\\n         rM2mUgF0OfXw1+gYAFYvjIf4WTSuJAkZMt6cIIiGAt1vAx1VzsCR4eU4tzv43n6+gUNS\\r\\n         oqMQ==\\r\\nARC-Message-Signature: i=1; a=rsa-sha256; c=relaxed/relaxed; d=google.com; s=arc-20160816;\\r\\n        h=to:subject:message-id:date:from:mime-version:dkim-signature;\\r\\n        bh=qlCM9WYFuGhcTpfsppHUy+ORLv68nhcILrhUy43ugbc=;\\r\\n        fh=ds5478jn7fXUpPcJeeTSHrYQWaOY0YQoNNrFDKPj854=;\\r\\n        b=FgCa97KfFcYmqSMIum+Oet+9zu4c8j9yOgBrw7HzZPAhW+lcwAWboVBOC4m8mmK9dK\\r\\n         iKNgnUmdIaa0P/C4XYsXx8rwLzM6jOJgqE85gYsgLmmgnh8QlHK5S9pF3QUYHctxlhf3\\r\\n         RwRbh0UpQ45Ele4vZ2f+I4UEJ8x+V7FerK6x5gA7B0jvg/hCVYDAMCy8so/A+ESZEnW3\\r\\n         uliwSNDnyLevOEiWFvniXW7BWy5EXf1Ldyx3wfDrmwqobfzTv8KpxHc5lNEy4nNwrBxm\\r\\n         3Yo5mWY8YFGyhqeUT6Xfjdo1UUrHZ40MD+4ZyjhwS8rJ2qkzI73ERX+oStI5nBOvacPg\\r\\n         IObw==\\r\\nARC-Authentication-Results: i=1; mx.google.com;\\r\\n       dkim=pass header.i=@gmail.com header.s=20221208 header.b=RqNQEcxN;\\r\\n       spf=pass (google.com: domain of adityadevopsengineer@gmail.com designates 209.85.220.41 as permitted sender) smtp.mailfrom=adityadevopsengineer@gmail.com;\\r\\n       dmarc=pass (p=NONE sp=QUARANTINE dis=NONE) header.from=gmail.com\\r\\nReturn-Path: <adityadevopsengineer@gmail.com>\\r\\nReceived: from mail-sor-f41.google.com (mail-sor-f41.google.com. [209.85.220.41])\\r\\n        by mx.google.com with SMTPS id s12-20020ac2464c000000b004fe39aaed1csor625518lfo.19.2023.08.03.23.16.05\\r\\n        for <pidikitiaditya@gmail.com>\\r\\n        (Google Transport Security);\\r\\n        Thu, 03 Aug 2023 23:16:05 -0700 (PDT)\\r\\nReceived-SPF: pass (google.com: domain of adityadevopsengineer@gmail.com designates 209.85.220.41 as permitted sender) client-ip=209.85.220.41;\\r\\nAuthentication-Results: mx.google.com;\\r\\n       dkim=pass header.i=@gmail.com header.s=20221208 header.b=RqNQEcxN;\\r\\n       spf=pass (google.com: domain of adityadevopsengineer@gmail.com designates 209.85.220.41 as permitted sender) smtp.mailfrom=adityadevopsengineer@gmail.com;\\r\\n       dmarc=pass (p=NONE sp=QUARANTINE dis=NONE) header.from=gmail.com\\r\\nDKIM-Signature: v=1; a=rsa-sha256; c=relaxed/relaxed;\\r\\n        d=gmail.com; s=20221208; t=1691129764; x=1691734564;\\r\\n        h=to:subject:message-id:date:from:mime-version:from:to:cc:subject\\r\\n         :date:message-id:reply-to;\\r\\n        bh=qlCM9WYFuGhcTpfsppHUy+ORLv68nhcILrhUy43ugbc=;\\r\\n        b=RqNQEcxN4zYkQKW3JuManvBZEi3kUu0iKMqjS93skIPK+1xrgALtCwFgBsgmo9irjt\\r\\n         8f9sECCcX6/r5kv2G0/RbppPn239u7YJqHyj/dFzD+3JA2Rb0ekeyFgrmF0YHNvcNsbk\\r\\n         7P3ewplB28J3EoMPEUxXpkzmYs/bl5ZcrFfkFXa5LyzCxQbXMnyrO23+HK92RWeDaPgp\\r\\n         cmSUTKvLhAbECagD2ONzD5SIXH2U0psvHXY5nFl31VPcL8U8PX/XjulHYy26SVENJ42e\\r\\n         bi65Hia/szsroI4pgVTecp0/exnXkOmqrSEeV3HFJY9KtDGMbxKSNQhiwRHIPaD+IeNb\\r\\n         XbSg==\\r\\nX-Google-DKIM-Signature: v=1; a=rsa-sha256; c=relaxed/relaxed;\\r\\n        d=1e100.net; s=20221208; t=1691129764; x=1691734564;\\r\\n        h=to:subject:message-id:date:from:mime-version:x-gm-message-state\\r\\n         :from:to:cc:subject:date:message-id:reply-to;\\r\\n        bh=qlCM9WYFuGhcTpfsppHUy+ORLv68nhcILrhUy43ugbc=;\\r\\n        b=g1fmG9at/mLrfnbdkGGMswsS9oT8KNz6HADscA/JnA0SarJqFNsYsmS247RkAgkttO\\r\\n         gH05CvpSIt62CzuHsEJbkaVZovq2p6Pn/2W3QvI9wcAbpUv7sGQh/kSfm0CEb0/tPpEH\\r\\n         Rn+6FL5ZzsfWyG8IN4sYA6ZkUGDdlg0XmaM0Lh2Ls9MlKUaaOXYIu1+oK6HP+ZWicveD\\r\\n         26jr3Y5Ja6k9IvyUWd60nTzd0edzWdRge69V4HJBJVovjwpBdzF9hzK5wtleDbmggHAK\\r\\n         3UFgWRwLELuv5cXTX8V1feI5w6wXUrs4ue6D3Q1Ub88XpbfTnG/o3Ofg2GLUOs6r5qbJ\\r\\n         SfjQ==\\r\\nX-Gm-Message-State: AOJu0YyMwfTMs/WkLxscxP7qh7RITfI7pqXnN1JYIke/DiWsMUnt1b+z\\r\\n\\t0QysIYY3QB10s4mXaVQ6VPMIaCSvQoFAbWnFOKYzs67rMdw=\\r\\nX-Google-Smtp-Source: AGHT+IGF2CEHHJ/P7dw+d8cUn5o+cQuJsDZyuyPadxPnoXvRvyeSVp6POVt3FzaaRKYblxZ0IT/nELjt5D/bjk2eVaM=\\r\\nX-Received: by 2002:a05:6512:224b:b0:4fb:8ff2:f2d7 with SMTP id\\r\\n i11-20020a056512224b00b004fb8ff2f2d7mr706478lfu.45.1691129764362; Thu, 03 Aug\\r\\n 2023 23:16:04 -0700 (PDT)\\r\\nMIME-Version: 1.0\\r\\nFrom: Aditya P <adityadevopsengineer@gmail.com>\\r\\nDate: Fri, 4 Aug 2023 02:15:53 -0400\\r\\nMessage-ID: <CAJEL5k-acvWg4xLBr2PDYOdqR+3nXm25F6E7L+H7umUccc1YeQ@mail.gmail.com>\\r\\nSubject: PYTHONDEM\\r\\nTo: pidikitiaditya@gmail.com\\r\\nContent-Type: multipart/alternative; boundary=\"000000000000dfbdf6060212d4d3\"\\r\\n\\r\\n--000000000000dfbdf6060212d4d3\\r\\nContent-Type: text/plain; charset=\"UTF-8\"\\r\\n\\r\\njssdjdj\\r\\n\\r\\n--000000000000dfbdf6060212d4d3\\r\\nContent-Type: text/html; charset=\"UTF-8\"\\r\\n\\r\\njssdjdj\\r\\n\\r\\n--000000000000dfbdf6060212d4d3--\\r\\n'),\n",
       " b' FLAGS (\\\\Seen))']"
      ]
     },
     "execution_count": 59,
     "metadata": {},
     "output_type": "execute_result"
    }
   ],
   "source": [
    "email_data"
   ]
  },
  {
   "cell_type": "code",
   "execution_count": 62,
   "id": "d9062e27",
   "metadata": {},
   "outputs": [],
   "source": [
    "raw_email = email_data[0][1]"
   ]
  },
  {
   "cell_type": "code",
   "execution_count": 64,
   "id": "93e1f985",
   "metadata": {},
   "outputs": [],
   "source": [
    "raw_email_strng = raw_email.decode('utf-8')"
   ]
  },
  {
   "cell_type": "code",
   "execution_count": 65,
   "id": "44e6580e",
   "metadata": {},
   "outputs": [],
   "source": [
    "import email"
   ]
  },
  {
   "cell_type": "code",
   "execution_count": 66,
   "id": "7e851182",
   "metadata": {},
   "outputs": [],
   "source": [
    "email_message = email.message_from_string(raw_email_strng)"
   ]
  },
  {
   "cell_type": "code",
   "execution_count": 68,
   "id": "15bc1af5",
   "metadata": {},
   "outputs": [
    {
     "name": "stdout",
     "output_type": "stream",
     "text": [
      "b'jssdjdj\\r\\n'\n"
     ]
    }
   ],
   "source": [
    "for part in email_message.walk():\n",
    "    \n",
    "    if part.get_content_type() == 'text/plain':\n",
    "        body = part.get_payload(decode=True)\n",
    "        print(body)"
   ]
  },
  {
   "cell_type": "code",
   "execution_count": null,
   "id": "55099ef6",
   "metadata": {},
   "outputs": [],
   "source": []
  }
 ],
 "metadata": {
  "kernelspec": {
   "display_name": "Python 3 (ipykernel)",
   "language": "python",
   "name": "python3"
  },
  "language_info": {
   "codemirror_mode": {
    "name": "ipython",
    "version": 3
   },
   "file_extension": ".py",
   "mimetype": "text/x-python",
   "name": "python",
   "nbconvert_exporter": "python",
   "pygments_lexer": "ipython3",
   "version": "3.10.9"
  }
 },
 "nbformat": 4,
 "nbformat_minor": 5
}
