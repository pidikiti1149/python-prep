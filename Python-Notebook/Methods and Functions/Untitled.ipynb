{
 "cells": [
  {
   "cell_type": "code",
   "execution_count": 1,
   "id": "9475da94",
   "metadata": {},
   "outputs": [],
   "source": [
    "mylist = [1,2,3,4]"
   ]
  },
  {
   "cell_type": "code",
   "execution_count": 2,
   "id": "b37b368d",
   "metadata": {},
   "outputs": [],
   "source": [
    "mylist.append(5)"
   ]
  },
  {
   "cell_type": "code",
   "execution_count": 3,
   "id": "c63fc0cf",
   "metadata": {},
   "outputs": [
    {
     "data": {
      "text/plain": [
       "[1, 2, 3, 4, 5]"
      ]
     },
     "execution_count": 3,
     "metadata": {},
     "output_type": "execute_result"
    }
   ],
   "source": [
    "mylist"
   ]
  },
  {
   "cell_type": "code",
   "execution_count": 4,
   "id": "41c5ce4c",
   "metadata": {},
   "outputs": [
    {
     "data": {
      "text/plain": [
       "5"
      ]
     },
     "execution_count": 4,
     "metadata": {},
     "output_type": "execute_result"
    }
   ],
   "source": [
    "mylist.pop(4)"
   ]
  },
  {
   "cell_type": "code",
   "execution_count": 5,
   "id": "4bb6d7af",
   "metadata": {},
   "outputs": [
    {
     "data": {
      "text/plain": [
       "[1, 2, 3, 4]"
      ]
     },
     "execution_count": 5,
     "metadata": {},
     "output_type": "execute_result"
    }
   ],
   "source": [
    "mylist"
   ]
  },
  {
   "cell_type": "code",
   "execution_count": 6,
   "id": "2ab7a71d",
   "metadata": {},
   "outputs": [
    {
     "name": "stdout",
     "output_type": "stream",
     "text": [
      "Help on built-in function insert:\n",
      "\n",
      "insert(index, object, /) method of builtins.list instance\n",
      "    Insert object before index.\n",
      "\n"
     ]
    }
   ],
   "source": [
    "help(mylist.insert)                #help function to get the documentaion on the object "
   ]
  },
  {
   "cell_type": "code",
   "execution_count": 8,
   "id": "ba3f120b",
   "metadata": {},
   "outputs": [],
   "source": [
    "# Documentation : https://docs.python.org/3/ "
   ]
  },
  {
   "cell_type": "code",
   "execution_count": 9,
   "id": "aacb3004",
   "metadata": {},
   "outputs": [],
   "source": [
    "#FUnctions"
   ]
  },
  {
   "cell_type": "code",
   "execution_count": 10,
   "id": "4d9e4591",
   "metadata": {},
   "outputs": [],
   "source": [
    "# def name_of_function():\n",
    "   \n",
    "\n",
    "\n",
    "\n",
    "#syntax of the function use lowercase with underscores when naming a function"
   ]
  },
  {
   "cell_type": "code",
   "execution_count": 13,
   "id": "68d4bf74",
   "metadata": {},
   "outputs": [
    {
     "name": "stdout",
     "output_type": "stream",
     "text": [
      "HelloAditya\n"
     ]
    }
   ],
   "source": [
    "def demo_function(name):                    #basic python function with return \n",
    "    return ('Hello'+ name)\n",
    "\n",
    "name1 = demo_function('Aditya')\n",
    "\n",
    "print(name1)"
   ]
  },
  {
   "cell_type": "code",
   "execution_count": 21,
   "id": "b1dd165b",
   "metadata": {},
   "outputs": [],
   "source": [
    "def first_function(name=\"Aditya\"):       #name varible can have a default value \n",
    "    print(f\"Hello {name}\")"
   ]
  },
  {
   "cell_type": "code",
   "execution_count": 22,
   "id": "ec5edad5",
   "metadata": {},
   "outputs": [
    {
     "name": "stdout",
     "output_type": "stream",
     "text": [
      "Hello Akhil\n"
     ]
    }
   ],
   "source": [
    "first_function('Akhil')                #Calling a function needs the paranthesis"
   ]
  },
  {
   "cell_type": "code",
   "execution_count": 23,
   "id": "5e236622",
   "metadata": {},
   "outputs": [
    {
     "name": "stdout",
     "output_type": "stream",
     "text": [
      "Hello Aditya\n"
     ]
    }
   ],
   "source": [
    "first_function()     "
   ]
  },
  {
   "cell_type": "code",
   "execution_count": 25,
   "id": "fa0e21ef",
   "metadata": {},
   "outputs": [],
   "source": [
    "def add_num(num1,num2):\n",
    "    return num1+num2"
   ]
  },
  {
   "cell_type": "code",
   "execution_count": 26,
   "id": "a0b7b1bc",
   "metadata": {},
   "outputs": [],
   "source": [
    "result = add_num(10,20)"
   ]
  },
  {
   "cell_type": "code",
   "execution_count": 27,
   "id": "b6288c69",
   "metadata": {},
   "outputs": [
    {
     "name": "stdout",
     "output_type": "stream",
     "text": [
      "30\n"
     ]
    }
   ],
   "source": [
    "print(result)"
   ]
  },
  {
   "cell_type": "code",
   "execution_count": 32,
   "id": "e0dd0be5",
   "metadata": {},
   "outputs": [],
   "source": [
    "def add_result(a,b):\n",
    "    print(a+b)"
   ]
  },
  {
   "cell_type": "code",
   "execution_count": 33,
   "id": "f6aecf58",
   "metadata": {},
   "outputs": [
    {
     "name": "stdout",
     "output_type": "stream",
     "text": [
      "3\n"
     ]
    }
   ],
   "source": [
    "result1 = add_result(1,2)"
   ]
  },
  {
   "cell_type": "code",
   "execution_count": 34,
   "id": "952a5ada",
   "metadata": {},
   "outputs": [],
   "source": [
    "result1"
   ]
  },
  {
   "cell_type": "code",
   "execution_count": 35,
   "id": "ce318ef7",
   "metadata": {},
   "outputs": [
    {
     "name": "stdout",
     "output_type": "stream",
     "text": [
      "None\n"
     ]
    }
   ],
   "source": [
    "print(result1)"
   ]
  },
  {
   "cell_type": "code",
   "execution_count": 36,
   "id": "ebe8df01",
   "metadata": {},
   "outputs": [],
   "source": [
    "def return_result(a,b):\n",
    "    return(a+b)"
   ]
  },
  {
   "cell_type": "code",
   "execution_count": 37,
   "id": "7fecaf7b",
   "metadata": {},
   "outputs": [],
   "source": [
    "result2 = return_result(10,20)"
   ]
  },
  {
   "cell_type": "code",
   "execution_count": 38,
   "id": "808f6d82",
   "metadata": {},
   "outputs": [
    {
     "data": {
      "text/plain": [
       "30"
      ]
     },
     "execution_count": 38,
     "metadata": {},
     "output_type": "execute_result"
    }
   ],
   "source": [
    "result2"
   ]
  },
  {
   "cell_type": "code",
   "execution_count": 39,
   "id": "dc88d655",
   "metadata": {},
   "outputs": [
    {
     "data": {
      "text/plain": [
       "int"
      ]
     },
     "execution_count": 39,
     "metadata": {},
     "output_type": "execute_result"
    }
   ],
   "source": [
    "type(result2)"
   ]
  },
  {
   "cell_type": "code",
   "execution_count": 40,
   "id": "d10916c4",
   "metadata": {},
   "outputs": [
    {
     "data": {
      "text/plain": [
       "NoneType"
      ]
     },
     "execution_count": 40,
     "metadata": {},
     "output_type": "execute_result"
    }
   ],
   "source": [
    "type(result1)"
   ]
  },
  {
   "cell_type": "code",
   "execution_count": 41,
   "id": "b90d8d4d",
   "metadata": {},
   "outputs": [],
   "source": [
    "# print only prints but don't save the output, return allows to save the variable"
   ]
  },
  {
   "cell_type": "code",
   "execution_count": 42,
   "id": "61d07b7c",
   "metadata": {},
   "outputs": [],
   "source": [
    "def print_return_result(a,b):\n",
    "    return(a+b)\n",
    "    print(a+b)"
   ]
  },
  {
   "cell_type": "code",
   "execution_count": 43,
   "id": "2c28cbfa",
   "metadata": {},
   "outputs": [
    {
     "data": {
      "text/plain": [
       "30"
      ]
     },
     "execution_count": 43,
     "metadata": {},
     "output_type": "execute_result"
    }
   ],
   "source": [
    "print_return_result(10,20)"
   ]
  },
  {
   "cell_type": "code",
   "execution_count": 44,
   "id": "2158e39b",
   "metadata": {},
   "outputs": [],
   "source": [
    "result = print_return_result(10,20)"
   ]
  },
  {
   "cell_type": "code",
   "execution_count": 45,
   "id": "a1e2879d",
   "metadata": {},
   "outputs": [
    {
     "data": {
      "text/plain": [
       "30"
      ]
     },
     "execution_count": 45,
     "metadata": {},
     "output_type": "execute_result"
    }
   ],
   "source": [
    "result"
   ]
  },
  {
   "cell_type": "code",
   "execution_count": 46,
   "id": "ba4eb6a4",
   "metadata": {},
   "outputs": [],
   "source": [
    "# FUnctions with logic "
   ]
  },
  {
   "cell_type": "code",
   "execution_count": 47,
   "id": "c3aee0a7",
   "metadata": {},
   "outputs": [],
   "source": [
    "def even_check(number):\n",
    "    result = number % 2 == 0\n",
    "    return result\n",
    "\n",
    "# or \n",
    "\n",
    "def even_check(number):\n",
    "    return number % 2 == 0"
   ]
  },
  {
   "cell_type": "code",
   "execution_count": 48,
   "id": "db796107",
   "metadata": {},
   "outputs": [
    {
     "data": {
      "text/plain": [
       "True"
      ]
     },
     "execution_count": 48,
     "metadata": {},
     "output_type": "execute_result"
    }
   ],
   "source": [
    "even_check(20)"
   ]
  },
  {
   "cell_type": "code",
   "execution_count": 49,
   "id": "cb78c165",
   "metadata": {},
   "outputs": [],
   "source": [
    "# RETURN true if any number inside a list is true "
   ]
  },
  {
   "cell_type": "code",
   "execution_count": 54,
   "id": "d06d3450",
   "metadata": {},
   "outputs": [],
   "source": [
    "def check_even(num_list):\n",
    "    for number in num_list:\n",
    "        if number % 2 == 0:\n",
    "            return True\n",
    "    else:\n",
    "        pass\n",
    "    \n",
    "    return False"
   ]
  },
  {
   "cell_type": "code",
   "execution_count": 55,
   "id": "ecec7ca6",
   "metadata": {},
   "outputs": [
    {
     "data": {
      "text/plain": [
       "False"
      ]
     },
     "execution_count": 55,
     "metadata": {},
     "output_type": "execute_result"
    }
   ],
   "source": [
    "check_even([1,3,5])"
   ]
  },
  {
   "cell_type": "code",
   "execution_count": 56,
   "id": "72bd1c38",
   "metadata": {},
   "outputs": [
    {
     "data": {
      "text/plain": [
       "True"
      ]
     },
     "execution_count": 56,
     "metadata": {},
     "output_type": "execute_result"
    }
   ],
   "source": [
    "check_even([2,4,5])"
   ]
  },
  {
   "cell_type": "code",
   "execution_count": 57,
   "id": "69f0074d",
   "metadata": {},
   "outputs": [],
   "source": [
    "def check_even(num_list):\n",
    "    \n",
    "    even_numbers = []\n",
    "    \n",
    "    for number in num_list:\n",
    "        if number % 2 == 0:\n",
    "            even_numbers.append(number)\n",
    "    else:\n",
    "        pass\n",
    "    \n",
    "    return even_numbers"
   ]
  },
  {
   "cell_type": "code",
   "execution_count": 58,
   "id": "067cc464",
   "metadata": {},
   "outputs": [
    {
     "data": {
      "text/plain": [
       "[2, 4]"
      ]
     },
     "execution_count": 58,
     "metadata": {},
     "output_type": "execute_result"
    }
   ],
   "source": [
    "check_even([2,4,5])"
   ]
  },
  {
   "cell_type": "code",
   "execution_count": 59,
   "id": "5d0efc5b",
   "metadata": {},
   "outputs": [],
   "source": [
    "#Tuple unpacking "
   ]
  },
  {
   "cell_type": "code",
   "execution_count": 116,
   "id": "c140b446",
   "metadata": {},
   "outputs": [],
   "source": [
    "stock_prices=[('AAPL',200),('GOOG',250),('MSFT',100)]"
   ]
  },
  {
   "cell_type": "code",
   "execution_count": 117,
   "id": "175ab624",
   "metadata": {},
   "outputs": [
    {
     "name": "stdout",
     "output_type": "stream",
     "text": [
      "('AAPL', 200)\n",
      "('GOOG', 250)\n",
      "('MSFT', 100)\n"
     ]
    }
   ],
   "source": [
    "for items in stock_prices:\n",
    "    print(items)"
   ]
  },
  {
   "cell_type": "code",
   "execution_count": 118,
   "id": "04a67d1e",
   "metadata": {},
   "outputs": [
    {
     "name": "stdout",
     "output_type": "stream",
     "text": [
      "AAPL\n",
      "GOOG\n",
      "MSFT\n"
     ]
    }
   ],
   "source": [
    "for key,values in stock_prices:\n",
    "    print(key)"
   ]
  },
  {
   "cell_type": "code",
   "execution_count": 119,
   "id": "f96b3c38",
   "metadata": {},
   "outputs": [
    {
     "name": "stdout",
     "output_type": "stream",
     "text": [
      "200\n",
      "250\n",
      "100\n"
     ]
    }
   ],
   "source": [
    "for key,values in stock_prices:\n",
    "    print(values)"
   ]
  },
  {
   "cell_type": "code",
   "execution_count": 120,
   "id": "c5b2bbd4",
   "metadata": {},
   "outputs": [
    {
     "name": "stdout",
     "output_type": "stream",
     "text": [
      "220.00000000000003\n",
      "275.0\n",
      "110.00000000000001\n"
     ]
    }
   ],
   "source": [
    "for key,values in stock_prices:\n",
    "    print(values*1.1)"
   ]
  },
  {
   "cell_type": "code",
   "execution_count": 121,
   "id": "dfddb003",
   "metadata": {},
   "outputs": [],
   "source": [
    "def top_price(stock_prices):\n",
    "    \n",
    "    stockprice_max = 0\n",
    "    ticker_symbol= ''\n",
    "    \n",
    "    for ticker, stockprice in stock_prices:\n",
    "        if stockprice > stockprice_max:\n",
    "            stockprice_max = stockprice\n",
    "            ticker_symbol = ticker\n",
    "        else:\n",
    "            pass\n",
    "            \n",
    "    \n",
    "    return(stockprice_max,ticker_symbol)"
   ]
  },
  {
   "cell_type": "code",
   "execution_count": 122,
   "id": "708e5f62",
   "metadata": {},
   "outputs": [],
   "source": [
    "topprice= top_price(stock_prices)"
   ]
  },
  {
   "cell_type": "code",
   "execution_count": 123,
   "id": "674134df",
   "metadata": {},
   "outputs": [
    {
     "data": {
      "text/plain": [
       "(250, 'GOOG')"
      ]
     },
     "execution_count": 123,
     "metadata": {},
     "output_type": "execute_result"
    }
   ],
   "source": [
    "top_price(stock_prices)"
   ]
  },
  {
   "cell_type": "code",
   "execution_count": 77,
   "id": "324ab5ca",
   "metadata": {},
   "outputs": [],
   "source": [
    "price,ticker = top_price(stock_prices)         #touple unpacking "
   ]
  },
  {
   "cell_type": "code",
   "execution_count": 78,
   "id": "b021d02a",
   "metadata": {},
   "outputs": [
    {
     "data": {
      "text/plain": [
       "300"
      ]
     },
     "execution_count": 78,
     "metadata": {},
     "output_type": "execute_result"
    }
   ],
   "source": [
    "price"
   ]
  },
  {
   "cell_type": "code",
   "execution_count": 79,
   "id": "3a02710e",
   "metadata": {},
   "outputs": [
    {
     "data": {
      "text/plain": [
       "'MSFT'"
      ]
     },
     "execution_count": 79,
     "metadata": {},
     "output_type": "execute_result"
    }
   ],
   "source": [
    "ticker"
   ]
  },
  {
   "cell_type": "code",
   "execution_count": 80,
   "id": "ddb95fd1",
   "metadata": {},
   "outputs": [],
   "source": [
    "# Interaction between functions "
   ]
  },
  {
   "cell_type": "code",
   "execution_count": 81,
   "id": "8f4a75b6",
   "metadata": {},
   "outputs": [],
   "source": [
    "example = [1,2,3,4,5,6]"
   ]
  },
  {
   "cell_type": "code",
   "execution_count": 82,
   "id": "8da6db1c",
   "metadata": {},
   "outputs": [],
   "source": [
    "from random import shuffle"
   ]
  },
  {
   "cell_type": "code",
   "execution_count": 84,
   "id": "819ead6e",
   "metadata": {},
   "outputs": [],
   "source": [
    "shuffle(example)"
   ]
  },
  {
   "cell_type": "code",
   "execution_count": 85,
   "id": "e8668189",
   "metadata": {},
   "outputs": [
    {
     "data": {
      "text/plain": [
       "[5, 3, 6, 1, 4, 2]"
      ]
     },
     "execution_count": 85,
     "metadata": {},
     "output_type": "execute_result"
    }
   ],
   "source": [
    "example"
   ]
  },
  {
   "cell_type": "code",
   "execution_count": 88,
   "id": "9de33baa",
   "metadata": {},
   "outputs": [],
   "source": [
    "def shuffle_list(mylist):\n",
    "    shuffle(mylist)\n",
    "    return mylist"
   ]
  },
  {
   "cell_type": "code",
   "execution_count": 95,
   "id": "c35e66bf",
   "metadata": {},
   "outputs": [],
   "source": [
    "result = shuffle_list(example)"
   ]
  },
  {
   "cell_type": "code",
   "execution_count": 93,
   "id": "307b0b1b",
   "metadata": {},
   "outputs": [
    {
     "data": {
      "text/plain": [
       "[3, 2, 6, 4, 1, 5]"
      ]
     },
     "execution_count": 93,
     "metadata": {},
     "output_type": "execute_result"
    }
   ],
   "source": [
    "shuffle_list(example)"
   ]
  },
  {
   "cell_type": "code",
   "execution_count": 96,
   "id": "93d2a003",
   "metadata": {},
   "outputs": [
    {
     "data": {
      "text/plain": [
       "[1, 2, 5, 4, 3, 6]"
      ]
     },
     "execution_count": 96,
     "metadata": {},
     "output_type": "execute_result"
    }
   ],
   "source": [
    "result"
   ]
  },
  {
   "cell_type": "code",
   "execution_count": 97,
   "id": "46ad56f1",
   "metadata": {},
   "outputs": [],
   "source": [
    "mylist = ['', '', 'O']"
   ]
  },
  {
   "cell_type": "code",
   "execution_count": 99,
   "id": "b7c18f09",
   "metadata": {},
   "outputs": [
    {
     "data": {
      "text/plain": [
       "['O', '', '']"
      ]
     },
     "execution_count": 99,
     "metadata": {},
     "output_type": "execute_result"
    }
   ],
   "source": [
    "shuffle_list(mylist)"
   ]
  },
  {
   "cell_type": "code",
   "execution_count": 124,
   "id": "6d5fccd1",
   "metadata": {},
   "outputs": [],
   "source": [
    "def player_guess():\n",
    "    \n",
    "    guess= input(\"Pick a number: 0,1,2\")\n",
    "    \n",
    "    return int(guess)"
   ]
  },
  {
   "cell_type": "code",
   "execution_count": 125,
   "id": "83c60ebc",
   "metadata": {},
   "outputs": [
    {
     "name": "stdout",
     "output_type": "stream",
     "text": [
      "Pick a number: 0,1,21\n"
     ]
    },
    {
     "data": {
      "text/plain": [
       "1"
      ]
     },
     "execution_count": 125,
     "metadata": {},
     "output_type": "execute_result"
    }
   ],
   "source": [
    "player_guess()"
   ]
  },
  {
   "cell_type": "code",
   "execution_count": 102,
   "id": "f6baa4a0",
   "metadata": {},
   "outputs": [
    {
     "name": "stdout",
     "output_type": "stream",
     "text": [
      "Pick a number: 0,1,21\n"
     ]
    }
   ],
   "source": [
    "myindex = player_guess()"
   ]
  },
  {
   "cell_type": "code",
   "execution_count": 103,
   "id": "64b5633d",
   "metadata": {},
   "outputs": [
    {
     "data": {
      "text/plain": [
       "1"
      ]
     },
     "execution_count": 103,
     "metadata": {},
     "output_type": "execute_result"
    }
   ],
   "source": [
    "myindex"
   ]
  },
  {
   "cell_type": "code",
   "execution_count": 106,
   "id": "03199c8b",
   "metadata": {},
   "outputs": [],
   "source": [
    "def check_guess(mylist,guess):\n",
    "    if mylist[guess] == 'O':\n",
    "        print(\"Correct Guess!\")\n",
    "    else: \n",
    "        print(\"wrong guess!\")\n",
    "        print(mylist)"
   ]
  },
  {
   "cell_type": "code",
   "execution_count": 113,
   "id": "716c72f2",
   "metadata": {},
   "outputs": [
    {
     "name": "stdout",
     "output_type": "stream",
     "text": [
      "Pick a number: 0,1,22\n",
      "Correct Guess!\n"
     ]
    }
   ],
   "source": [
    "#INITIAL LIST\n",
    "mylist = ['', '', 'O']\n",
    "\n",
    "#SHUFFLE LIST\n",
    "mix_list = shuffle_list(mylist)\n",
    "\n",
    "#USER GUESS \n",
    "guess = player_guess()\n",
    "\n",
    "#CHECK GUESS\n",
    "check_guess(mix_list,guess)"
   ]
  },
  {
   "cell_type": "code",
   "execution_count": 114,
   "id": "c16a7d2e",
   "metadata": {},
   "outputs": [
    {
     "name": "stdout",
     "output_type": "stream",
     "text": [
      "Correct Guess!\n"
     ]
    }
   ],
   "source": [
    "check_guess(mix_list,guess)"
   ]
  },
  {
   "cell_type": "code",
   "execution_count": 115,
   "id": "ebbee9e4",
   "metadata": {},
   "outputs": [
    {
     "name": "stdout",
     "output_type": "stream",
     "text": [
      "Correct Guess!\n"
     ]
    }
   ],
   "source": [
    "check_guess(mix_list,guess)"
   ]
  },
  {
   "cell_type": "code",
   "execution_count": 130,
   "id": "d8fb0203",
   "metadata": {},
   "outputs": [
    {
     "name": "stdout",
     "output_type": "stream",
     "text": [
      "enter a number1\n"
     ]
    }
   ],
   "source": [
    "x = input(\"enter a number\")\n",
    "x = int(x)\n",
    "def cheking_even(x):\n",
    "    if x%2 == 0:\n",
    "        return \"its even\"\n",
    "    else:\n",
    "        return \"its odd\""
   ]
  },
  {
   "cell_type": "code",
   "execution_count": 131,
   "id": "f4e52f6b",
   "metadata": {},
   "outputs": [
    {
     "data": {
      "text/plain": [
       "'its odd'"
      ]
     },
     "execution_count": 131,
     "metadata": {},
     "output_type": "execute_result"
    }
   ],
   "source": [
    "cheking_even(1)"
   ]
  },
  {
   "cell_type": "code",
   "execution_count": 132,
   "id": "302756e6",
   "metadata": {},
   "outputs": [],
   "source": [
    "even = cheking_even(7)"
   ]
  },
  {
   "cell_type": "code",
   "execution_count": 133,
   "id": "3a52bb92",
   "metadata": {},
   "outputs": [
    {
     "data": {
      "text/plain": [
       "'its odd'"
      ]
     },
     "execution_count": 133,
     "metadata": {},
     "output_type": "execute_result"
    }
   ],
   "source": [
    "even"
   ]
  },
  {
   "cell_type": "code",
   "execution_count": 138,
   "id": "ee02cbaa",
   "metadata": {},
   "outputs": [
    {
     "data": {
      "text/plain": [
       "10"
      ]
     },
     "execution_count": 138,
     "metadata": {},
     "output_type": "execute_result"
    }
   ],
   "source": [
    "def myfunc(*args):\n",
    "    return sum(args)\n",
    "\n",
    "myfunc(1,2,3,4)"
   ]
  },
  {
   "cell_type": "code",
   "execution_count": 169,
   "id": "b11513a1",
   "metadata": {},
   "outputs": [],
   "source": [
    "def myfunc(*args):                           #function to seprate even odd numbers to a list\n",
    "    even_list = []\n",
    "    odd_list = []\n",
    "    for num in args:\n",
    "        if num%2==0:\n",
    "            even_list.append(num)\n",
    "        else:\n",
    "            odd_list.append(num)    \n",
    "    return odd_list, even_list"
   ]
  },
  {
   "cell_type": "code",
   "execution_count": 170,
   "id": "0504f80c",
   "metadata": {},
   "outputs": [],
   "source": [
    "result = myfunc(1,2,3,4)"
   ]
  },
  {
   "cell_type": "code",
   "execution_count": 171,
   "id": "ef403bee",
   "metadata": {},
   "outputs": [
    {
     "data": {
      "text/plain": [
       "([1, 3], [2, 4])"
      ]
     },
     "execution_count": 171,
     "metadata": {},
     "output_type": "execute_result"
    }
   ],
   "source": [
    "result"
   ]
  },
  {
   "cell_type": "code",
   "execution_count": 168,
   "id": "9d733cad",
   "metadata": {},
   "outputs": [
    {
     "ename": "NameError",
     "evalue": "name 'odd' is not defined",
     "output_type": "error",
     "traceback": [
      "\u001b[0;31m---------------------------------------------------------------------------\u001b[0m",
      "\u001b[0;31mNameError\u001b[0m                                 Traceback (most recent call last)",
      "Cell \u001b[0;32mIn[168], line 1\u001b[0m\n\u001b[0;32m----> 1\u001b[0m \u001b[43modd\u001b[49m\n",
      "\u001b[0;31mNameError\u001b[0m: name 'odd' is not defined"
     ]
    }
   ],
   "source": [
    "odd"
   ]
  },
  {
   "cell_type": "code",
   "execution_count": 172,
   "id": "962ebedf",
   "metadata": {},
   "outputs": [],
   "source": [
    "def myfunc(x):\n",
    "    out = []\n",
    "    for i in range(len(x)):\n",
    "        if i%2==0:\n",
    "            out.append(x[i].lower())\n",
    "        else:\n",
    "            out.append(x[i].upper())\n",
    "    return ''.join(out)"
   ]
  },
  {
   "cell_type": "code",
   "execution_count": 176,
   "id": "09a73fc1",
   "metadata": {},
   "outputs": [
    {
     "data": {
      "text/plain": [
       "'wOrDwO'"
      ]
     },
     "execution_count": 176,
     "metadata": {},
     "output_type": "execute_result"
    }
   ],
   "source": [
    "myfunc('wordwo')"
   ]
  },
  {
   "cell_type": "code",
   "execution_count": 174,
   "id": "35e22eac",
   "metadata": {},
   "outputs": [
    {
     "ename": "NameError",
     "evalue": "name 'out' is not defined",
     "output_type": "error",
     "traceback": [
      "\u001b[0;31m---------------------------------------------------------------------------\u001b[0m",
      "\u001b[0;31mNameError\u001b[0m                                 Traceback (most recent call last)",
      "Cell \u001b[0;32mIn[174], line 1\u001b[0m\n\u001b[0;32m----> 1\u001b[0m \u001b[43mout\u001b[49m\n",
      "\u001b[0;31mNameError\u001b[0m: name 'out' is not defined"
     ]
    }
   ],
   "source": [
    "out"
   ]
  },
  {
   "cell_type": "code",
   "execution_count": 189,
   "id": "0b12d18e",
   "metadata": {},
   "outputs": [],
   "source": [
    "def myfunc(x):\n",
    "    out = []\n",
    "    for index,word in enumerate(x):\n",
    "        if index%2==0:\n",
    "            out.append(x[index].lower())\n",
    "        else:\n",
    "            out.append(x[index].upper())\n",
    "    return ''.join(out)"
   ]
  },
  {
   "cell_type": "code",
   "execution_count": 191,
   "id": "30806d20",
   "metadata": {},
   "outputs": [
    {
     "data": {
      "text/plain": [
       "'wOrD'"
      ]
     },
     "execution_count": 191,
     "metadata": {},
     "output_type": "execute_result"
    }
   ],
   "source": [
    "myfunc('word')"
   ]
  },
  {
   "cell_type": "code",
   "execution_count": 192,
   "id": "84df34c6",
   "metadata": {},
   "outputs": [],
   "source": [
    "# *args and kargs"
   ]
  },
  {
   "cell_type": "code",
   "execution_count": 210,
   "id": "d88a9793",
   "metadata": {},
   "outputs": [],
   "source": [
    "def my_func(a,b):\n",
    "    return ((a*b)*0.5)"
   ]
  },
  {
   "cell_type": "code",
   "execution_count": 211,
   "id": "28989176",
   "metadata": {},
   "outputs": [
    {
     "data": {
      "text/plain": [
       "5.0"
      ]
     },
     "execution_count": 211,
     "metadata": {},
     "output_type": "execute_result"
    }
   ],
   "source": [
    "my_func(1,10)"
   ]
  },
  {
   "cell_type": "code",
   "execution_count": 202,
   "id": "e217b167",
   "metadata": {},
   "outputs": [],
   "source": [
    "def my_func(*args):\n",
    "    return sum(args)"
   ]
  },
  {
   "cell_type": "code",
   "execution_count": 203,
   "id": "49c460eb",
   "metadata": {},
   "outputs": [
    {
     "data": {
      "text/plain": [
       "126"
      ]
     },
     "execution_count": 203,
     "metadata": {},
     "output_type": "execute_result"
    }
   ],
   "source": [
    "my_func(1,10,2,3,4,5,5,6,67,7,8,8)"
   ]
  },
  {
   "cell_type": "code",
   "execution_count": 242,
   "id": "d89403ef",
   "metadata": {},
   "outputs": [],
   "source": [
    "def my_func(*args):\n",
    "    my_list=[]\n",
    "    for item in args:\n",
    "        my_list.append(item)\n",
    "    \n",
    "    return my_list"
   ]
  },
  {
   "cell_type": "code",
   "execution_count": 243,
   "id": "9e932eb4",
   "metadata": {},
   "outputs": [
    {
     "data": {
      "text/plain": [
       "[1, 10, 2, 3, 4, 5, 5, 6, 67, 7, 8, 8]"
      ]
     },
     "execution_count": 243,
     "metadata": {},
     "output_type": "execute_result"
    }
   ],
   "source": [
    "my_func(1,10,2,3,4,5,5,6,67,7,8,8)"
   ]
  },
  {
   "cell_type": "code",
   "execution_count": 287,
   "id": "f7e6f260",
   "metadata": {},
   "outputs": [],
   "source": [
    "def my_func(**kwargs):                       #**kwargs id for dictionaries\n",
    "    if 'fruit' in kwargs:  \n",
    "        return (f\"The name is {kwargs['fruit']}\")\n",
    "    else:\n",
    "        return ('I cant find any fruit')"
   ]
  },
  {
   "cell_type": "code",
   "execution_count": 288,
   "id": "dade7604",
   "metadata": {},
   "outputs": [
    {
     "data": {
      "text/plain": [
       "'The name is apple'"
      ]
     },
     "execution_count": 288,
     "metadata": {},
     "output_type": "execute_result"
    }
   ],
   "source": [
    "my_func(fruit='apple')"
   ]
  },
  {
   "cell_type": "code",
   "execution_count": 295,
   "id": "8d95fe7d",
   "metadata": {},
   "outputs": [],
   "source": [
    "def my_func(*args,**kwargs):  \n",
    "    print('The price of {} is ${}'.format(kwargs['fruit'],args[0]))"
   ]
  },
  {
   "cell_type": "code",
   "execution_count": 296,
   "id": "1f18854b",
   "metadata": {},
   "outputs": [
    {
     "name": "stdout",
     "output_type": "stream",
     "text": [
      "The price of apple is $20\n"
     ]
    }
   ],
   "source": [
    "my_func(20,fruit='apple')"
   ]
  },
  {
   "cell_type": "code",
   "execution_count": 298,
   "id": "79cb4d2a",
   "metadata": {},
   "outputs": [],
   "source": [
    "def myfunc(name= ''):\n",
    "    print(f'My name is {name}')"
   ]
  },
  {
   "cell_type": "code",
   "execution_count": 301,
   "id": "cc5a8595",
   "metadata": {},
   "outputs": [
    {
     "name": "stdout",
     "output_type": "stream",
     "text": [
      "My name is 1\n"
     ]
    }
   ],
   "source": [
    "myfunc(1)"
   ]
  },
  {
   "cell_type": "code",
   "execution_count": 304,
   "id": "299f7759",
   "metadata": {},
   "outputs": [
    {
     "name": "stdout",
     "output_type": "stream",
     "text": [
      "My name is Aditya and age is 25\n"
     ]
    }
   ],
   "source": [
    "def myfunc(name:str, age:int):                              #force function variable to use data type \n",
    "    print(f'My name is {name} and age is {age}')\n",
    "    \n",
    "myfunc('Aditya',25)"
   ]
  },
  {
   "cell_type": "code",
   "execution_count": 305,
   "id": "1073e7c8",
   "metadata": {},
   "outputs": [
    {
     "data": {
      "text/plain": [
       "False"
      ]
     },
     "execution_count": 305,
     "metadata": {},
     "output_type": "execute_result"
    }
   ],
   "source": [
    "def is_less(c,d):\n",
    "    if c > d:\n",
    "        return True\n",
    "    elif c <= d:\n",
    "        return False\n",
    "    else: \n",
    "        pass\n",
    "    \n",
    "is_less(1,2)"
   ]
  },
  {
   "cell_type": "code",
   "execution_count": 359,
   "id": "044d144d",
   "metadata": {},
   "outputs": [],
   "source": [
    "def my_func(x):\n",
    "    z=[]\n",
    "    for y in range(len(x)):\n",
    "        if y%2==0:\n",
    "            z.append(x[y].lower())\n",
    "        else:\n",
    "            z.append(x[y].upper())\n",
    "            \n",
    "    return ''.join(z)"
   ]
  },
  {
   "cell_type": "code",
   "execution_count": 360,
   "id": "184112f4",
   "metadata": {},
   "outputs": [
    {
     "data": {
      "text/plain": [
       "'aDiTyA'"
      ]
     },
     "execution_count": 360,
     "metadata": {},
     "output_type": "execute_result"
    }
   ],
   "source": [
    "my_func('aditya')"
   ]
  },
  {
   "cell_type": "code",
   "execution_count": 351,
   "id": "323e6fd2",
   "metadata": {},
   "outputs": [
    {
     "data": {
      "text/plain": [
       "6"
      ]
     },
     "execution_count": 351,
     "metadata": {},
     "output_type": "execute_result"
    }
   ],
   "source": [
    "len('string')"
   ]
  },
  {
   "cell_type": "code",
   "execution_count": 372,
   "id": "e15e2f7f",
   "metadata": {},
   "outputs": [],
   "source": [
    "def lesser_of_two_evens(a,b):\n",
    "    if a%2==0 and b%2==0:\n",
    "        return (min(a,b))\n",
    "    elif a%2==1 or b%2==1:\n",
    "        return (max(a,b))\n",
    "    else:\n",
    "        pass"
   ]
  },
  {
   "cell_type": "code",
   "execution_count": 373,
   "id": "df46a66b",
   "metadata": {},
   "outputs": [
    {
     "data": {
      "text/plain": [
       "2"
      ]
     },
     "execution_count": 373,
     "metadata": {},
     "output_type": "execute_result"
    }
   ],
   "source": [
    "lesser_of_two_evens(1,2)"
   ]
  },
  {
   "cell_type": "code",
   "execution_count": 374,
   "id": "2cb32ec9",
   "metadata": {},
   "outputs": [
    {
     "data": {
      "text/plain": [
       "2"
      ]
     },
     "execution_count": 374,
     "metadata": {},
     "output_type": "execute_result"
    }
   ],
   "source": [
    "lesser_of_two_evens(2,4)"
   ]
  },
  {
   "cell_type": "code",
   "execution_count": 458,
   "id": "3a7ad002",
   "metadata": {},
   "outputs": [],
   "source": [
    "def animal_crackers(text):\n",
    "    x = text.split()\n",
    "    if x[0][0] == x[1][0] :\n",
    "        return True\n",
    "    elif x[0][0] != x[1][0] :\n",
    "        return False\n",
    "    else:\n",
    "        pass"
   ]
  },
  {
   "cell_type": "code",
   "execution_count": null,
   "id": "13b32846",
   "metadata": {},
   "outputs": [],
   "source": []
  },
  {
   "cell_type": "code",
   "execution_count": 460,
   "id": "6bda3d48",
   "metadata": {},
   "outputs": [
    {
     "data": {
      "text/plain": [
       "True"
      ]
     },
     "execution_count": 460,
     "metadata": {},
     "output_type": "execute_result"
    }
   ],
   "source": [
    "animal_crackers('Levelheaded Llama')"
   ]
  },
  {
   "cell_type": "code",
   "execution_count": 427,
   "id": "c2c97c2e",
   "metadata": {},
   "outputs": [
    {
     "ename": "AttributeError",
     "evalue": "'NoneType' object has no attribute 'split'",
     "output_type": "error",
     "traceback": [
      "\u001b[0;31m---------------------------------------------------------------------------\u001b[0m",
      "\u001b[0;31mAttributeError\u001b[0m                            Traceback (most recent call last)",
      "Cell \u001b[0;32mIn[427], line 1\u001b[0m\n\u001b[0;32m----> 1\u001b[0m x\u001b[38;5;241m=\u001b[39m \u001b[43mtest\u001b[49m\u001b[38;5;241;43m.\u001b[39;49m\u001b[43msplit\u001b[49m()\n\u001b[1;32m      3\u001b[0m \u001b[38;5;28;01mif\u001b[39;00m x[\u001b[38;5;241m0\u001b[39m][\u001b[38;5;241m0\u001b[39m] \u001b[38;5;241m==\u001b[39m x[\u001b[38;5;241m1\u001b[39m][\u001b[38;5;241m0\u001b[39m]:\n\u001b[1;32m      4\u001b[0m     \u001b[38;5;28mprint\u001b[39m(\u001b[38;5;28;01mTrue\u001b[39;00m)\n",
      "\u001b[0;31mAttributeError\u001b[0m: 'NoneType' object has no attribute 'split'"
     ]
    }
   ],
   "source": [
    "x= test.split()\n",
    "\n",
    "if x[0][0] == x[1][0]:\n",
    "    print()"
   ]
  },
  {
   "cell_type": "code",
   "execution_count": 461,
   "id": "53094a23",
   "metadata": {},
   "outputs": [],
   "source": [
    "def makes_twenty(n1,n2):\n",
    "    if sum(n1,n2) == 20 or (n1,n2)==20:\n",
    "        return True\n",
    "    pass"
   ]
  },
  {
   "cell_type": "code",
   "execution_count": 462,
   "id": "fdb03488",
   "metadata": {},
   "outputs": [
    {
     "ename": "TypeError",
     "evalue": "'int' object is not iterable",
     "output_type": "error",
     "traceback": [
      "\u001b[0;31m---------------------------------------------------------------------------\u001b[0m",
      "\u001b[0;31mTypeError\u001b[0m                                 Traceback (most recent call last)",
      "Cell \u001b[0;32mIn[462], line 1\u001b[0m\n\u001b[0;32m----> 1\u001b[0m \u001b[43mmakes_twenty\u001b[49m\u001b[43m(\u001b[49m\u001b[38;5;241;43m20\u001b[39;49m\u001b[43m,\u001b[49m\u001b[38;5;241;43m10\u001b[39;49m\u001b[43m)\u001b[49m\n",
      "Cell \u001b[0;32mIn[461], line 2\u001b[0m, in \u001b[0;36mmakes_twenty\u001b[0;34m(n1, n2)\u001b[0m\n\u001b[1;32m      1\u001b[0m \u001b[38;5;28;01mdef\u001b[39;00m \u001b[38;5;21mmakes_twenty\u001b[39m(n1,n2):\n\u001b[0;32m----> 2\u001b[0m     \u001b[38;5;28;01mif\u001b[39;00m \u001b[38;5;28;43msum\u001b[39;49m\u001b[43m(\u001b[49m\u001b[43mn1\u001b[49m\u001b[43m,\u001b[49m\u001b[43mn2\u001b[49m\u001b[43m)\u001b[49m \u001b[38;5;241m==\u001b[39m \u001b[38;5;241m20\u001b[39m \u001b[38;5;129;01mor\u001b[39;00m (n1,n2)\u001b[38;5;241m==\u001b[39m\u001b[38;5;241m20\u001b[39m:\n\u001b[1;32m      3\u001b[0m         \u001b[38;5;28;01mreturn\u001b[39;00m \u001b[38;5;28;01mTrue\u001b[39;00m\n\u001b[1;32m      4\u001b[0m     \u001b[38;5;28;01mpass\u001b[39;00m\n",
      "\u001b[0;31mTypeError\u001b[0m: 'int' object is not iterable"
     ]
    }
   ],
   "source": [
    "makes_twenty(20,10)"
   ]
  },
  {
   "cell_type": "code",
   "execution_count": 815,
   "id": "7cd60ac2",
   "metadata": {},
   "outputs": [],
   "source": [
    "def paper_doll(text):\n",
    "    z=[]\n",
    "    for x in text:\n",
    "        z.append(x*3)\n",
    "    \n",
    "    return ''.join(z)"
   ]
  },
  {
   "cell_type": "code",
   "execution_count": 817,
   "id": "a87e57eb",
   "metadata": {},
   "outputs": [
    {
     "data": {
      "text/plain": [
       "'HHHeeellllllooo'"
      ]
     },
     "execution_count": 817,
     "metadata": {},
     "output_type": "execute_result"
    }
   ],
   "source": [
    "paper_doll('Hello')"
   ]
  },
  {
   "cell_type": "code",
   "execution_count": 867,
   "id": "9c58b105",
   "metadata": {},
   "outputs": [],
   "source": [
    "def blackjack(*args):\n",
    "    if sum(args) <= 21:\n",
    "        return sum(args)\n",
    "    elif sum(args) > 21 and args == 11:\n",
    "        return sum(args)-10\n",
    "    elif sum(args) > 21:\n",
    "        return 'BUST'\n",
    "    else:\n",
    "        pass"
   ]
  },
  {
   "cell_type": "code",
   "execution_count": 893,
   "id": "4e1eb65f",
   "metadata": {},
   "outputs": [],
   "source": [
    "def blackjack(*args):\n",
    "    for x in args:\n",
    "        if sum(args) > 21 and x == 11:\n",
    "            return sum(args)-10\n",
    "    if sum(args) <= 21:\n",
    "        return sum(args)\n",
    "    elif sum(args) > 21:\n",
    "        return \"BUST\"\n",
    "    else:\n",
    "        pass\n",
    "        \n",
    "        "
   ]
  },
  {
   "cell_type": "code",
   "execution_count": 896,
   "id": "5d22da30",
   "metadata": {},
   "outputs": [
    {
     "data": {
      "text/plain": [
       "19"
      ]
     },
     "execution_count": 896,
     "metadata": {},
     "output_type": "execute_result"
    }
   ],
   "source": [
    "blackjack(9,9,1)"
   ]
  },
  {
   "cell_type": "code",
   "execution_count": 869,
   "id": "28398982",
   "metadata": {},
   "outputs": [],
   "source": [
    "def check_args_for_11(*args):\n"
   ]
  },
  {
   "cell_type": "code",
   "execution_count": 870,
   "id": "f2efade8",
   "metadata": {},
   "outputs": [
    {
     "name": "stdout",
     "output_type": "stream",
     "text": [
      "True\n"
     ]
    }
   ],
   "source": [
    "print(check_args_for_11(1, 2, 3, 11, 4))"
   ]
  },
  {
   "cell_type": "code",
   "execution_count": 887,
   "id": "b034bbd6",
   "metadata": {},
   "outputs": [],
   "source": [
    "def blackjack(*args):\n",
    "    total = sum(args)\n",
    "    num_aces = args.count(11)\n",
    "    for i in range(num_aces):\n",
    "        if total > 21:\n",
    "            total -= 10\n",
    "    if total <= 21:\n",
    "        return total\n",
    "    else:\n",
    "        return 'BUST'"
   ]
  },
  {
   "cell_type": "code",
   "execution_count": 888,
   "id": "bbc266e2",
   "metadata": {},
   "outputs": [
    {
     "data": {
      "text/plain": [
       "19"
      ]
     },
     "execution_count": 888,
     "metadata": {},
     "output_type": "execute_result"
    }
   ],
   "source": [
    "blackjack(9,9,11)"
   ]
  },
  {
   "cell_type": "code",
   "execution_count": 935,
   "id": "384339c4",
   "metadata": {},
   "outputs": [],
   "source": [
    "def summer_69(arr):\n",
    "    z = []\n",
    "    for index,num in enumerate(arr) :\n",
    "            if arr[index] == 6 and arr[index+1] == 9:\n",
    "                arr[index] == 0 \n",
    "                arr[y] == 0\n",
    "                return sum(arr)\n",
    "            elif arr[index] == range(6,10) :\n",
    "                return sum(arr == range(0,6))\n",
    "            else:\n",
    "                pass\n",
    "                \n",
    "                "
   ]
  },
  {
   "cell_type": "code",
   "execution_count": 936,
   "id": "2fb84ace",
   "metadata": {},
   "outputs": [],
   "source": [
    "summer_69([1, 3, 5, 6])"
   ]
  },
  {
   "cell_type": "code",
   "execution_count": 964,
   "id": "67de68cc",
   "metadata": {},
   "outputs": [],
   "source": [
    "def summer_69(arr):\n",
    "    z = []\n",
    "    for index,num in enumerate(arr) :\n",
    "        y = range(6,10)\n",
    "        if arr[index] == y:\n",
    "            z.append(arr[y])\n",
    "            return sum(z)\n",
    "    if arr[index] != range(6,10):\n",
    "        arr[index] == range(0,6) == y\n",
    "        return sum(y)\n",
    "    else:\n",
    "        pass"
   ]
  },
  {
   "cell_type": "code",
   "execution_count": 965,
   "id": "1ab3cbb3",
   "metadata": {},
   "outputs": [
    {
     "data": {
      "text/plain": [
       "30"
      ]
     },
     "execution_count": 965,
     "metadata": {},
     "output_type": "execute_result"
    }
   ],
   "source": [
    "summer_69([1, 3, 5])"
   ]
  },
  {
   "cell_type": "code",
   "execution_count": 1076,
   "id": "232c8091",
   "metadata": {},
   "outputs": [],
   "source": [
    "def summer_69(arr):\n",
    "    for index,num in enumerate(arr) :\n",
    "        if arr[index] in range(6,10):\n",
    "            arr[index] = 0\n",
    "    return sum(arr)\n",
    "            "
   ]
  },
  {
   "cell_type": "code",
   "execution_count": 1078,
   "id": "96ce6687",
   "metadata": {},
   "outputs": [
    {
     "data": {
      "text/plain": [
       "14"
      ]
     },
     "execution_count": 1078,
     "metadata": {},
     "output_type": "execute_result"
    }
   ],
   "source": [
    "summer_69([2, 1, 6, 9, 11])"
   ]
  },
  {
   "cell_type": "code",
   "execution_count": 987,
   "id": "257ee9c4",
   "metadata": {},
   "outputs": [
    {
     "name": "stdout",
     "output_type": "stream",
     "text": [
      "range(6, 10)\n"
     ]
    }
   ],
   "source": [
    "y = range(6,10)\n",
    "print (y)"
   ]
  },
  {
   "cell_type": "code",
   "execution_count": 981,
   "id": "e378d961",
   "metadata": {},
   "outputs": [
    {
     "data": {
      "text/plain": [
       "[range(6, 10)]"
      ]
     },
     "execution_count": 981,
     "metadata": {},
     "output_type": "execute_result"
    }
   ],
   "source": [
    "y"
   ]
  },
  {
   "cell_type": "code",
   "execution_count": 983,
   "id": "25e8a320",
   "metadata": {},
   "outputs": [
    {
     "ename": "TypeError",
     "evalue": "'tuple' object cannot be interpreted as an integer",
     "output_type": "error",
     "traceback": [
      "\u001b[0;31m---------------------------------------------------------------------------\u001b[0m",
      "\u001b[0;31mTypeError\u001b[0m                                 Traceback (most recent call last)",
      "Cell \u001b[0;32mIn[983], line 1\u001b[0m\n\u001b[0;32m----> 1\u001b[0m \u001b[38;5;28;43mrange\u001b[39;49m\u001b[43m(\u001b[49m\u001b[43m(\u001b[49m\u001b[38;5;241;43m6\u001b[39;49m\u001b[43m,\u001b[49m\u001b[38;5;241;43m10\u001b[39;49m\u001b[43m)\u001b[49m\u001b[43m)\u001b[49m\n",
      "\u001b[0;31mTypeError\u001b[0m: 'tuple' object cannot be interpreted as an integer"
     ]
    }
   ],
   "source": [
    "range(6,10)"
   ]
  },
  {
   "cell_type": "code",
   "execution_count": 1193,
   "id": "6ee7e1cb",
   "metadata": {},
   "outputs": [],
   "source": [
    "def spy_game(nums):\n",
    "    y = [0,0,7]\n",
    "    z = []\n",
    "    for x in nums:\n",
    "        if x in y:\n",
    "            z.append(x)\n",
    "    if z == y:\n",
    "        return True\n",
    "    else:\n",
    "        return False"
   ]
  },
  {
   "cell_type": "code",
   "execution_count": 1196,
   "id": "fa84e71b",
   "metadata": {},
   "outputs": [
    {
     "data": {
      "text/plain": [
       "False"
      ]
     },
     "execution_count": 1196,
     "metadata": {},
     "output_type": "execute_result"
    }
   ],
   "source": [
    "spy_game([1,2,0,4,5,7])"
   ]
  },
  {
   "cell_type": "code",
   "execution_count": 1164,
   "id": "803f03ee",
   "metadata": {},
   "outputs": [
    {
     "data": {
      "text/plain": [
       "True"
      ]
     },
     "execution_count": 1164,
     "metadata": {},
     "output_type": "execute_result"
    }
   ],
   "source": [
    "0 in [1,2,0,0,4,5,7]"
   ]
  },
  {
   "cell_type": "code",
   "execution_count": 98,
   "id": "64f1f154",
   "metadata": {},
   "outputs": [],
   "source": [
    "def count_primes(num):\n",
    "    z=[]\n",
    "    for x in range(2,num+1):\n",
    "        for i in range(2,x):\n",
    "            if (x%i)==0:\n",
    "                break\n",
    "        else:\n",
    "            z.append(x)\n",
    "    return len(z)\n"
   ]
  },
  {
   "cell_type": "code",
   "execution_count": 99,
   "id": "beb8659f",
   "metadata": {},
   "outputs": [
    {
     "data": {
      "text/plain": [
       "46"
      ]
     },
     "execution_count": 99,
     "metadata": {},
     "output_type": "execute_result"
    }
   ],
   "source": [
    "count_primes(200)"
   ]
  },
  {
   "cell_type": "code",
   "execution_count": 270,
   "id": "a5199625",
   "metadata": {},
   "outputs": [],
   "source": [
    "def print_big(letter):\n",
    "    dict= {'a':['  *  ', ' * * ', '*****', '*   *', '*   *'],'b':['*****','*   *','*****','*   *','*****']}\n",
    "    z = []\n",
    "    for x in letter:\n",
    "        if x == dict[x]:\n",
    "            break\n",
    "    for items in dict[x]:\n",
    "        print (items)\n",
    "    "
   ]
  },
  {
   "cell_type": "code",
   "execution_count": 271,
   "id": "58cb6961",
   "metadata": {},
   "outputs": [
    {
     "name": "stdout",
     "output_type": "stream",
     "text": [
      "  *  \n",
      " * * \n",
      "*****\n",
      "*   *\n",
      "*   *\n"
     ]
    }
   ],
   "source": [
    " print_big('a')"
   ]
  },
  {
   "cell_type": "code",
   "execution_count": 120,
   "id": "f06dd926",
   "metadata": {},
   "outputs": [
    {
     "ename": "SyntaxError",
     "evalue": "invalid syntax (3516227499.py, line 1)",
     "output_type": "error",
     "traceback": [
      "\u001b[0;36m  Cell \u001b[0;32mIn[120], line 1\u001b[0;36m\u001b[0m\n\u001b[0;31m    dict['a'][]\u001b[0m\n\u001b[0m              ^\u001b[0m\n\u001b[0;31mSyntaxError\u001b[0m\u001b[0;31m:\u001b[0m invalid syntax\n"
     ]
    }
   ],
   "source": [
    "dict['a'][]"
   ]
  },
  {
   "cell_type": "code",
   "execution_count": 272,
   "id": "b288b6af",
   "metadata": {},
   "outputs": [],
   "source": [
    "# Lambda expersions "
   ]
  },
  {
   "cell_type": "code",
   "execution_count": 274,
   "id": "3fe86fac",
   "metadata": {},
   "outputs": [],
   "source": [
    "def square(num):\n",
    "    return (num**2)          #MAP function"
   ]
  },
  {
   "cell_type": "code",
   "execution_count": 275,
   "id": "4a8d0fd7",
   "metadata": {},
   "outputs": [
    {
     "data": {
      "text/plain": [
       "25"
      ]
     },
     "execution_count": 275,
     "metadata": {},
     "output_type": "execute_result"
    }
   ],
   "source": [
    "square(5)"
   ]
  },
  {
   "cell_type": "code",
   "execution_count": 276,
   "id": "be13d12b",
   "metadata": {},
   "outputs": [],
   "source": [
    "my_nums=[1,2,3]"
   ]
  },
  {
   "cell_type": "code",
   "execution_count": 279,
   "id": "d5b73f0a",
   "metadata": {},
   "outputs": [
    {
     "name": "stdout",
     "output_type": "stream",
     "text": [
      "1\n",
      "4\n",
      "9\n"
     ]
    }
   ],
   "source": [
    "for item in map(square,my_nums):\n",
    "    print(item)"
   ]
  },
  {
   "cell_type": "code",
   "execution_count": 280,
   "id": "83af2890",
   "metadata": {},
   "outputs": [
    {
     "data": {
      "text/plain": [
       "[1, 4, 9]"
      ]
     },
     "execution_count": 280,
     "metadata": {},
     "output_type": "execute_result"
    }
   ],
   "source": [
    "list(map(square,my_nums))"
   ]
  },
  {
   "cell_type": "code",
   "execution_count": 292,
   "id": "cc7f0f0d",
   "metadata": {},
   "outputs": [],
   "source": [
    "def splicer(mystring):\n",
    "    if len(mystring)%2 == 0:\n",
    "        return 'EVEN'\n",
    "    else:\n",
    "        return mystring"
   ]
  },
  {
   "cell_type": "code",
   "execution_count": 293,
   "id": "17a2abc2",
   "metadata": {},
   "outputs": [],
   "source": [
    "names = ['Aditya', 'SAM', 'Eric']"
   ]
  },
  {
   "cell_type": "code",
   "execution_count": 294,
   "id": "9ec61e7d",
   "metadata": {},
   "outputs": [
    {
     "data": {
      "text/plain": [
       "['EVEN', 'SAM', 'EVEN']"
      ]
     },
     "execution_count": 294,
     "metadata": {},
     "output_type": "execute_result"
    }
   ],
   "source": [
    " list(map(splicer,names))"
   ]
  },
  {
   "cell_type": "code",
   "execution_count": 295,
   "id": "cb914b14",
   "metadata": {},
   "outputs": [],
   "source": [
    "# Filter function "
   ]
  },
  {
   "cell_type": "code",
   "execution_count": 296,
   "id": "2f5dbc91",
   "metadata": {},
   "outputs": [],
   "source": [
    "def check_even(num):\n",
    "    return num%2 == 0"
   ]
  },
  {
   "cell_type": "code",
   "execution_count": 298,
   "id": "577d0d49",
   "metadata": {},
   "outputs": [],
   "source": [
    "nums = [1,2,3,4,5]"
   ]
  },
  {
   "cell_type": "code",
   "execution_count": 299,
   "id": "3ccb9e8f",
   "metadata": {},
   "outputs": [
    {
     "data": {
      "text/plain": [
       "<filter at 0x7f8cdc9401f0>"
      ]
     },
     "execution_count": 299,
     "metadata": {},
     "output_type": "execute_result"
    }
   ],
   "source": [
    "filter(check_even, nums)"
   ]
  },
  {
   "cell_type": "code",
   "execution_count": 300,
   "id": "b3c9c472",
   "metadata": {},
   "outputs": [
    {
     "data": {
      "text/plain": [
       "[2, 4]"
      ]
     },
     "execution_count": 300,
     "metadata": {},
     "output_type": "execute_result"
    }
   ],
   "source": [
    "list(filter(check_even, nums))"
   ]
  },
  {
   "cell_type": "code",
   "execution_count": 302,
   "id": "eca3a221",
   "metadata": {},
   "outputs": [
    {
     "name": "stdout",
     "output_type": "stream",
     "text": [
      "2\n",
      "4\n"
     ]
    }
   ],
   "source": [
    "for item in filter(check_even, nums):\n",
    "    print(item)"
   ]
  },
  {
   "cell_type": "code",
   "execution_count": 303,
   "id": "aad0e2dc",
   "metadata": {},
   "outputs": [],
   "source": [
    "def square(num): return (num**2)"
   ]
  },
  {
   "cell_type": "code",
   "execution_count": 304,
   "id": "84141b8e",
   "metadata": {},
   "outputs": [
    {
     "data": {
      "text/plain": [
       "14641"
      ]
     },
     "execution_count": 304,
     "metadata": {},
     "output_type": "execute_result"
    }
   ],
   "source": [
    "square(121)"
   ]
  },
  {
   "cell_type": "code",
   "execution_count": 308,
   "id": "3780d479",
   "metadata": {},
   "outputs": [],
   "source": [
    "square = lambda num : num**0.5"
   ]
  },
  {
   "cell_type": "code",
   "execution_count": 310,
   "id": "4dc9b4e4",
   "metadata": {},
   "outputs": [
    {
     "data": {
      "text/plain": [
       "12.0"
      ]
     },
     "execution_count": 310,
     "metadata": {},
     "output_type": "execute_result"
    }
   ],
   "source": [
    "square(144)"
   ]
  },
  {
   "cell_type": "code",
   "execution_count": 312,
   "id": "76fcb51f",
   "metadata": {},
   "outputs": [
    {
     "data": {
      "text/plain": [
       "[1, 4, 9, 16, 25]"
      ]
     },
     "execution_count": 312,
     "metadata": {},
     "output_type": "execute_result"
    }
   ],
   "source": [
    "list(map(lambda num: num**2, nums))"
   ]
  },
  {
   "cell_type": "code",
   "execution_count": 313,
   "id": "e8fa1287",
   "metadata": {},
   "outputs": [
    {
     "data": {
      "text/plain": [
       "[2, 4]"
      ]
     },
     "execution_count": 313,
     "metadata": {},
     "output_type": "execute_result"
    }
   ],
   "source": [
    "list(filter(lambda num: num%2==0, nums))"
   ]
  },
  {
   "cell_type": "code",
   "execution_count": 314,
   "id": "be30969a",
   "metadata": {},
   "outputs": [
    {
     "data": {
      "text/plain": [
       "['Aditya', 'SAM', 'Eric']"
      ]
     },
     "execution_count": 314,
     "metadata": {},
     "output_type": "execute_result"
    }
   ],
   "source": [
    "names"
   ]
  },
  {
   "cell_type": "code",
   "execution_count": 315,
   "id": "0c1b22a2",
   "metadata": {},
   "outputs": [
    {
     "data": {
      "text/plain": [
       "['A', 'S', 'E']"
      ]
     },
     "execution_count": 315,
     "metadata": {},
     "output_type": "execute_result"
    }
   ],
   "source": [
    "list(map(lambda name:name[0], names))"
   ]
  },
  {
   "cell_type": "code",
   "execution_count": 319,
   "id": "d9bce2f7",
   "metadata": {},
   "outputs": [
    {
     "data": {
      "text/plain": [
       "['aytidA', 'MAS', 'cirE']"
      ]
     },
     "execution_count": 319,
     "metadata": {},
     "output_type": "execute_result"
    }
   ],
   "source": [
    "list(map(lambda name:name[::-1], names))"
   ]
  },
  {
   "cell_type": "code",
   "execution_count": 320,
   "id": "b546a11d",
   "metadata": {},
   "outputs": [],
   "source": [
    "# Nested statements and scope"
   ]
  },
  {
   "cell_type": "code",
   "execution_count": 321,
   "id": "f77ddb7a",
   "metadata": {},
   "outputs": [],
   "source": [
    "x = 25\n",
    "\n",
    "def printer():\n",
    "    x=50 \n",
    "    return x"
   ]
  },
  {
   "cell_type": "code",
   "execution_count": 324,
   "id": "3950267e",
   "metadata": {},
   "outputs": [
    {
     "name": "stdout",
     "output_type": "stream",
     "text": [
      "50\n"
     ]
    }
   ],
   "source": [
    "print(printer())"
   ]
  },
  {
   "cell_type": "code",
   "execution_count": 325,
   "id": "1dd69c79",
   "metadata": {},
   "outputs": [],
   "source": [
    "#lambda num: num**2"
   ]
  },
  {
   "cell_type": "code",
   "execution_count": 330,
   "id": "ffbfd893",
   "metadata": {},
   "outputs": [
    {
     "name": "stdout",
     "output_type": "stream",
     "text": [
      "Hello\tLocal\n"
     ]
    }
   ],
   "source": [
    "name = 'ThIS IS A GLOBAL STRING'\n",
    "\n",
    "def greet():\n",
    "    \n",
    "    name = 'SAMMY'\n",
    "    \n",
    "    def hello():\n",
    "        name = 'Local'\n",
    "        print(\"Hello\\t\"+name)\n",
    "    \n",
    "    hello()\n",
    "\n",
    "greet()"
   ]
  },
  {
   "cell_type": "code",
   "execution_count": 335,
   "id": "c6ea8f69",
   "metadata": {},
   "outputs": [],
   "source": [
    "x = 50\n",
    "\n",
    "def printer(x):\n",
    "    print(f'This id {x}')"
   ]
  },
  {
   "cell_type": "code",
   "execution_count": 337,
   "id": "627516fd",
   "metadata": {},
   "outputs": [
    {
     "name": "stdout",
     "output_type": "stream",
     "text": [
      "This id 50\n"
     ]
    }
   ],
   "source": [
    "printer(x)"
   ]
  },
  {
   "cell_type": "code",
   "execution_count": 338,
   "id": "bf6fd3a4",
   "metadata": {},
   "outputs": [],
   "source": [
    "my_list = [1,1,1,1,2,2,3,3,3,3,4,5]"
   ]
  },
  {
   "cell_type": "code",
   "execution_count": 379,
   "id": "228198df",
   "metadata": {},
   "outputs": [
    {
     "data": {
      "text/plain": [
       "12"
      ]
     },
     "execution_count": 379,
     "metadata": {},
     "output_type": "execute_result"
    }
   ],
   "source": [
    "len(my_list)"
   ]
  },
  {
   "cell_type": "code",
   "execution_count": 342,
   "id": "e065a92c",
   "metadata": {},
   "outputs": [
    {
     "name": "stdout",
     "output_type": "stream",
     "text": [
      "None\n"
     ]
    }
   ],
   "source": [
    "print(my_list.sort())"
   ]
  },
  {
   "cell_type": "code",
   "execution_count": 348,
   "id": "b62539af",
   "metadata": {},
   "outputs": [],
   "source": [
    "def vol(rad):\n",
    "    for x in rad:\n",
    "        return (4.0/3.0)*(22/7)* x**3"
   ]
  },
  {
   "cell_type": "code",
   "execution_count": 356,
   "id": "5824a52b",
   "metadata": {},
   "outputs": [
    {
     "data": {
      "text/plain": [
       "2145.523809523809"
      ]
     },
     "execution_count": 356,
     "metadata": {},
     "output_type": "execute_result"
    }
   ],
   "source": [
    "vol(8)"
   ]
  },
  {
   "cell_type": "code",
   "execution_count": 354,
   "id": "8c2b9415",
   "metadata": {},
   "outputs": [],
   "source": [
    "vol = lambda x : (4.0/3.0)*(22/7)* x**3"
   ]
  },
  {
   "cell_type": "code",
   "execution_count": 355,
   "id": "435c02cb",
   "metadata": {},
   "outputs": [
    {
     "data": {
      "text/plain": [
       "33.52380952380952"
      ]
     },
     "execution_count": 355,
     "metadata": {},
     "output_type": "execute_result"
    }
   ],
   "source": [
    "vol(2)"
   ]
  },
  {
   "cell_type": "code",
   "execution_count": 357,
   "id": "7a838bb7",
   "metadata": {},
   "outputs": [],
   "source": [
    "def ran_check(num,low,high):\n",
    "    return num in range(low,high)"
   ]
  },
  {
   "cell_type": "code",
   "execution_count": 359,
   "id": "d4f60279",
   "metadata": {},
   "outputs": [
    {
     "data": {
      "text/plain": [
       "False"
      ]
     },
     "execution_count": 359,
     "metadata": {},
     "output_type": "execute_result"
    }
   ],
   "source": [
    "ran_check(5,6,7)"
   ]
  },
  {
   "cell_type": "code",
   "execution_count": 361,
   "id": "958a266e",
   "metadata": {},
   "outputs": [],
   "source": [
    "def ran_check(num,low,high):\n",
    "    if num in range(low,high):\n",
    "        print (f'{num} is in the range between {low} and {high}')\n",
    "    else:\n",
    "        print (f'{num} is in not the range between {low} and {high}')\n",
    "               "
   ]
  },
  {
   "cell_type": "code",
   "execution_count": 362,
   "id": "c12fe958",
   "metadata": {},
   "outputs": [
    {
     "name": "stdout",
     "output_type": "stream",
     "text": [
      "5 is in not the range between 6 and 7\n"
     ]
    }
   ],
   "source": [
    "ran_check(5,6,7)"
   ]
  },
  {
   "cell_type": "code",
   "execution_count": 403,
   "id": "10fbeb68",
   "metadata": {},
   "outputs": [],
   "source": [
    "def up_low(s:str):\n",
    "    up = []\n",
    "    low = []\n",
    "    for x in s:\n",
    "        if x.islower():\n",
    "            low.append(x)\n",
    "        elif x.isupper():\n",
    "            up.append(x)\n",
    "        else:\n",
    "            pass\n",
    "    print(f'No. of Upper case characters :{len(up)}\\nNo. of lower case characters :{len(low)}')"
   ]
  },
  {
   "cell_type": "code",
   "execution_count": 404,
   "id": "a7b4725c",
   "metadata": {},
   "outputs": [
    {
     "name": "stdout",
     "output_type": "stream",
     "text": [
      "No. of Upper case characters :4\n",
      "No. of lower case characters :33\n"
     ]
    }
   ],
   "source": [
    "s = 'Hello Mr. Rogers, how are you this fine Tuesday?'\n",
    "up_low('Hello Mr. Rogers, how are you this fine Tuesday?')"
   ]
  },
  {
   "cell_type": "code",
   "execution_count": 405,
   "id": "3fe74a91",
   "metadata": {},
   "outputs": [
    {
     "data": {
      "text/plain": [
       "['Hello', 'Mr.', 'Rogers,', 'how', 'are', 'you', 'this', 'fine', 'Tuesday?']"
      ]
     },
     "execution_count": 405,
     "metadata": {},
     "output_type": "execute_result"
    }
   ],
   "source": [
    "s.split()"
   ]
  },
  {
   "cell_type": "code",
   "execution_count": 378,
   "id": "7e0d5126",
   "metadata": {},
   "outputs": [
    {
     "data": {
      "text/plain": [
       "[]"
      ]
     },
     "execution_count": 378,
     "metadata": {},
     "output_type": "execute_result"
    }
   ],
   "source": [
    "up "
   ]
  },
  {
   "cell_type": "code",
   "execution_count": 398,
   "id": "a501c68f",
   "metadata": {},
   "outputs": [
    {
     "data": {
      "text/plain": [
       "False"
      ]
     },
     "execution_count": 398,
     "metadata": {},
     "output_type": "execute_result"
    }
   ],
   "source": [
    "a = ' '\n",
    "a.isupper()"
   ]
  },
  {
   "cell_type": "code",
   "execution_count": 407,
   "id": "0d169d9d",
   "metadata": {},
   "outputs": [],
   "source": [
    "my_list = [1,1,1,1,2,2,3,3,3,3,4,5]\n",
    "\n",
    "new_set = set(my_list)\n",
    "\n",
    "new_list = list(new_set)\n"
   ]
  },
  {
   "cell_type": "code",
   "execution_count": 408,
   "id": "5323179e",
   "metadata": {},
   "outputs": [
    {
     "data": {
      "text/plain": [
       "[1, 2, 3, 4, 5]"
      ]
     },
     "execution_count": 408,
     "metadata": {},
     "output_type": "execute_result"
    }
   ],
   "source": [
    "new_list"
   ]
  },
  {
   "cell_type": "code",
   "execution_count": 409,
   "id": "f71df642",
   "metadata": {},
   "outputs": [],
   "source": [
    "def unique_list(lst):\n",
    "    new_set = set(lst)\n",
    "    new_list = list(new_set)\n",
    "    print(new_list)"
   ]
  },
  {
   "cell_type": "code",
   "execution_count": 410,
   "id": "3a49fdb0",
   "metadata": {},
   "outputs": [
    {
     "name": "stdout",
     "output_type": "stream",
     "text": [
      "[1, 2, 3, 4, 5]\n"
     ]
    }
   ],
   "source": [
    "unique_list([1,1,1,1,2,2,3,3,3,3,4,5])"
   ]
  },
  {
   "cell_type": "code",
   "execution_count": 415,
   "id": "da40cd4e",
   "metadata": {},
   "outputs": [],
   "source": [
    "def multiply(numbers): \n",
    "    result = 1 \n",
    "    for x in numbers:\n",
    "        result = result * x\n",
    "    return  result"
   ]
  },
  {
   "cell_type": "code",
   "execution_count": 416,
   "id": "9f8f0521",
   "metadata": {},
   "outputs": [
    {
     "data": {
      "text/plain": [
       "-24"
      ]
     },
     "execution_count": 416,
     "metadata": {},
     "output_type": "execute_result"
    }
   ],
   "source": [
    "multiply([1,2,3,-4])"
   ]
  },
  {
   "cell_type": "code",
   "execution_count": 420,
   "id": "bba9ab99",
   "metadata": {},
   "outputs": [
    {
     "ename": "SyntaxError",
     "evalue": "invalid syntax (611704320.py, line 1)",
     "output_type": "error",
     "traceback": [
      "\u001b[0;36m  Cell \u001b[0;32mIn[420], line 1\u001b[0;36m\u001b[0m\n\u001b[0;31m    multiply = lambda (y : x = 1(y))\u001b[0m\n\u001b[0m                      ^\u001b[0m\n\u001b[0;31mSyntaxError\u001b[0m\u001b[0;31m:\u001b[0m invalid syntax\n"
     ]
    }
   ],
   "source": [
    "multiply = lambda (y : x = 1(y))"
   ]
  },
  {
   "cell_type": "code",
   "execution_count": 418,
   "id": "0518f742",
   "metadata": {},
   "outputs": [
    {
     "ename": "TypeError",
     "evalue": "can't multiply sequence by non-int of type 'list'",
     "output_type": "error",
     "traceback": [
      "\u001b[0;31m---------------------------------------------------------------------------\u001b[0m",
      "\u001b[0;31mTypeError\u001b[0m                                 Traceback (most recent call last)",
      "Cell \u001b[0;32mIn[418], line 1\u001b[0m\n\u001b[0;32m----> 1\u001b[0m \u001b[43mmultiply\u001b[49m\u001b[43m(\u001b[49m\u001b[43m[\u001b[49m\u001b[38;5;241;43m1\u001b[39;49m\u001b[43m,\u001b[49m\u001b[38;5;241;43m2\u001b[39;49m\u001b[43m,\u001b[49m\u001b[38;5;241;43m3\u001b[39;49m\u001b[43m,\u001b[49m\u001b[38;5;241;43m-\u001b[39;49m\u001b[38;5;241;43m4\u001b[39;49m\u001b[43m]\u001b[49m\u001b[43m)\u001b[49m\n",
      "Cell \u001b[0;32mIn[417], line 1\u001b[0m, in \u001b[0;36m<lambda>\u001b[0;34m(num)\u001b[0m\n\u001b[0;32m----> 1\u001b[0m multiply \u001b[38;5;241m=\u001b[39m \u001b[38;5;28;01mlambda\u001b[39;00m num : \u001b[43mnum\u001b[49m\u001b[38;5;241;43m*\u001b[39;49m\u001b[43mnum\u001b[49m\n",
      "\u001b[0;31mTypeError\u001b[0m: can't multiply sequence by non-int of type 'list'"
     ]
    }
   ],
   "source": [
    "multiply([1,2,3,-4])"
   ]
  },
  {
   "cell_type": "code",
   "execution_count": 426,
   "id": "82e9a6ca",
   "metadata": {},
   "outputs": [],
   "source": [
    "def palindrome(s):\n",
    "    result = s.replace(' ','')\n",
    "    for x in result:\n",
    "        output = result[::-1]\n",
    "        return result == output"
   ]
  },
  {
   "cell_type": "code",
   "execution_count": 429,
   "id": "60d3d969",
   "metadata": {},
   "outputs": [
    {
     "data": {
      "text/plain": [
       "True"
      ]
     },
     "execution_count": 429,
     "metadata": {},
     "output_type": "execute_result"
    }
   ],
   "source": [
    "palindrome('h e l l e h')"
   ]
  },
  {
   "cell_type": "code",
   "execution_count": 461,
   "id": "c1f8c606",
   "metadata": {},
   "outputs": [],
   "source": [
    "import string\n",
    "\n",
    "def ispangram(str1, alphabet=string.ascii_lowercase):\n",
    "    strng = str1.replace(' ','')\n",
    "    strng1 = strng.lower()\n",
    "    output = \"\".join(sorted(set(strng1)))\n",
    "    return output == alphabet"
   ]
  },
  {
   "cell_type": "code",
   "execution_count": 464,
   "id": "4cc8dc6c",
   "metadata": {},
   "outputs": [
    {
     "data": {
      "text/plain": [
       "True"
      ]
     },
     "execution_count": 464,
     "metadata": {},
     "output_type": "execute_result"
    }
   ],
   "source": [
    "ispangram(\"The quick brown fox jumps over the lazy dog\")"
   ]
  },
  {
   "cell_type": "code",
   "execution_count": 433,
   "id": "c7dc5707",
   "metadata": {},
   "outputs": [],
   "source": [
    "# https://betterprogramming.pub/a-visual-guide-to-set-comparisons-in-python-6ab7edb9ec41"
   ]
  },
  {
   "cell_type": "code",
   "execution_count": 460,
   "id": "e0a2483e",
   "metadata": {},
   "outputs": [
    {
     "name": "stdout",
     "output_type": "stream",
     "text": [
      "abcdefghijklmnopqrstuvwxyz\n"
     ]
    }
   ],
   "source": [
    "ispangram = \"The quick brown fox jumps over the lazy dog\"\n",
    "\n",
    "strng = ispangram.replace(' ','')\n",
    "strng1 = strng.lower()\n",
    "print(\"\".join(sorted(set(strng1))))"
   ]
  },
  {
   "cell_type": "code",
   "execution_count": 451,
   "id": "340cc068",
   "metadata": {},
   "outputs": [
    {
     "ename": "NameError",
     "evalue": "name 'thequickbrownfoxjumpsoverthelazydog' is not defined",
     "output_type": "error",
     "traceback": [
      "\u001b[0;31m---------------------------------------------------------------------------\u001b[0m",
      "\u001b[0;31mNameError\u001b[0m                                 Traceback (most recent call last)",
      "Cell \u001b[0;32mIn[451], line 1\u001b[0m\n\u001b[0;32m----> 1\u001b[0m \u001b[43mthequickbrownfoxjumpsoverthelazydog\u001b[49m\n",
      "\u001b[0;31mNameError\u001b[0m: name 'thequickbrownfoxjumpsoverthelazydog' is not defined"
     ]
    }
   ],
   "source": [
    "thequickbrownfoxjumpsoverthelazydog"
   ]
  },
  {
   "cell_type": "code",
   "execution_count": 2,
   "id": "4c745e01",
   "metadata": {},
   "outputs": [
    {
     "data": {
      "text/plain": [
       "113"
      ]
     },
     "execution_count": 2,
     "metadata": {},
     "output_type": "execute_result"
    }
   ],
   "source": [
    "from functools import reduce\n",
    "\n",
    "lst =[47,11,42,13]\n",
    "reduce(lambda x,y: x+y,lst)"
   ]
  },
  {
   "cell_type": "code",
   "execution_count": 4,
   "id": "70fab77e",
   "metadata": {},
   "outputs": [
    {
     "data": {
      "text/plain": [
       "53"
      ]
     },
     "execution_count": 4,
     "metadata": {},
     "output_type": "execute_result"
    }
   ],
   "source": [
    "from functools import reduce\n",
    "\n",
    "lst =[47,48,42,53]\n",
    "reduce(lambda a,b: a if (a>b) else b,lst)"
   ]
  },
  {
   "cell_type": "code",
   "execution_count": 6,
   "id": "37de253a",
   "metadata": {},
   "outputs": [
    {
     "data": {
      "text/plain": [
       "[-3, -2, -1, 0]"
      ]
     },
     "execution_count": 6,
     "metadata": {},
     "output_type": "execute_result"
    }
   ],
   "source": [
    "a = [1,2,3,4]\n",
    "b = [5,6,7,8]\n",
    "c = [9,10,11,12]\n",
    "\n",
    "list(map(lambda x,y,z: x+y-z,a,b,c))"
   ]
  },
  {
   "cell_type": "code",
   "execution_count": 9,
   "id": "95a0dcad",
   "metadata": {},
   "outputs": [
    {
     "data": {
      "text/plain": [
       "[(1, 5, 9), (2, 6, 10), (3, 7, 11), (4, 8, 12)]"
      ]
     },
     "execution_count": 9,
     "metadata": {},
     "output_type": "execute_result"
    }
   ],
   "source": [
    "list(zip(a,b,c))"
   ]
  },
  {
   "cell_type": "code",
   "execution_count": 11,
   "id": "0338a63a",
   "metadata": {},
   "outputs": [],
   "source": [
    "lstl =range(20)"
   ]
  },
  {
   "cell_type": "code",
   "execution_count": 16,
   "id": "214c4124",
   "metadata": {},
   "outputs": [],
   "source": [
    "lst =range(20)\n",
    "lst2 = list(filter(lambda x: x%2==0,lst))\n",
    "lst3 = list(filter(lambda x: x%2==1,lst))"
   ]
  },
  {
   "cell_type": "code",
   "execution_count": 17,
   "id": "d3d685cd",
   "metadata": {},
   "outputs": [
    {
     "data": {
      "text/plain": [
       "[0, 2, 4, 6, 8, 10, 12, 14, 16, 18]"
      ]
     },
     "execution_count": 17,
     "metadata": {},
     "output_type": "execute_result"
    }
   ],
   "source": [
    "lst2"
   ]
  },
  {
   "cell_type": "code",
   "execution_count": 18,
   "id": "01678107",
   "metadata": {},
   "outputs": [
    {
     "data": {
      "text/plain": [
       "[1, 3, 5, 7, 9, 11, 13, 15, 17, 19]"
      ]
     },
     "execution_count": 18,
     "metadata": {},
     "output_type": "execute_result"
    }
   ],
   "source": [
    "lst3"
   ]
  },
  {
   "cell_type": "code",
   "execution_count": 19,
   "id": "f47eb6eb",
   "metadata": {},
   "outputs": [
    {
     "name": "stdout",
     "output_type": "stream",
     "text": [
      "List numbers:\n",
      " 1\n",
      " 3\n",
      " 5\n",
      " 7\n",
      " 9\n",
      " 11\n",
      " 13\n",
      " 15\n",
      " 17\n",
      " 19\n"
     ]
    }
   ],
   "source": [
    "print(\"List numbers:\", *lst3, sep='\\n ')"
   ]
  },
  {
   "cell_type": "code",
   "execution_count": null,
   "id": "3d355057",
   "metadata": {},
   "outputs": [],
   "source": []
  }
 ],
 "metadata": {
  "kernelspec": {
   "display_name": "Python 3 (ipykernel)",
   "language": "python",
   "name": "python3"
  },
  "language_info": {
   "codemirror_mode": {
    "name": "ipython",
    "version": 3
   },
   "file_extension": ".py",
   "mimetype": "text/x-python",
   "name": "python",
   "nbconvert_exporter": "python",
   "pygments_lexer": "ipython3",
   "version": "3.10.9"
  }
 },
 "nbformat": 4,
 "nbformat_minor": 5
}
