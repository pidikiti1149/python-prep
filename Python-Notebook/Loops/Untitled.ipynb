{
 "cells": [
  {
   "cell_type": "code",
   "execution_count": 3,
   "id": "804d10a4",
   "metadata": {},
   "outputs": [],
   "source": [
    "if 1>3:\n",
    "    print(\"It's true\")"
   ]
  },
  {
   "cell_type": "code",
   "execution_count": 5,
   "id": "7999d6c8",
   "metadata": {},
   "outputs": [
    {
     "name": "stdout",
     "output_type": "stream",
     "text": [
      "I'm Hungry\n"
     ]
    }
   ],
   "source": [
    "hungry = True \n",
    "\n",
    "if hungry:\n",
    "    print(\"I'm Hungry\")"
   ]
  },
  {
   "cell_type": "code",
   "execution_count": 6,
   "id": "2ebfeaff",
   "metadata": {},
   "outputs": [],
   "source": [
    "hungry = False \n",
    "\n",
    "if hungry:\n",
    "    print(\"I'm Hungry\")"
   ]
  },
  {
   "cell_type": "code",
   "execution_count": 7,
   "id": "c51387a5",
   "metadata": {},
   "outputs": [
    {
     "name": "stdout",
     "output_type": "stream",
     "text": [
      "I'm Hungry\n"
     ]
    }
   ],
   "source": [
    "hungry = True \n",
    "\n",
    "if hungry:\n",
    "    print(\"I'm Hungry\")\n",
    "else:\n",
    "    print(\"I'm not Hungry\")"
   ]
  },
  {
   "cell_type": "code",
   "execution_count": 8,
   "id": "7c769119",
   "metadata": {},
   "outputs": [
    {
     "name": "stdout",
     "output_type": "stream",
     "text": [
      "I'm not Hungry\n"
     ]
    }
   ],
   "source": [
    "hungry = False \n",
    "\n",
    "if hungry:\n",
    "    print(\"I'm Hungry\")\n",
    "else:\n",
    "    print(\"I'm not Hungry\")"
   ]
  },
  {
   "cell_type": "code",
   "execution_count": 9,
   "id": "b43da244",
   "metadata": {},
   "outputs": [
    {
     "name": "stdout",
     "output_type": "stream",
     "text": [
      "Sorry! this is a Bank\n"
     ]
    }
   ],
   "source": [
    "loc = 'Bank'\n",
    "\n",
    "if loc=='Auto':\n",
    "    print('This is auto shop')\n",
    "else: \n",
    "    print('Sorry! this is a Bank')"
   ]
  },
  {
   "cell_type": "code",
   "execution_count": 10,
   "id": "a9ca611a",
   "metadata": {},
   "outputs": [
    {
     "ename": "SyntaxError",
     "evalue": "expected ':' (2822148640.py, line 7)",
     "output_type": "error",
     "traceback": [
      "\u001b[0;36m  Cell \u001b[0;32mIn[10], line 7\u001b[0;36m\u001b[0m\n\u001b[0;31m    else\u001b[0m\n\u001b[0m        ^\u001b[0m\n\u001b[0;31mSyntaxError\u001b[0m\u001b[0;31m:\u001b[0m expected ':'\n"
     ]
    }
   ],
   "source": [
    "loc = 'Bank'\n",
    "\n",
    "if loc=='Auto':\n",
    "    print('This is auto shop')\n",
    "elif loc=='Bank': \n",
    "    print('This is a Bank')\n",
    "else"
   ]
  },
  {
   "cell_type": "code",
   "execution_count": 12,
   "id": "5371433a",
   "metadata": {},
   "outputs": [
    {
     "name": "stdout",
     "output_type": "stream",
     "text": [
      "This is a Store\n"
     ]
    }
   ],
   "source": [
    "loc = 'Store'\n",
    "\n",
    "if loc == 'Auto':\n",
    "    print('This is auto shop')\n",
    "elif loc == 'Bank': \n",
    "    print('This is a Bank')\n",
    "elif loc == 'Store': \n",
    "    print('This is a Store')\n",
    "else:\n",
    "    print('This is Bar!')"
   ]
  },
  {
   "cell_type": "code",
   "execution_count": 14,
   "id": "efa9dea7",
   "metadata": {},
   "outputs": [
    {
     "name": "stdout",
     "output_type": "stream",
     "text": [
      "what is your name\n"
     ]
    }
   ],
   "source": [
    "name = 'Samy'\n",
    "if name == 'Sam':\n",
    "    print('Hello Sam')\n",
    "else:\n",
    "    print(\"what is your name\")"
   ]
  },
  {
   "cell_type": "code",
   "execution_count": 15,
   "id": "69320a85",
   "metadata": {},
   "outputs": [],
   "source": [
    "# For loops "
   ]
  },
  {
   "cell_type": "code",
   "execution_count": 17,
   "id": "19390897",
   "metadata": {},
   "outputs": [
    {
     "name": "stdout",
     "output_type": "stream",
     "text": [
      "1\n",
      "2\n",
      "3\n",
      "4\n",
      "5\n",
      "6\n"
     ]
    }
   ],
   "source": [
    "list=[1,2,3,4,5,6]\n",
    "for x in list:\n",
    "    print(x)"
   ]
  },
  {
   "cell_type": "code",
   "execution_count": 23,
   "id": "65936c9b",
   "metadata": {},
   "outputs": [
    {
     "name": "stdout",
     "output_type": "stream",
     "text": [
      "hello\n",
      "hello\n",
      "hello\n",
      "hello\n",
      "hello\n",
      "hello\n"
     ]
    }
   ],
   "source": [
    "list=[1,2,3,4,5,6]\n",
    "for x in list:\n",
    "    print('hello')"
   ]
  },
  {
   "cell_type": "code",
   "execution_count": 29,
   "id": "c8b71835",
   "metadata": {},
   "outputs": [
    {
     "name": "stdout",
     "output_type": "stream",
     "text": [
      "These are odd numbers: 1\n",
      "These are even numbers: 2\n",
      "These are odd numbers: 3\n",
      "These are even numbers: 4\n",
      "These are odd numbers: 5\n",
      "These are even numbers: 6\n"
     ]
    }
   ],
   "source": [
    "for x in list:\n",
    "    if x % 2 == 0:                                           #loop to separate even or odd number\n",
    "        print(f'These are even numbers: {x}')\n",
    "    else:\n",
    "        print(f'These are odd numbers: {x}')"
   ]
  },
  {
   "cell_type": "code",
   "execution_count": 34,
   "id": "20c728dc",
   "metadata": {},
   "outputs": [
    {
     "name": "stdout",
     "output_type": "stream",
     "text": [
      "21\n"
     ]
    }
   ],
   "source": [
    "list_sum = 0\n",
    "\n",
    "for num in list:                                          # Add every number in the list to a number \n",
    "    list_sum = list_sum + num\n",
    "    \n",
    "print(list_sum)"
   ]
  },
  {
   "cell_type": "code",
   "execution_count": 35,
   "id": "08c7cda2",
   "metadata": {},
   "outputs": [
    {
     "name": "stdout",
     "output_type": "stream",
     "text": [
      "1\n",
      "3\n",
      "6\n",
      "10\n",
      "15\n",
      "21\n"
     ]
    }
   ],
   "source": [
    "list_sum = 0\n",
    "\n",
    "for num in list:                                          # Add every number in the list to a number \n",
    "    list_sum = list_sum + num\n",
    "    print(list_sum)"
   ]
  },
  {
   "cell_type": "code",
   "execution_count": 37,
   "id": "1ab4d1f8",
   "metadata": {},
   "outputs": [
    {
     "name": "stdout",
     "output_type": "stream",
     "text": [
      "hello\n",
      "hello\n",
      "hello\n",
      "hello\n",
      "hello\n"
     ]
    }
   ],
   "source": [
    "string = 'hello'\n",
    "\n",
    "for _ in string:\n",
    "    print('hello')\n"
   ]
  },
  {
   "cell_type": "code",
   "execution_count": 39,
   "id": "7390ae53",
   "metadata": {},
   "outputs": [
    {
     "name": "stdout",
     "output_type": "stream",
     "text": [
      "1\n",
      "2\n",
      "3\n"
     ]
    }
   ],
   "source": [
    "tup = (1,2,3)\n",
    "\n",
    "for item in tup:\n",
    "    print(item)"
   ]
  },
  {
   "cell_type": "code",
   "execution_count": 40,
   "id": "3219933c",
   "metadata": {},
   "outputs": [
    {
     "data": {
      "text/plain": [
       "3"
      ]
     },
     "execution_count": 40,
     "metadata": {},
     "output_type": "execute_result"
    }
   ],
   "source": [
    "len(tup)"
   ]
  },
  {
   "cell_type": "code",
   "execution_count": 41,
   "id": "05270427",
   "metadata": {},
   "outputs": [],
   "source": [
    "my_list= [(1,2),(3,4),(4,6)]"
   ]
  },
  {
   "cell_type": "code",
   "execution_count": 42,
   "id": "ff6e358b",
   "metadata": {},
   "outputs": [
    {
     "data": {
      "text/plain": [
       "3"
      ]
     },
     "execution_count": 42,
     "metadata": {},
     "output_type": "execute_result"
    }
   ],
   "source": [
    "len(my_list)"
   ]
  },
  {
   "cell_type": "code",
   "execution_count": 43,
   "id": "6feaa0eb",
   "metadata": {},
   "outputs": [
    {
     "name": "stdout",
     "output_type": "stream",
     "text": [
      "(1, 2)\n",
      "(3, 4)\n",
      "(4, 6)\n"
     ]
    }
   ],
   "source": [
    "for x in my_list:\n",
    "    print(x)                         "
   ]
  },
  {
   "cell_type": "code",
   "execution_count": 44,
   "id": "9d527433",
   "metadata": {},
   "outputs": [
    {
     "name": "stdout",
     "output_type": "stream",
     "text": [
      "1\n",
      "2\n",
      "3\n",
      "4\n",
      "4\n",
      "6\n"
     ]
    }
   ],
   "source": [
    "for (a,b) in my_list:\n",
    "    print(a)\n",
    "    print(b)                           #unpack touples "
   ]
  },
  {
   "cell_type": "code",
   "execution_count": 54,
   "id": "24dd671b",
   "metadata": {},
   "outputs": [
    {
     "name": "stdout",
     "output_type": "stream",
     "text": [
      "k1\n",
      "k2\n",
      "k3\n"
     ]
    }
   ],
   "source": [
    "d = {'k1':1, 'k2':2, 'k3':3}                 # By default prints only keys in the dictionary\n",
    "for item in d:\n",
    "    print (item)"
   ]
  },
  {
   "cell_type": "code",
   "execution_count": 48,
   "id": "7e7fee50",
   "metadata": {},
   "outputs": [
    {
     "name": "stdout",
     "output_type": "stream",
     "text": [
      "('k1', 1)\n",
      "('k2', 2)\n",
      "('k3', 3)\n"
     ]
    }
   ],
   "source": [
    "for item in d.items():                # to print all items\n",
    "    print (item)                    "
   ]
  },
  {
   "cell_type": "code",
   "execution_count": 49,
   "id": "43037dcf",
   "metadata": {},
   "outputs": [
    {
     "name": "stdout",
     "output_type": "stream",
     "text": [
      "1\n",
      "2\n",
      "3\n"
     ]
    }
   ],
   "source": [
    "for key,value in d.items():\n",
    "    print(value)                    # to print only values by touple unpacking "
   ]
  },
  {
   "cell_type": "code",
   "execution_count": 50,
   "id": "7dedee94",
   "metadata": {},
   "outputs": [
    {
     "name": "stdout",
     "output_type": "stream",
     "text": [
      "1\n",
      "2\n",
      "3\n"
     ]
    }
   ],
   "source": [
    "for value in d.values():           # to print only values  \n",
    "    print (value)"
   ]
  },
  {
   "cell_type": "code",
   "execution_count": null,
   "id": "4908d837",
   "metadata": {},
   "outputs": [],
   "source": [
    "for item in d.keys():               # to print only values \n",
    "    print (item)"
   ]
  },
  {
   "cell_type": "code",
   "execution_count": 55,
   "id": "1533576a",
   "metadata": {},
   "outputs": [],
   "source": [
    "# while loops"
   ]
  },
  {
   "cell_type": "code",
   "execution_count": 1,
   "id": "411471a0",
   "metadata": {},
   "outputs": [
    {
     "name": "stdout",
     "output_type": "stream",
     "text": [
      "the current value of x is 0\n",
      "the current value of x is 1\n",
      "the current value of x is 2\n",
      "the current value of x is 3\n",
      "the current value of x is 4\n",
      "X is not less than 5\n"
     ]
    }
   ],
   "source": [
    "x = 0\n",
    "\n",
    "while x < 5 :\n",
    "    print(f'the current value of x is {x}')\n",
    "    #x = x + 1 (or)\n",
    "    x += 1\n",
    "else: \n",
    "    print(\"X is not less than 5\")"
   ]
  },
  {
   "cell_type": "code",
   "execution_count": 5,
   "id": "2a255454",
   "metadata": {},
   "outputs": [
    {
     "name": "stdout",
     "output_type": "stream",
     "text": [
      "End of the statement\n"
     ]
    }
   ],
   "source": [
    "x = [1,2,3]\n",
    "\n",
    "for item in x :\n",
    "    \n",
    "    pass\n",
    "\n",
    "print('End of the statement')"
   ]
  },
  {
   "cell_type": "code",
   "execution_count": 4,
   "id": "e5b2ec1e",
   "metadata": {},
   "outputs": [
    {
     "name": "stdout",
     "output_type": "stream",
     "text": [
      "sa\n",
      "aa\n",
      "ya\n"
     ]
    }
   ],
   "source": [
    "mystring = 'sammy'\n",
    "\n",
    "for letter in mystring:\n",
    "    if letter == 'm':\n",
    "        continue\n",
    "    print (letter + 'a')"
   ]
  },
  {
   "cell_type": "code",
   "execution_count": 6,
   "id": "61f72047",
   "metadata": {},
   "outputs": [
    {
     "name": "stdout",
     "output_type": "stream",
     "text": [
      "the current value of x is 1\n",
      "the current value of x is 3\n",
      "the current value of x is 4\n",
      "the current value of x is 5\n"
     ]
    }
   ],
   "source": [
    "x = 0\n",
    "\n",
    "while x < 5 :\n",
    "    x += 1\n",
    "    if x == 2:\n",
    "        continue\n",
    "    print(f'the current value of x is {x}')"
   ]
  },
  {
   "cell_type": "code",
   "execution_count": 7,
   "id": "1545e470",
   "metadata": {},
   "outputs": [],
   "source": [
    "# useful operators in python "
   ]
  },
  {
   "cell_type": "code",
   "execution_count": 10,
   "id": "7d0f28e4",
   "metadata": {},
   "outputs": [
    {
     "name": "stdout",
     "output_type": "stream",
     "text": [
      "0\n",
      "1\n",
      "2\n",
      "3\n",
      "4\n",
      "5\n",
      "6\n",
      "7\n",
      "8\n",
      "9\n"
     ]
    }
   ],
   "source": [
    "for num in range(10):\n",
    "    print(num)                            # prints number except 10"
   ]
  },
  {
   "cell_type": "code",
   "execution_count": 11,
   "id": "b33b5a47",
   "metadata": {},
   "outputs": [
    {
     "name": "stdout",
     "output_type": "stream",
     "text": [
      "3\n",
      "4\n",
      "5\n",
      "6\n",
      "7\n",
      "8\n",
      "9\n"
     ]
    }
   ],
   "source": [
    "for num in range(3,10):\n",
    "    print(num)                            # prints number except 10"
   ]
  },
  {
   "cell_type": "code",
   "execution_count": 14,
   "id": "288931f6",
   "metadata": {},
   "outputs": [
    {
     "name": "stdout",
     "output_type": "stream",
     "text": [
      "0\n",
      "2\n",
      "4\n",
      "6\n",
      "8\n"
     ]
    }
   ],
   "source": [
    "for num in range(0,10,2):                  # print number by step size 2\n",
    "    print(num)   "
   ]
  },
  {
   "cell_type": "code",
   "execution_count": 15,
   "id": "5dcd9890",
   "metadata": {},
   "outputs": [
    {
     "data": {
      "text/plain": [
       "range(0, 10, 2)"
      ]
     },
     "execution_count": 15,
     "metadata": {},
     "output_type": "execute_result"
    }
   ],
   "source": [
    "range(0,10,2)              #range is generator "
   ]
  },
  {
   "cell_type": "code",
   "execution_count": 17,
   "id": "081cd063",
   "metadata": {},
   "outputs": [
    {
     "data": {
      "text/plain": [
       "[0, 2, 4, 6, 8]"
      ]
     },
     "execution_count": 17,
     "metadata": {},
     "output_type": "execute_result"
    }
   ],
   "source": [
    "list(range(0,10,2))            # cast it to a list"
   ]
  },
  {
   "cell_type": "code",
   "execution_count": 22,
   "id": "068dd249",
   "metadata": {},
   "outputs": [
    {
     "name": "stdout",
     "output_type": "stream",
     "text": [
      "AT index 0 the letter is a\n",
      "AT index 1 the letter is b\n",
      "AT index 2 the letter is c\n",
      "AT index 3 the letter is d\n",
      "AT index 4 the letter is e\n"
     ]
    }
   ],
   "source": [
    "index_count = 0                          \n",
    "\n",
    "for letter in 'abcde':\n",
    "    print (f'AT index {index_count} the letter is {letter}')\n",
    "    index_count += 1"
   ]
  },
  {
   "cell_type": "code",
   "execution_count": 23,
   "id": "f363072d",
   "metadata": {},
   "outputs": [
    {
     "name": "stdout",
     "output_type": "stream",
     "text": [
      "a\n",
      "b\n",
      "c\n",
      "d\n",
      "e\n"
     ]
    }
   ],
   "source": [
    "index_count = 0                          \n",
    "word = 'abcde'\n",
    "for letter in word:\n",
    "    print (word[index_count])\n",
    "    index_count += 1"
   ]
  },
  {
   "cell_type": "code",
   "execution_count": 24,
   "id": "eb22b616",
   "metadata": {},
   "outputs": [
    {
     "name": "stdout",
     "output_type": "stream",
     "text": [
      "(0, 'a')\n",
      "(1, 'b')\n",
      "(2, 'c')\n",
      "(3, 'd')\n",
      "(4, 'e')\n"
     ]
    }
   ],
   "source": [
    "word = 'abcde'\n",
    "for item in enumerate(word):\n",
    "    print(item)"
   ]
  },
  {
   "cell_type": "code",
   "execution_count": 31,
   "id": "032c34b0",
   "metadata": {},
   "outputs": [
    {
     "name": "stdout",
     "output_type": "stream",
     "text": [
      "0\n",
      "1\n",
      "2\n",
      "3\n",
      "4\n"
     ]
    }
   ],
   "source": [
    "word = 'abcde'\n",
    "for index,letter in enumerate(word):           #enumarate take the letter and add index to it\n",
    "    print(index)"
   ]
  },
  {
   "cell_type": "code",
   "execution_count": 32,
   "id": "a1f31746",
   "metadata": {},
   "outputs": [
    {
     "name": "stdout",
     "output_type": "stream",
     "text": [
      "(0, 'a')\n",
      "(1, 'b')\n",
      "(2, 'c')\n",
      "(3, 'd')\n",
      "(4, 'e')\n"
     ]
    }
   ],
   "source": [
    "word = 'abcde'\n",
    "for index in enumerate(word):           #enumarate take the letter and add index to it\n",
    "    print(index)"
   ]
  },
  {
   "cell_type": "code",
   "execution_count": 33,
   "id": "2a975763",
   "metadata": {},
   "outputs": [
    {
     "name": "stdout",
     "output_type": "stream",
     "text": [
      "(1, 2)\n",
      "(2, 3)\n",
      "(3, 4)\n",
      "(4, 5)\n"
     ]
    }
   ],
   "source": [
    "mylist1 = [1,2,3,4]                                   # zip to listes into single\n",
    "mylist2 = [2,3,4,5]\n",
    "\n",
    "for item in zip(mylist1, mylist2):\n",
    "    print(item)"
   ]
  },
  {
   "cell_type": "code",
   "execution_count": 34,
   "id": "e5659cfa",
   "metadata": {},
   "outputs": [
    {
     "data": {
      "text/plain": [
       "[(1, 2), (2, 3), (3, 4), (4, 5)]"
      ]
     },
     "execution_count": 34,
     "metadata": {},
     "output_type": "execute_result"
    }
   ],
   "source": [
    "list(zip(mylist1, mylist2))            # to zip the two list into one list"
   ]
  },
  {
   "cell_type": "code",
   "execution_count": 35,
   "id": "e010cc7e",
   "metadata": {},
   "outputs": [
    {
     "data": {
      "text/plain": [
       "True"
      ]
     },
     "execution_count": 35,
     "metadata": {},
     "output_type": "execute_result"
    }
   ],
   "source": [
    "2 in [1,2,3]                            # using in function find value in list whether lt exists or not"
   ]
  },
  {
   "cell_type": "code",
   "execution_count": 36,
   "id": "ab2def34",
   "metadata": {},
   "outputs": [
    {
     "data": {
      "text/plain": [
       "False"
      ]
     },
     "execution_count": 36,
     "metadata": {},
     "output_type": "execute_result"
    }
   ],
   "source": [
    "'a' in 'world'"
   ]
  },
  {
   "cell_type": "code",
   "execution_count": 37,
   "id": "cd1d35ca",
   "metadata": {},
   "outputs": [
    {
     "data": {
      "text/plain": [
       "True"
      ]
     },
     "execution_count": 37,
     "metadata": {},
     "output_type": "execute_result"
    }
   ],
   "source": [
    "'mykey' in {'mykey':5}"
   ]
  },
  {
   "cell_type": "code",
   "execution_count": 40,
   "id": "421b7be9",
   "metadata": {},
   "outputs": [
    {
     "data": {
      "text/plain": [
       "True"
      ]
     },
     "execution_count": 40,
     "metadata": {},
     "output_type": "execute_result"
    }
   ],
   "source": [
    "d= {'mykey':5}\n",
    "\n",
    "5 in d.values()"
   ]
  },
  {
   "cell_type": "code",
   "execution_count": 41,
   "id": "528cd58a",
   "metadata": {},
   "outputs": [],
   "source": [
    "mylist1 = [1,2,3,4]  "
   ]
  },
  {
   "cell_type": "code",
   "execution_count": 42,
   "id": "c257285a",
   "metadata": {},
   "outputs": [
    {
     "data": {
      "text/plain": [
       "1"
      ]
     },
     "execution_count": 42,
     "metadata": {},
     "output_type": "execute_result"
    }
   ],
   "source": [
    "min(mylist1)          #to list min value in the list "
   ]
  },
  {
   "cell_type": "code",
   "execution_count": 43,
   "id": "28e492f4",
   "metadata": {},
   "outputs": [
    {
     "data": {
      "text/plain": [
       "4"
      ]
     },
     "execution_count": 43,
     "metadata": {},
     "output_type": "execute_result"
    }
   ],
   "source": [
    "max(mylist1)            #to list max value in the list"
   ]
  },
  {
   "cell_type": "code",
   "execution_count": 44,
   "id": "c4a14be4",
   "metadata": {},
   "outputs": [],
   "source": [
    "from random import shuffle"
   ]
  },
  {
   "cell_type": "code",
   "execution_count": 46,
   "id": "2499beff",
   "metadata": {},
   "outputs": [],
   "source": [
    "shuffle(mylist1)                           # shuffle the list"
   ]
  },
  {
   "cell_type": "code",
   "execution_count": 47,
   "id": "b94ac2ae",
   "metadata": {},
   "outputs": [
    {
     "data": {
      "text/plain": [
       "[3, 4, 1, 2]"
      ]
     },
     "execution_count": 47,
     "metadata": {},
     "output_type": "execute_result"
    }
   ],
   "source": [
    "mylist1"
   ]
  },
  {
   "cell_type": "code",
   "execution_count": 48,
   "id": "246a58fb",
   "metadata": {},
   "outputs": [],
   "source": [
    "from random import randint"
   ]
  },
  {
   "cell_type": "code",
   "execution_count": 49,
   "id": "81e26f10",
   "metadata": {},
   "outputs": [
    {
     "ename": "TypeError",
     "evalue": "Random.randint() missing 1 required positional argument: 'b'",
     "output_type": "error",
     "traceback": [
      "\u001b[0;31m---------------------------------------------------------------------------\u001b[0m",
      "\u001b[0;31mTypeError\u001b[0m                                 Traceback (most recent call last)",
      "Cell \u001b[0;32mIn[49], line 1\u001b[0m\n\u001b[0;32m----> 1\u001b[0m \u001b[43mrandint\u001b[49m\u001b[43m(\u001b[49m\u001b[43mmylist1\u001b[49m\u001b[43m)\u001b[49m\n",
      "\u001b[0;31mTypeError\u001b[0m: Random.randint() missing 1 required positional argument: 'b'"
     ]
    }
   ],
   "source": [
    "randint(mylist1)                           # take randon integer the list"
   ]
  },
  {
   "cell_type": "code",
   "execution_count": 50,
   "id": "9a7e3ec6",
   "metadata": {},
   "outputs": [
    {
     "name": "stdout",
     "output_type": "stream",
     "text": [
      "Whats your name?Aditya\n"
     ]
    }
   ],
   "source": [
    "name = input('Whats your name?')"
   ]
  },
  {
   "cell_type": "code",
   "execution_count": 51,
   "id": "7a01461c",
   "metadata": {},
   "outputs": [
    {
     "data": {
      "text/plain": [
       "'Aditya'"
      ]
     },
     "execution_count": 51,
     "metadata": {},
     "output_type": "execute_result"
    }
   ],
   "source": [
    "name"
   ]
  },
  {
   "cell_type": "code",
   "execution_count": 53,
   "id": "b1bae65a",
   "metadata": {},
   "outputs": [
    {
     "data": {
      "text/plain": [
       "str"
      ]
     },
     "execution_count": 53,
     "metadata": {},
     "output_type": "execute_result"
    }
   ],
   "source": [
    "type(name)"
   ]
  },
  {
   "cell_type": "code",
   "execution_count": 54,
   "id": "12743704",
   "metadata": {},
   "outputs": [],
   "source": [
    "# input always takes the value as a string"
   ]
  },
  {
   "cell_type": "code",
   "execution_count": 55,
   "id": "5417454a",
   "metadata": {},
   "outputs": [],
   "source": [
    "mystring = 'hello'               "
   ]
  },
  {
   "cell_type": "code",
   "execution_count": 57,
   "id": "cdbdd723",
   "metadata": {},
   "outputs": [],
   "source": [
    "mylist=[]\n",
    "\n",
    "for letter in mystring:\n",
    "    mylist.append(letter)"
   ]
  },
  {
   "cell_type": "code",
   "execution_count": 58,
   "id": "9c73d28a",
   "metadata": {},
   "outputs": [
    {
     "data": {
      "text/plain": [
       "['h', 'e', 'l', 'l', 'o']"
      ]
     },
     "execution_count": 58,
     "metadata": {},
     "output_type": "execute_result"
    }
   ],
   "source": [
    "mylist"
   ]
  },
  {
   "cell_type": "code",
   "execution_count": 59,
   "id": "0fb7d48c",
   "metadata": {},
   "outputs": [],
   "source": [
    "mylist=[letter for letter in mystring]                 #list comprehesion"
   ]
  },
  {
   "cell_type": "code",
   "execution_count": 60,
   "id": "6cb8c388",
   "metadata": {},
   "outputs": [
    {
     "data": {
      "text/plain": [
       "['h', 'e', 'l', 'l', 'o']"
      ]
     },
     "execution_count": 60,
     "metadata": {},
     "output_type": "execute_result"
    }
   ],
   "source": [
    "mylist"
   ]
  },
  {
   "cell_type": "code",
   "execution_count": 61,
   "id": "0c3d93ed",
   "metadata": {},
   "outputs": [],
   "source": [
    "word= 'Aditya'"
   ]
  },
  {
   "cell_type": "code",
   "execution_count": 62,
   "id": "b37fae12",
   "metadata": {},
   "outputs": [],
   "source": [
    "mylist = [x for x in word]"
   ]
  },
  {
   "cell_type": "code",
   "execution_count": 63,
   "id": "810b9934",
   "metadata": {},
   "outputs": [
    {
     "data": {
      "text/plain": [
       "['A', 'd', 'i', 't', 'y', 'a']"
      ]
     },
     "execution_count": 63,
     "metadata": {},
     "output_type": "execute_result"
    }
   ],
   "source": [
    "mylist"
   ]
  },
  {
   "cell_type": "code",
   "execution_count": 64,
   "id": "2306a6af",
   "metadata": {},
   "outputs": [],
   "source": [
    "mylist = [num for num in range(0,11,2)]           #flatten function"
   ]
  },
  {
   "cell_type": "code",
   "execution_count": 65,
   "id": "fdbd90a8",
   "metadata": {},
   "outputs": [
    {
     "data": {
      "text/plain": [
       "[0, 2, 4, 6, 8, 10]"
      ]
     },
     "execution_count": 65,
     "metadata": {},
     "output_type": "execute_result"
    }
   ],
   "source": [
    "mylist"
   ]
  },
  {
   "cell_type": "code",
   "execution_count": 75,
   "id": "2f081c71",
   "metadata": {},
   "outputs": [],
   "source": [
    "mylist = [num for num in range(0,11) if num%2==0]     # if else loop in flatten statement"
   ]
  },
  {
   "cell_type": "code",
   "execution_count": 76,
   "id": "411177d7",
   "metadata": {},
   "outputs": [
    {
     "data": {
      "text/plain": [
       "[0, 2, 4, 6, 8, 10]"
      ]
     },
     "execution_count": 76,
     "metadata": {},
     "output_type": "execute_result"
    }
   ],
   "source": [
    "mylist"
   ]
  },
  {
   "cell_type": "code",
   "execution_count": 77,
   "id": "40e676d3",
   "metadata": {},
   "outputs": [],
   "source": [
    "celcius = [20, 30, 40, 50]\n",
    "\n",
    "farhenit = [((9/5)*temp +32) for temp in celcius]"
   ]
  },
  {
   "cell_type": "code",
   "execution_count": 78,
   "id": "8bf8319f",
   "metadata": {},
   "outputs": [
    {
     "data": {
      "text/plain": [
       "[68.0, 86.0, 104.0, 122.0]"
      ]
     },
     "execution_count": 78,
     "metadata": {},
     "output_type": "execute_result"
    }
   ],
   "source": [
    "farhenit"
   ]
  },
  {
   "cell_type": "code",
   "execution_count": 79,
   "id": "a9867175",
   "metadata": {},
   "outputs": [],
   "source": [
    "celcius = [20, 30, 40, 50]\n",
    "\n",
    "for temp in celcius:\n",
    "    farhenit.append(((9/5)*temp +32))"
   ]
  },
  {
   "cell_type": "code",
   "execution_count": 80,
   "id": "c2d7c64f",
   "metadata": {},
   "outputs": [
    {
     "data": {
      "text/plain": [
       "[68.0, 86.0, 104.0, 122.0, 68.0, 86.0, 104.0, 122.0]"
      ]
     },
     "execution_count": 80,
     "metadata": {},
     "output_type": "execute_result"
    }
   ],
   "source": [
    "farhenit"
   ]
  },
  {
   "cell_type": "code",
   "execution_count": 82,
   "id": "7e6b5c97",
   "metadata": {},
   "outputs": [],
   "source": [
    "results = [x if x%2==0 else 'OOD' for x in range(0,11)]"
   ]
  },
  {
   "cell_type": "code",
   "execution_count": 83,
   "id": "ff03112d",
   "metadata": {},
   "outputs": [
    {
     "data": {
      "text/plain": [
       "[0, 'OOD', 2, 'OOD', 4, 'OOD', 6, 'OOD', 8, 'OOD', 10]"
      ]
     },
     "execution_count": 83,
     "metadata": {},
     "output_type": "execute_result"
    }
   ],
   "source": [
    "results"
   ]
  },
  {
   "cell_type": "code",
   "execution_count": 85,
   "id": "b3edfedc",
   "metadata": {},
   "outputs": [],
   "source": [
    "mylist = []\n",
    "\n",
    "for x in [2,4,6]:\n",
    "    for y in [100, 200, 300]:\n",
    "        mylist.append(x*y)"
   ]
  },
  {
   "cell_type": "code",
   "execution_count": 86,
   "id": "1d8e9025",
   "metadata": {},
   "outputs": [
    {
     "data": {
      "text/plain": [
       "[200, 400, 600, 400, 800, 1200, 600, 1200, 1800]"
      ]
     },
     "execution_count": 86,
     "metadata": {},
     "output_type": "execute_result"
    }
   ],
   "source": [
    "mylist"
   ]
  },
  {
   "cell_type": "code",
   "execution_count": 87,
   "id": "01066e1a",
   "metadata": {},
   "outputs": [],
   "source": [
    "mylist = [x*y for x in [2,4,6] for y in [100,200,300]]"
   ]
  },
  {
   "cell_type": "code",
   "execution_count": 88,
   "id": "9e41766b",
   "metadata": {},
   "outputs": [
    {
     "data": {
      "text/plain": [
       "[200, 400, 600, 400, 800, 1200, 600, 1200, 1800]"
      ]
     },
     "execution_count": 88,
     "metadata": {},
     "output_type": "execute_result"
    }
   ],
   "source": [
    "mylist"
   ]
  },
  {
   "cell_type": "code",
   "execution_count": 89,
   "id": "0466886e",
   "metadata": {},
   "outputs": [],
   "source": [
    "st = 'Print only the words that start with s in this sentence'"
   ]
  },
  {
   "cell_type": "code",
   "execution_count": 113,
   "id": "d11be5bd",
   "metadata": {},
   "outputs": [
    {
     "name": "stdout",
     "output_type": "stream",
     "text": [
      "start\n",
      "s\n",
      "sentence\n"
     ]
    }
   ],
   "source": [
    "for x in st.split():\n",
    "    if x[0] == 's' :\n",
    "        print(x)"
   ]
  },
  {
   "cell_type": "code",
   "execution_count": 114,
   "id": "cde098e1",
   "metadata": {},
   "outputs": [
    {
     "data": {
      "text/plain": [
       "range(0, 10, 2)"
      ]
     },
     "execution_count": 114,
     "metadata": {},
     "output_type": "execute_result"
    }
   ],
   "source": [
    "range(0,10,2)"
   ]
  },
  {
   "cell_type": "code",
   "execution_count": 115,
   "id": "74cca7e5",
   "metadata": {},
   "outputs": [
    {
     "data": {
      "text/plain": [
       "[0, 2, 4, 6, 8]"
      ]
     },
     "execution_count": 115,
     "metadata": {},
     "output_type": "execute_result"
    }
   ],
   "source": [
    "list(range(0,10,2))"
   ]
  },
  {
   "cell_type": "code",
   "execution_count": 116,
   "id": "ddf171a1",
   "metadata": {},
   "outputs": [
    {
     "name": "stdout",
     "output_type": "stream",
     "text": [
      "0\n",
      "2\n",
      "4\n",
      "6\n",
      "8\n"
     ]
    }
   ],
   "source": [
    "for x in range(0,10,2):\n",
    "    print(x)"
   ]
  },
  {
   "cell_type": "code",
   "execution_count": 135,
   "id": "84b009a8",
   "metadata": {},
   "outputs": [
    {
     "name": "stdout",
     "output_type": "stream",
     "text": [
      "[0, 3, 6, 9, 12, 15, 18, 21, 24, 27, 30, 33, 36, 39, 42, 45, 48]\n"
     ]
    }
   ],
   "source": [
    "mylist=[]\n",
    "for x in range(0,50):\n",
    "    if x%3 == 0:\n",
    "        mylist.append(x)\n",
    "print(mylist)"
   ]
  },
  {
   "cell_type": "code",
   "execution_count": 136,
   "id": "a8853b26",
   "metadata": {},
   "outputs": [
    {
     "ename": "SyntaxError",
     "evalue": "incomplete input (3743020051.py, line 1)",
     "output_type": "error",
     "traceback": [
      "\u001b[0;36m  Cell \u001b[0;32mIn[136], line 1\u001b[0;36m\u001b[0m\n\u001b[0;31m    for x in st.split():\u001b[0m\n\u001b[0m                        ^\u001b[0m\n\u001b[0;31mSyntaxError\u001b[0m\u001b[0;31m:\u001b[0m incomplete input\n"
     ]
    }
   ],
   "source": [
    "for x in st.split():"
   ]
  },
  {
   "cell_type": "code",
   "execution_count": 138,
   "id": "233a0819",
   "metadata": {},
   "outputs": [
    {
     "name": "stdout",
     "output_type": "stream",
     "text": [
      "only\n",
      "that\n",
      "with\n",
      "in\n",
      "this\n",
      "sentence\n"
     ]
    }
   ],
   "source": [
    "for x in st.split():\n",
    "    if len(x)%2 == 0:\n",
    "        print(x)\n",
    "    "
   ]
  },
  {
   "cell_type": "code",
   "execution_count": 144,
   "id": "94fa756b",
   "metadata": {},
   "outputs": [
    {
     "ename": "TypeError",
     "evalue": "'list' object is not callable",
     "output_type": "error",
     "traceback": [
      "\u001b[0;31m---------------------------------------------------------------------------\u001b[0m",
      "\u001b[0;31mTypeError\u001b[0m                                 Traceback (most recent call last)",
      "Cell \u001b[0;32mIn[144], line 1\u001b[0m\n\u001b[0;32m----> 1\u001b[0m \u001b[38;5;28;43mlist\u001b[39;49m\u001b[43m(\u001b[49m\u001b[38;5;28;43mrange\u001b[39;49m\u001b[43m(\u001b[49m\u001b[38;5;241;43m0\u001b[39;49m\u001b[43m,\u001b[49m\u001b[38;5;241;43m10\u001b[39;49m\u001b[43m,\u001b[49m\u001b[38;5;241;43m1\u001b[39;49m\u001b[43m)\u001b[49m\u001b[43m)\u001b[49m\n",
      "\u001b[0;31mTypeError\u001b[0m: 'list' object is not callable"
     ]
    }
   ],
   "source": [
    "list(range(0,10,1))"
   ]
  },
  {
   "cell_type": "code",
   "execution_count": 140,
   "id": "a6c15fb8",
   "metadata": {},
   "outputs": [
    {
     "data": {
      "text/plain": [
       "range(1, 100)"
      ]
     },
     "execution_count": 140,
     "metadata": {},
     "output_type": "execute_result"
    }
   ],
   "source": []
  },
  {
   "cell_type": "code",
   "execution_count": 154,
   "id": "771b6a7d",
   "metadata": {},
   "outputs": [
    {
     "name": "stdout",
     "output_type": "stream",
     "text": [
      "1\n",
      "2\n",
      "FIZZ\n",
      "4\n",
      "BUZZ\n",
      "FIZZ\n",
      "7\n",
      "8\n",
      "FIZZ\n",
      "BUZZ\n",
      "11\n",
      "FIZZ\n",
      "13\n",
      "14\n",
      "FIZZBUZZ\n",
      "16\n",
      "17\n",
      "FIZZ\n",
      "19\n",
      "BUZZ\n",
      "FIZZ\n",
      "22\n",
      "23\n",
      "FIZZ\n",
      "BUZZ\n",
      "26\n",
      "FIZZ\n",
      "28\n",
      "29\n",
      "FIZZBUZZ\n",
      "31\n",
      "32\n",
      "FIZZ\n",
      "34\n",
      "BUZZ\n",
      "FIZZ\n",
      "37\n",
      "38\n",
      "FIZZ\n",
      "BUZZ\n",
      "41\n",
      "FIZZ\n",
      "43\n",
      "44\n",
      "FIZZBUZZ\n",
      "46\n",
      "47\n",
      "FIZZ\n",
      "49\n",
      "BUZZ\n",
      "FIZZ\n",
      "52\n",
      "53\n",
      "FIZZ\n",
      "BUZZ\n",
      "56\n",
      "FIZZ\n",
      "58\n",
      "59\n",
      "FIZZBUZZ\n",
      "61\n",
      "62\n",
      "FIZZ\n",
      "64\n",
      "BUZZ\n",
      "FIZZ\n",
      "67\n",
      "68\n",
      "FIZZ\n",
      "BUZZ\n",
      "71\n",
      "FIZZ\n",
      "73\n",
      "74\n",
      "FIZZBUZZ\n",
      "76\n",
      "77\n",
      "FIZZ\n",
      "79\n",
      "BUZZ\n",
      "FIZZ\n",
      "82\n",
      "83\n",
      "FIZZ\n",
      "BUZZ\n",
      "86\n",
      "FIZZ\n",
      "88\n",
      "89\n",
      "FIZZBUZZ\n",
      "91\n",
      "92\n",
      "FIZZ\n",
      "94\n",
      "BUZZ\n",
      "FIZZ\n",
      "97\n",
      "98\n",
      "FIZZ\n"
     ]
    }
   ],
   "source": [
    "for x in range(1,100):\n",
    "    if (x%3 == 0) and (x%5 == 0):\n",
    "        print('FIZZBUZZ')\n",
    "    elif x%5 == 0:\n",
    "        print('BUZZ')\n",
    "    elif x%3 == 0:\n",
    "        print('FIZZ')\n",
    "    else:\n",
    "        print(x)"
   ]
  },
  {
   "cell_type": "code",
   "execution_count": 199,
   "id": "00546c7a",
   "metadata": {},
   "outputs": [],
   "source": [
    "st = 'Create a list of the first letters of every word in this string'\n",
    "\n",
    "mylist = [x[0] for x in st.split()] "
   ]
  },
  {
   "cell_type": "code",
   "execution_count": 200,
   "id": "589537f7",
   "metadata": {},
   "outputs": [
    {
     "data": {
      "text/plain": [
       "['C', 'a', 'l', 'o', 't', 'f', 'l', 'o', 'e', 'w', 'i', 't', 's']"
      ]
     },
     "execution_count": 200,
     "metadata": {},
     "output_type": "execute_result"
    }
   ],
   "source": [
    "mylist"
   ]
  },
  {
   "cell_type": "code",
   "execution_count": null,
   "id": "9d50abfc",
   "metadata": {},
   "outputs": [],
   "source": []
  }
 ],
 "metadata": {
  "kernelspec": {
   "display_name": "Python 3 (ipykernel)",
   "language": "python",
   "name": "python3"
  },
  "language_info": {
   "codemirror_mode": {
    "name": "ipython",
    "version": 3
   },
   "file_extension": ".py",
   "mimetype": "text/x-python",
   "name": "python",
   "nbconvert_exporter": "python",
   "pygments_lexer": "ipython3",
   "version": "3.10.9"
  }
 },
 "nbformat": 4,
 "nbformat_minor": 5
}
