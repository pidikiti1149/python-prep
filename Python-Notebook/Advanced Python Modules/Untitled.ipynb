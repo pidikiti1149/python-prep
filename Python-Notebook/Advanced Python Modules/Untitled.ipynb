{
 "cells": [
  {
   "cell_type": "code",
   "execution_count": 1,
   "id": "cd9053db",
   "metadata": {},
   "outputs": [],
   "source": [
    "from collections import Counter"
   ]
  },
  {
   "cell_type": "code",
   "execution_count": 6,
   "id": "cbc4cccb",
   "metadata": {},
   "outputs": [],
   "source": [
    "mylist = [1,2,3,4,1,2,4,5,6,6,6,7,7,8,8,9,'a','a']"
   ]
  },
  {
   "cell_type": "code",
   "execution_count": 7,
   "id": "d695b7ef",
   "metadata": {},
   "outputs": [
    {
     "data": {
      "text/plain": [
       "Counter({1: 2, 2: 2, 3: 1, 4: 2, 5: 1, 6: 3, 7: 2, 8: 2, 9: 1, 'a': 2})"
      ]
     },
     "execution_count": 7,
     "metadata": {},
     "output_type": "execute_result"
    }
   ],
   "source": [
    "Counter(mylist)"
   ]
  },
  {
   "cell_type": "code",
   "execution_count": 8,
   "id": "59d33c32",
   "metadata": {},
   "outputs": [
    {
     "data": {
      "text/plain": [
       "Counter({'a': 5, 'b': 3})"
      ]
     },
     "execution_count": 8,
     "metadata": {},
     "output_type": "execute_result"
    }
   ],
   "source": [
    "Counter('aaaaabbb')"
   ]
  },
  {
   "cell_type": "code",
   "execution_count": 9,
   "id": "baf3b0df",
   "metadata": {},
   "outputs": [],
   "source": [
    "sentence = \"How many times does each word show up in the sentance\""
   ]
  },
  {
   "cell_type": "code",
   "execution_count": 11,
   "id": "6d6ea076",
   "metadata": {},
   "outputs": [
    {
     "data": {
      "text/plain": [
       "Counter({'How': 1,\n",
       "         'many': 1,\n",
       "         'times': 1,\n",
       "         'does': 1,\n",
       "         'each': 1,\n",
       "         'word': 1,\n",
       "         'show': 1,\n",
       "         'up': 1,\n",
       "         'in': 1,\n",
       "         'the': 1,\n",
       "         'sentance': 1})"
      ]
     },
     "execution_count": 11,
     "metadata": {},
     "output_type": "execute_result"
    }
   ],
   "source": [
    "Counter(sentence.split())"
   ]
  },
  {
   "cell_type": "code",
   "execution_count": 12,
   "id": "c6978391",
   "metadata": {},
   "outputs": [],
   "source": [
    "letters = 'aabbbcccdddhhjj'"
   ]
  },
  {
   "cell_type": "code",
   "execution_count": 13,
   "id": "dd4d6ccf",
   "metadata": {},
   "outputs": [],
   "source": [
    "c = Counter(letters)"
   ]
  },
  {
   "cell_type": "code",
   "execution_count": 96,
   "id": "075c03f2",
   "metadata": {},
   "outputs": [
    {
     "data": {
      "text/plain": [
       "Counter({'a': 2, 'b': 3, 'c': 3, 'd': 3, 'h': 2, 'j': 2})"
      ]
     },
     "execution_count": 96,
     "metadata": {},
     "output_type": "execute_result"
    }
   ],
   "source": [
    "c"
   ]
  },
  {
   "cell_type": "code",
   "execution_count": 16,
   "id": "1cb9d6d0",
   "metadata": {},
   "outputs": [
    {
     "data": {
      "text/plain": [
       "[('b', 3), ('c', 3), ('d', 3), ('a', 2), ('h', 2), ('j', 2)]"
      ]
     },
     "execution_count": 16,
     "metadata": {},
     "output_type": "execute_result"
    }
   ],
   "source": [
    "c.most_common()"
   ]
  },
  {
   "cell_type": "code",
   "execution_count": 17,
   "id": "7f55e3bb",
   "metadata": {},
   "outputs": [
    {
     "data": {
      "text/plain": [
       "['a', 'b', 'c', 'd', 'h', 'j']"
      ]
     },
     "execution_count": 17,
     "metadata": {},
     "output_type": "execute_result"
    }
   ],
   "source": [
    "list(c)"
   ]
  },
  {
   "cell_type": "code",
   "execution_count": 18,
   "id": "0d77e6bc",
   "metadata": {},
   "outputs": [],
   "source": [
    "from collections import defaultdict"
   ]
  },
  {
   "cell_type": "code",
   "execution_count": 19,
   "id": "df686358",
   "metadata": {},
   "outputs": [],
   "source": [
    "d = {'a':10}"
   ]
  },
  {
   "cell_type": "code",
   "execution_count": 20,
   "id": "7f41b55e",
   "metadata": {},
   "outputs": [
    {
     "data": {
      "text/plain": [
       "10"
      ]
     },
     "execution_count": 20,
     "metadata": {},
     "output_type": "execute_result"
    }
   ],
   "source": [
    "d['a']"
   ]
  },
  {
   "cell_type": "code",
   "execution_count": 21,
   "id": "13bd9e40",
   "metadata": {},
   "outputs": [
    {
     "ename": "KeyError",
     "evalue": "'WRONG'",
     "output_type": "error",
     "traceback": [
      "\u001b[0;31m---------------------------------------------------------------------------\u001b[0m",
      "\u001b[0;31mKeyError\u001b[0m                                  Traceback (most recent call last)",
      "Cell \u001b[0;32mIn[21], line 1\u001b[0m\n\u001b[0;32m----> 1\u001b[0m \u001b[43md\u001b[49m\u001b[43m[\u001b[49m\u001b[38;5;124;43m'\u001b[39;49m\u001b[38;5;124;43mWRONG\u001b[39;49m\u001b[38;5;124;43m'\u001b[39;49m\u001b[43m]\u001b[49m\n",
      "\u001b[0;31mKeyError\u001b[0m: 'WRONG'"
     ]
    }
   ],
   "source": [
    "d['WRONG']"
   ]
  },
  {
   "cell_type": "code",
   "execution_count": 22,
   "id": "53416bc1",
   "metadata": {},
   "outputs": [],
   "source": [
    "d = defaultdict(lambda: 0)"
   ]
  },
  {
   "cell_type": "code",
   "execution_count": 25,
   "id": "464090af",
   "metadata": {},
   "outputs": [],
   "source": [
    "d['WRONG!'] = 10"
   ]
  },
  {
   "cell_type": "code",
   "execution_count": 26,
   "id": "489b3564",
   "metadata": {},
   "outputs": [
    {
     "data": {
      "text/plain": [
       "10"
      ]
     },
     "execution_count": 26,
     "metadata": {},
     "output_type": "execute_result"
    }
   ],
   "source": [
    "d['WRONG!']"
   ]
  },
  {
   "cell_type": "code",
   "execution_count": 27,
   "id": "b1d0a467",
   "metadata": {},
   "outputs": [
    {
     "data": {
      "text/plain": [
       "defaultdict(<function __main__.<lambda>()>, {'WRONG': 100, 'WRONG!': 10})"
      ]
     },
     "execution_count": 27,
     "metadata": {},
     "output_type": "execute_result"
    }
   ],
   "source": [
    "d"
   ]
  },
  {
   "cell_type": "code",
   "execution_count": 28,
   "id": "16bcf032",
   "metadata": {},
   "outputs": [
    {
     "data": {
      "text/plain": [
       "0"
      ]
     },
     "execution_count": 28,
     "metadata": {},
     "output_type": "execute_result"
    }
   ],
   "source": [
    "d['CORRECT']"
   ]
  },
  {
   "cell_type": "code",
   "execution_count": 29,
   "id": "65489fdf",
   "metadata": {},
   "outputs": [
    {
     "data": {
      "text/plain": [
       "defaultdict(<function __main__.<lambda>()>,\n",
       "            {'WRONG': 100, 'WRONG!': 10, 'CORRECT': 0})"
      ]
     },
     "execution_count": 29,
     "metadata": {},
     "output_type": "execute_result"
    }
   ],
   "source": [
    "d"
   ]
  },
  {
   "cell_type": "code",
   "execution_count": 30,
   "id": "2a2561ef",
   "metadata": {},
   "outputs": [],
   "source": [
    "mytupe = (10,20,30)"
   ]
  },
  {
   "cell_type": "code",
   "execution_count": 32,
   "id": "3de8b547",
   "metadata": {},
   "outputs": [
    {
     "data": {
      "text/plain": [
       "10"
      ]
     },
     "execution_count": 32,
     "metadata": {},
     "output_type": "execute_result"
    }
   ],
   "source": [
    "mytupe[0]"
   ]
  },
  {
   "cell_type": "code",
   "execution_count": 33,
   "id": "68333eaf",
   "metadata": {},
   "outputs": [],
   "source": [
    "from collections import namedtuple"
   ]
  },
  {
   "cell_type": "code",
   "execution_count": 50,
   "id": "cc7cd4ba",
   "metadata": {},
   "outputs": [],
   "source": [
    "Dog = namedtuple('Dog1',['age','breed','name'])"
   ]
  },
  {
   "cell_type": "code",
   "execution_count": 61,
   "id": "874ce2d3",
   "metadata": {},
   "outputs": [],
   "source": [
    "samy = Dog(age=5,breed='Husky',name='Sam')"
   ]
  },
  {
   "cell_type": "code",
   "execution_count": 52,
   "id": "6bcc40ca",
   "metadata": {},
   "outputs": [
    {
     "data": {
      "text/plain": [
       "__main__.Dog1"
      ]
     },
     "execution_count": 52,
     "metadata": {},
     "output_type": "execute_result"
    }
   ],
   "source": [
    "type(samy)"
   ]
  },
  {
   "cell_type": "code",
   "execution_count": 53,
   "id": "9ac1c4b4",
   "metadata": {},
   "outputs": [
    {
     "data": {
      "text/plain": [
       "Dog1(age=5, breed='Husky', name='Sam')"
      ]
     },
     "execution_count": 53,
     "metadata": {},
     "output_type": "execute_result"
    }
   ],
   "source": [
    "samy"
   ]
  },
  {
   "cell_type": "code",
   "execution_count": 54,
   "id": "5fdda9f2",
   "metadata": {},
   "outputs": [
    {
     "data": {
      "text/plain": [
       "5"
      ]
     },
     "execution_count": 54,
     "metadata": {},
     "output_type": "execute_result"
    }
   ],
   "source": [
    "samy.age"
   ]
  },
  {
   "cell_type": "code",
   "execution_count": 55,
   "id": "933ca7c6",
   "metadata": {},
   "outputs": [
    {
     "data": {
      "text/plain": [
       "'Husky'"
      ]
     },
     "execution_count": 55,
     "metadata": {},
     "output_type": "execute_result"
    }
   ],
   "source": [
    "samy.breed"
   ]
  },
  {
   "cell_type": "code",
   "execution_count": 56,
   "id": "29a567fd",
   "metadata": {},
   "outputs": [
    {
     "data": {
      "text/plain": [
       "'Sam'"
      ]
     },
     "execution_count": 56,
     "metadata": {},
     "output_type": "execute_result"
    }
   ],
   "source": [
    "samy.name"
   ]
  },
  {
   "cell_type": "code",
   "execution_count": 57,
   "id": "9309138e",
   "metadata": {},
   "outputs": [
    {
     "data": {
      "text/plain": [
       "5"
      ]
     },
     "execution_count": 57,
     "metadata": {},
     "output_type": "execute_result"
    }
   ],
   "source": [
    "samy[0]"
   ]
  },
  {
   "cell_type": "code",
   "execution_count": 58,
   "id": "91ee9985",
   "metadata": {},
   "outputs": [
    {
     "data": {
      "text/plain": [
       "'Husky'"
      ]
     },
     "execution_count": 58,
     "metadata": {},
     "output_type": "execute_result"
    }
   ],
   "source": [
    "samy[1]"
   ]
  },
  {
   "cell_type": "code",
   "execution_count": 59,
   "id": "749d3fcc",
   "metadata": {},
   "outputs": [
    {
     "data": {
      "text/plain": [
       "'Sam'"
      ]
     },
     "execution_count": 59,
     "metadata": {},
     "output_type": "execute_result"
    }
   ],
   "source": [
    "samy[2]"
   ]
  },
  {
   "cell_type": "code",
   "execution_count": null,
   "id": "f85ce509",
   "metadata": {},
   "outputs": [],
   "source": [
    "#Shutil module"
   ]
  },
  {
   "cell_type": "code",
   "execution_count": 62,
   "id": "f68998c0",
   "metadata": {},
   "outputs": [
    {
     "data": {
      "text/plain": [
       "'/Users/adityapidikiti/Python Notebook/Advanced Python Modules'"
      ]
     },
     "execution_count": 62,
     "metadata": {},
     "output_type": "execute_result"
    }
   ],
   "source": [
    "pwd"
   ]
  },
  {
   "cell_type": "code",
   "execution_count": 64,
   "id": "600728e7",
   "metadata": {},
   "outputs": [],
   "source": [
    "f = open('practice.txt','w')\n",
    "f.write('This is a text string')\n",
    "f.close()"
   ]
  },
  {
   "cell_type": "code",
   "execution_count": 65,
   "id": "db8d25ab",
   "metadata": {},
   "outputs": [],
   "source": [
    "import os"
   ]
  },
  {
   "cell_type": "code",
   "execution_count": 66,
   "id": "bc773089",
   "metadata": {},
   "outputs": [
    {
     "data": {
      "text/plain": [
       "'/Users/adityapidikiti/Python Notebook/Advanced Python Modules'"
      ]
     },
     "execution_count": 66,
     "metadata": {},
     "output_type": "execute_result"
    }
   ],
   "source": [
    "os.getcwd()   # to print the current directory"
   ]
  },
  {
   "cell_type": "code",
   "execution_count": 67,
   "id": "f6a664bf",
   "metadata": {},
   "outputs": [
    {
     "data": {
      "text/plain": [
       "['Untitled.ipynb', 'practice.txt', '.ipynb_checkpoints']"
      ]
     },
     "execution_count": 67,
     "metadata": {},
     "output_type": "execute_result"
    }
   ],
   "source": [
    "os.listdir()   # to list all the files in the directory "
   ]
  },
  {
   "cell_type": "code",
   "execution_count": 68,
   "id": "5d327ea2",
   "metadata": {},
   "outputs": [
    {
     "data": {
      "text/plain": [
       "['Decorators',\n",
       " 'Errors and Exception Handling',\n",
       " 'Untitled.ipynb',\n",
       " 'Methods and Functions',\n",
       " 'Object Oriented programming',\n",
       " 'Modules and packages ',\n",
       " 'Advanced Python Modules',\n",
       " 'Milestone_Project',\n",
       " 'Python objects abd Data structures',\n",
       " 'Milestone Project - 2',\n",
       " 'Loops',\n",
       " '.ipynb_checkpoints',\n",
       " 'Generators']"
      ]
     },
     "execution_count": 68,
     "metadata": {},
     "output_type": "execute_result"
    }
   ],
   "source": [
    " os.listdir('/Users/adityapidikiti/Python Notebook/')"
   ]
  },
  {
   "cell_type": "code",
   "execution_count": 18,
   "id": "9fe52d45",
   "metadata": {},
   "outputs": [],
   "source": [
    "import shutil"
   ]
  },
  {
   "cell_type": "code",
   "execution_count": 19,
   "id": "538239c7",
   "metadata": {},
   "outputs": [
    {
     "ename": "FileNotFoundError",
     "evalue": "[Errno 2] No such file or directory: 'practice.txt'",
     "output_type": "error",
     "traceback": [
      "\u001b[0;31m---------------------------------------------------------------------------\u001b[0m",
      "\u001b[0;31mFileNotFoundError\u001b[0m                         Traceback (most recent call last)",
      "File \u001b[0;32m~/anaconda3/lib/python3.10/shutil.py:816\u001b[0m, in \u001b[0;36mmove\u001b[0;34m(src, dst, copy_function)\u001b[0m\n\u001b[1;32m    815\u001b[0m \u001b[38;5;28;01mtry\u001b[39;00m:\n\u001b[0;32m--> 816\u001b[0m     \u001b[43mos\u001b[49m\u001b[38;5;241;43m.\u001b[39;49m\u001b[43mrename\u001b[49m\u001b[43m(\u001b[49m\u001b[43msrc\u001b[49m\u001b[43m,\u001b[49m\u001b[43m \u001b[49m\u001b[43mreal_dst\u001b[49m\u001b[43m)\u001b[49m\n\u001b[1;32m    817\u001b[0m \u001b[38;5;28;01mexcept\u001b[39;00m \u001b[38;5;167;01mOSError\u001b[39;00m:\n",
      "\u001b[0;31mFileNotFoundError\u001b[0m: [Errno 2] No such file or directory: 'practice.txt' -> '/Users/adityapidikiti/Python Notebook/practice.txt'",
      "\nDuring handling of the above exception, another exception occurred:\n",
      "\u001b[0;31mFileNotFoundError\u001b[0m                         Traceback (most recent call last)",
      "Cell \u001b[0;32mIn[19], line 1\u001b[0m\n\u001b[0;32m----> 1\u001b[0m \u001b[43mshutil\u001b[49m\u001b[38;5;241;43m.\u001b[39;49m\u001b[43mmove\u001b[49m\u001b[43m(\u001b[49m\u001b[38;5;124;43m'\u001b[39;49m\u001b[38;5;124;43mpractice.txt\u001b[39;49m\u001b[38;5;124;43m'\u001b[39;49m\u001b[43m,\u001b[49m\u001b[38;5;124;43m'\u001b[39;49m\u001b[38;5;124;43m/Users/adityapidikiti/Python Notebook/\u001b[39;49m\u001b[38;5;124;43m'\u001b[39;49m\u001b[43m)\u001b[49m\n",
      "File \u001b[0;32m~/anaconda3/lib/python3.10/shutil.py:836\u001b[0m, in \u001b[0;36mmove\u001b[0;34m(src, dst, copy_function)\u001b[0m\n\u001b[1;32m    834\u001b[0m         rmtree(src)\n\u001b[1;32m    835\u001b[0m     \u001b[38;5;28;01melse\u001b[39;00m:\n\u001b[0;32m--> 836\u001b[0m         \u001b[43mcopy_function\u001b[49m\u001b[43m(\u001b[49m\u001b[43msrc\u001b[49m\u001b[43m,\u001b[49m\u001b[43m \u001b[49m\u001b[43mreal_dst\u001b[49m\u001b[43m)\u001b[49m\n\u001b[1;32m    837\u001b[0m         os\u001b[38;5;241m.\u001b[39munlink(src)\n\u001b[1;32m    838\u001b[0m \u001b[38;5;28;01mreturn\u001b[39;00m real_dst\n",
      "File \u001b[0;32m~/anaconda3/lib/python3.10/shutil.py:434\u001b[0m, in \u001b[0;36mcopy2\u001b[0;34m(src, dst, follow_symlinks)\u001b[0m\n\u001b[1;32m    432\u001b[0m \u001b[38;5;28;01mif\u001b[39;00m os\u001b[38;5;241m.\u001b[39mpath\u001b[38;5;241m.\u001b[39misdir(dst):\n\u001b[1;32m    433\u001b[0m     dst \u001b[38;5;241m=\u001b[39m os\u001b[38;5;241m.\u001b[39mpath\u001b[38;5;241m.\u001b[39mjoin(dst, os\u001b[38;5;241m.\u001b[39mpath\u001b[38;5;241m.\u001b[39mbasename(src))\n\u001b[0;32m--> 434\u001b[0m \u001b[43mcopyfile\u001b[49m\u001b[43m(\u001b[49m\u001b[43msrc\u001b[49m\u001b[43m,\u001b[49m\u001b[43m \u001b[49m\u001b[43mdst\u001b[49m\u001b[43m,\u001b[49m\u001b[43m \u001b[49m\u001b[43mfollow_symlinks\u001b[49m\u001b[38;5;241;43m=\u001b[39;49m\u001b[43mfollow_symlinks\u001b[49m\u001b[43m)\u001b[49m\n\u001b[1;32m    435\u001b[0m copystat(src, dst, follow_symlinks\u001b[38;5;241m=\u001b[39mfollow_symlinks)\n\u001b[1;32m    436\u001b[0m \u001b[38;5;28;01mreturn\u001b[39;00m dst\n",
      "File \u001b[0;32m~/anaconda3/lib/python3.10/shutil.py:254\u001b[0m, in \u001b[0;36mcopyfile\u001b[0;34m(src, dst, follow_symlinks)\u001b[0m\n\u001b[1;32m    252\u001b[0m     os\u001b[38;5;241m.\u001b[39msymlink(os\u001b[38;5;241m.\u001b[39mreadlink(src), dst)\n\u001b[1;32m    253\u001b[0m \u001b[38;5;28;01melse\u001b[39;00m:\n\u001b[0;32m--> 254\u001b[0m     \u001b[38;5;28;01mwith\u001b[39;00m \u001b[38;5;28;43mopen\u001b[39;49m\u001b[43m(\u001b[49m\u001b[43msrc\u001b[49m\u001b[43m,\u001b[49m\u001b[43m \u001b[49m\u001b[38;5;124;43m'\u001b[39;49m\u001b[38;5;124;43mrb\u001b[39;49m\u001b[38;5;124;43m'\u001b[39;49m\u001b[43m)\u001b[49m \u001b[38;5;28;01mas\u001b[39;00m fsrc:\n\u001b[1;32m    255\u001b[0m         \u001b[38;5;28;01mtry\u001b[39;00m:\n\u001b[1;32m    256\u001b[0m             \u001b[38;5;28;01mwith\u001b[39;00m \u001b[38;5;28mopen\u001b[39m(dst, \u001b[38;5;124m'\u001b[39m\u001b[38;5;124mwb\u001b[39m\u001b[38;5;124m'\u001b[39m) \u001b[38;5;28;01mas\u001b[39;00m fdst:\n\u001b[1;32m    257\u001b[0m                 \u001b[38;5;66;03m# macOS\u001b[39;00m\n",
      "\u001b[0;31mFileNotFoundError\u001b[0m: [Errno 2] No such file or directory: 'practice.txt'"
     ]
    }
   ],
   "source": [
    "shutil.move('practice.txt','/Users/adityapidikiti/Python Notebook/')"
   ]
  },
  {
   "cell_type": "code",
   "execution_count": 72,
   "id": "2c948c6a",
   "metadata": {},
   "outputs": [
    {
     "data": {
      "text/plain": [
       "'/Users/adityapidikiti/Python Notebook/Advanced Python Modules/practice.txt'"
      ]
     },
     "execution_count": 72,
     "metadata": {},
     "output_type": "execute_result"
    }
   ],
   "source": [
    "shutil.move('/Users/adityapidikiti/Python Notebook/practice.txt','/Users/adityapidikiti/Python Notebook/Advanced Python Modules/')"
   ]
  },
  {
   "cell_type": "code",
   "execution_count": 73,
   "id": "1cfd6714",
   "metadata": {},
   "outputs": [
    {
     "data": {
      "text/plain": [
       "['Untitled.ipynb', 'practice.txt', '.ipynb_checkpoints']"
      ]
     },
     "execution_count": 73,
     "metadata": {},
     "output_type": "execute_result"
    }
   ],
   "source": [
    "os.listdir()"
   ]
  },
  {
   "cell_type": "code",
   "execution_count": 74,
   "id": "120a816a",
   "metadata": {},
   "outputs": [],
   "source": [
    "os.rename('practice.txt', 'practice1.txt')"
   ]
  },
  {
   "cell_type": "code",
   "execution_count": 75,
   "id": "7135a536",
   "metadata": {},
   "outputs": [
    {
     "data": {
      "text/plain": [
       "['practice1.txt', 'Untitled.ipynb', '.ipynb_checkpoints']"
      ]
     },
     "execution_count": 75,
     "metadata": {},
     "output_type": "execute_result"
    }
   ],
   "source": [
    "os.listdir()"
   ]
  },
  {
   "cell_type": "code",
   "execution_count": 78,
   "id": "39bb234d",
   "metadata": {},
   "outputs": [],
   "source": [
    "import send2trash"
   ]
  },
  {
   "cell_type": "code",
   "execution_count": 80,
   "id": "3ff1bd19",
   "metadata": {},
   "outputs": [],
   "source": [
    "send2trash.send2trash('practice1.txt')"
   ]
  },
  {
   "cell_type": "code",
   "execution_count": 81,
   "id": "0a07391a",
   "metadata": {},
   "outputs": [
    {
     "data": {
      "text/plain": [
       "['Untitled.ipynb', '.ipynb_checkpoints']"
      ]
     },
     "execution_count": 81,
     "metadata": {},
     "output_type": "execute_result"
    }
   ],
   "source": [
    "os.listdir()"
   ]
  },
  {
   "cell_type": "code",
   "execution_count": 93,
   "id": "01a8e65e",
   "metadata": {},
   "outputs": [
    {
     "name": "stdout",
     "output_type": "stream",
     "text": [
      "currently lokking at/Users/adityapidikiti/Python Notebook/\n",
      "\n",
      "\n",
      "THE SUBFOLDERS ARE: \n",
      "\t Subfolder: Decorators\n",
      "\t Subfolder: Errors and Exception Handling\n",
      "\t Subfolder: Methods and Functions\n",
      "\t Subfolder: Object Oriented programming\n",
      "\t Subfolder: Modules and packages \n",
      "\t Subfolder: Advanced Python Modules\n",
      "\t Subfolder: Milestone_Project\n",
      "\t Subfolder: Python objects abd Data structures\n",
      "\t Subfolder: Milestone Project - 2\n",
      "\t Subfolder: Loops\n",
      "\t Subfolder: .ipynb_checkpoints\n",
      "\t Subfolder: Generators\n",
      "\n",
      "\n",
      "THE FILES ARE: \n",
      "\t File: Untitled.ipynb\n",
      "\n",
      "\n",
      "currently lokking at/Users/adityapidikiti/Python Notebook/Decorators\n",
      "\n",
      "\n",
      "THE SUBFOLDERS ARE: \n",
      "\t Subfolder: .ipynb_checkpoints\n",
      "\n",
      "\n",
      "THE FILES ARE: \n",
      "\t File: Untitled.ipynb\n",
      "\n",
      "\n",
      "currently lokking at/Users/adityapidikiti/Python Notebook/Decorators/.ipynb_checkpoints\n",
      "\n",
      "\n",
      "THE SUBFOLDERS ARE: \n",
      "\n",
      "\n",
      "THE FILES ARE: \n",
      "\t File: Untitled-checkpoint.ipynb\n",
      "\n",
      "\n",
      "currently lokking at/Users/adityapidikiti/Python Notebook/Errors and Exception Handling\n",
      "\n",
      "\n",
      "THE SUBFOLDERS ARE: \n",
      "\t Subfolder: .ipynb_checkpoints\n",
      "\n",
      "\n",
      "THE FILES ARE: \n",
      "\t File: Untitled.ipynb\n",
      "\t File: testfile\n",
      "\n",
      "\n",
      "currently lokking at/Users/adityapidikiti/Python Notebook/Errors and Exception Handling/.ipynb_checkpoints\n",
      "\n",
      "\n",
      "THE SUBFOLDERS ARE: \n",
      "\n",
      "\n",
      "THE FILES ARE: \n",
      "\t File: Untitled-checkpoint.ipynb\n",
      "\n",
      "\n",
      "currently lokking at/Users/adityapidikiti/Python Notebook/Methods and Functions\n",
      "\n",
      "\n",
      "THE SUBFOLDERS ARE: \n",
      "\t Subfolder: .ipynb_checkpoints\n",
      "\n",
      "\n",
      "THE FILES ARE: \n",
      "\t File: Untitled.ipynb\n",
      "\n",
      "\n",
      "currently lokking at/Users/adityapidikiti/Python Notebook/Methods and Functions/.ipynb_checkpoints\n",
      "\n",
      "\n",
      "THE SUBFOLDERS ARE: \n",
      "\n",
      "\n",
      "THE FILES ARE: \n",
      "\t File: Untitled-checkpoint.ipynb\n",
      "\n",
      "\n",
      "currently lokking at/Users/adityapidikiti/Python Notebook/Object Oriented programming\n",
      "\n",
      "\n",
      "THE SUBFOLDERS ARE: \n",
      "\t Subfolder: .ipynb_checkpoints\n",
      "\n",
      "\n",
      "THE FILES ARE: \n",
      "\t File: Untitled.ipynb\n",
      "\n",
      "\n",
      "currently lokking at/Users/adityapidikiti/Python Notebook/Object Oriented programming/.ipynb_checkpoints\n",
      "\n",
      "\n",
      "THE SUBFOLDERS ARE: \n",
      "\n",
      "\n",
      "THE FILES ARE: \n",
      "\t File: Untitled-checkpoint.ipynb\n",
      "\n",
      "\n",
      "currently lokking at/Users/adityapidikiti/Python Notebook/Modules and packages \n",
      "\n",
      "\n",
      "THE SUBFOLDERS ARE: \n",
      "\t Subfolder: .ipynb_checkpoints\n",
      "\n",
      "\n",
      "THE FILES ARE: \n",
      "\t File: Untitled.ipynb\n",
      "\n",
      "\n",
      "currently lokking at/Users/adityapidikiti/Python Notebook/Modules and packages /.ipynb_checkpoints\n",
      "\n",
      "\n",
      "THE SUBFOLDERS ARE: \n",
      "\n",
      "\n",
      "THE FILES ARE: \n",
      "\t File: Untitled-checkpoint.ipynb\n",
      "\n",
      "\n",
      "currently lokking at/Users/adityapidikiti/Python Notebook/Advanced Python Modules\n",
      "\n",
      "\n",
      "THE SUBFOLDERS ARE: \n",
      "\t Subfolder: .ipynb_checkpoints\n",
      "\n",
      "\n",
      "THE FILES ARE: \n",
      "\t File: Untitled.ipynb\n",
      "\n",
      "\n",
      "currently lokking at/Users/adityapidikiti/Python Notebook/Advanced Python Modules/.ipynb_checkpoints\n",
      "\n",
      "\n",
      "THE SUBFOLDERS ARE: \n",
      "\n",
      "\n",
      "THE FILES ARE: \n",
      "\t File: Untitled-checkpoint.ipynb\n",
      "\n",
      "\n",
      "currently lokking at/Users/adityapidikiti/Python Notebook/Milestone_Project\n",
      "\n",
      "\n",
      "THE SUBFOLDERS ARE: \n",
      "\t Subfolder: .ipynb_checkpoints\n",
      "\n",
      "\n",
      "THE FILES ARE: \n",
      "\t File: Untitled.ipynb\n",
      "\n",
      "\n",
      "currently lokking at/Users/adityapidikiti/Python Notebook/Milestone_Project/.ipynb_checkpoints\n",
      "\n",
      "\n",
      "THE SUBFOLDERS ARE: \n",
      "\n",
      "\n",
      "THE FILES ARE: \n",
      "\t File: Untitled-checkpoint.ipynb\n",
      "\n",
      "\n",
      "currently lokking at/Users/adityapidikiti/Python Notebook/Python objects abd Data structures\n",
      "\n",
      "\n",
      "THE SUBFOLDERS ARE: \n",
      "\t Subfolder: .ipynb_checkpoints\n",
      "\n",
      "\n",
      "THE FILES ARE: \n",
      "\t File: file.txt\n",
      "\t File: FirstNotebook.ipynb\n",
      "\t File: myfile.txt\n",
      "\n",
      "\n",
      "currently lokking at/Users/adityapidikiti/Python Notebook/Python objects abd Data structures/.ipynb_checkpoints\n",
      "\n",
      "\n",
      "THE SUBFOLDERS ARE: \n",
      "\n",
      "\n",
      "THE FILES ARE: \n",
      "\t File: FirstNotebook-checkpoint.ipynb\n",
      "\n",
      "\n",
      "currently lokking at/Users/adityapidikiti/Python Notebook/Milestone Project - 2\n",
      "\n",
      "\n",
      "THE SUBFOLDERS ARE: \n",
      "\t Subfolder: .ipynb_checkpoints\n",
      "\n",
      "\n",
      "THE FILES ARE: \n",
      "\t File: Untitled1.ipynb\n",
      "\t File: Untitled.ipynb\n",
      "\n",
      "\n",
      "currently lokking at/Users/adityapidikiti/Python Notebook/Milestone Project - 2/.ipynb_checkpoints\n",
      "\n",
      "\n",
      "THE SUBFOLDERS ARE: \n",
      "\n",
      "\n",
      "THE FILES ARE: \n",
      "\t File: Untitled1-checkpoint.ipynb\n",
      "\t File: Untitled-checkpoint.ipynb\n",
      "\n",
      "\n",
      "currently lokking at/Users/adityapidikiti/Python Notebook/Loops\n",
      "\n",
      "\n",
      "THE SUBFOLDERS ARE: \n",
      "\t Subfolder: .ipynb_checkpoints\n",
      "\n",
      "\n",
      "THE FILES ARE: \n",
      "\t File: Untitled.ipynb\n",
      "\n",
      "\n",
      "currently lokking at/Users/adityapidikiti/Python Notebook/Loops/.ipynb_checkpoints\n",
      "\n",
      "\n",
      "THE SUBFOLDERS ARE: \n",
      "\n",
      "\n",
      "THE FILES ARE: \n",
      "\t File: Untitled-checkpoint.ipynb\n",
      "\n",
      "\n",
      "currently lokking at/Users/adityapidikiti/Python Notebook/.ipynb_checkpoints\n",
      "\n",
      "\n",
      "THE SUBFOLDERS ARE: \n",
      "\n",
      "\n",
      "THE FILES ARE: \n",
      "\t File: Untitled-checkpoint.ipynb\n",
      "\n",
      "\n",
      "currently lokking at/Users/adityapidikiti/Python Notebook/Generators\n",
      "\n",
      "\n",
      "THE SUBFOLDERS ARE: \n",
      "\t Subfolder: .ipynb_checkpoints\n",
      "\n",
      "\n",
      "THE FILES ARE: \n",
      "\t File: Untitled.ipynb\n",
      "\n",
      "\n",
      "currently lokking at/Users/adityapidikiti/Python Notebook/Generators/.ipynb_checkpoints\n",
      "\n",
      "\n",
      "THE SUBFOLDERS ARE: \n",
      "\n",
      "\n",
      "THE FILES ARE: \n",
      "\t File: Untitled-checkpoint.ipynb\n",
      "\n",
      "\n"
     ]
    }
   ],
   "source": [
    "for folder,sub_folders,files in os.walk('/Users/adityapidikiti/Python Notebook/'):\n",
    "    print(f'currently lokking at{folder}')\n",
    "    print('\\n')\n",
    "    print(\"THE SUBFOLDERS ARE: \")\n",
    "    for sub_fold in sub_folders:\n",
    "        print(\"\\t Subfolder: \"+sub_fold )\n",
    "    \n",
    "    print('\\n')\n",
    "    \n",
    "    print(\"THE FILES ARE: \")\n",
    "    for f in files:\n",
    "        print(\"\\t File: \"+f)\n",
    "    print('\\n')\n",
    "    "
   ]
  },
  {
   "cell_type": "code",
   "execution_count": 20,
   "id": "bd9b7a7a",
   "metadata": {},
   "outputs": [
    {
     "name": "stdout",
     "output_type": "stream",
     "text": [
      "03:20:01.000020\n",
      "2023-07-08\n",
      "2023-07-08 14:20:01\n",
      "2020-07-08 14:20:01\n",
      "397 days, 0:00:00\n"
     ]
    },
    {
     "data": {
      "text/plain": [
       "397"
      ]
     },
     "execution_count": 20,
     "metadata": {},
     "output_type": "execute_result"
    }
   ],
   "source": [
    "# DateTime Module \n",
    "\n",
    "import datetime\n",
    "\n",
    "mytime = datetime.time(3,20,1,20)\n",
    "\n",
    "mytime.minute\n",
    "\n",
    "mytime.hour\n",
    "\n",
    "print(mytime)\n",
    "\n",
    "mytime.second\n",
    "\n",
    "mytime.microsecond\n",
    "\n",
    "type(mytime)\n",
    "\n",
    "today = datetime.date.today()\n",
    "\n",
    "today\n",
    "\n",
    "print(today)\n",
    "\n",
    "today.year\n",
    "\n",
    "today.month\n",
    "\n",
    "today.ctime()\n",
    "\n",
    "from datetime import datetime\n",
    "\n",
    "mydate = datetime(2023,7,8,14,20,1)\n",
    "\n",
    "print(mydate)\n",
    "\n",
    "mydate.ctime()\n",
    "\n",
    "mydate = mydate.replace(year=2020)\n",
    "\n",
    "print(mydate)\n",
    "\n",
    "# DATE \n",
    "\n",
    "from datetime import date\n",
    "\n",
    "date1 = date(2021,3,4)\n",
    "\n",
    "date2 = date(2022,4,5)\n",
    "\n",
    "result = date2 - date1\n",
    "\n",
    "print(result)\n",
    "\n",
    "result.days\n",
    "\n"
   ]
  },
  {
   "cell_type": "code",
   "execution_count": 21,
   "id": "8dcb8e49",
   "metadata": {},
   "outputs": [],
   "source": [
    "datetime1 = datetime(2021,3,4,12,3,4)"
   ]
  },
  {
   "cell_type": "code",
   "execution_count": 22,
   "id": "05f87938",
   "metadata": {},
   "outputs": [],
   "source": [
    "datetime2 = datetime(2022,4,4,18,3,5)"
   ]
  },
  {
   "cell_type": "code",
   "execution_count": 23,
   "id": "f66b0558",
   "metadata": {},
   "outputs": [],
   "source": [
    "result = datetime2 - datetime1 "
   ]
  },
  {
   "cell_type": "code",
   "execution_count": 24,
   "id": "6722b5d1",
   "metadata": {},
   "outputs": [],
   "source": [
    "from datetime import datetime"
   ]
  },
  {
   "cell_type": "code",
   "execution_count": 25,
   "id": "47f0c1b8",
   "metadata": {},
   "outputs": [],
   "source": [
    "datetime1 = datetime(2021,3,4,12,3,4)"
   ]
  },
  {
   "cell_type": "code",
   "execution_count": 26,
   "id": "d8d44a34",
   "metadata": {},
   "outputs": [],
   "source": [
    "datetime2 = datetime(2022,4,4,18,3,5)"
   ]
  },
  {
   "cell_type": "code",
   "execution_count": 27,
   "id": "f4d95839",
   "metadata": {},
   "outputs": [],
   "source": [
    "result = datetime2 - datetime1 "
   ]
  },
  {
   "cell_type": "code",
   "execution_count": 30,
   "id": "96960b7a",
   "metadata": {},
   "outputs": [],
   "source": [
    "import datetime\n",
    "from datetime import datetime"
   ]
  },
  {
   "cell_type": "code",
   "execution_count": 31,
   "id": "263b37f3",
   "metadata": {},
   "outputs": [],
   "source": [
    "datetime1 = datetime(2021,3,4,12,3,4)"
   ]
  },
  {
   "cell_type": "code",
   "execution_count": 32,
   "id": "b4782c3a",
   "metadata": {},
   "outputs": [],
   "source": [
    "datetime2 = datetime(2022,4,4,18,3,5)"
   ]
  },
  {
   "cell_type": "code",
   "execution_count": 33,
   "id": "82e1e549",
   "metadata": {},
   "outputs": [],
   "source": [
    "result = datetime2 - datetime1 "
   ]
  },
  {
   "cell_type": "code",
   "execution_count": 34,
   "id": "ac666696",
   "metadata": {},
   "outputs": [
    {
     "name": "stdout",
     "output_type": "stream",
     "text": [
      "396 days, 6:00:01\n"
     ]
    }
   ],
   "source": [
    "print(result)"
   ]
  },
  {
   "cell_type": "code",
   "execution_count": 117,
   "id": "ac362ac5",
   "metadata": {},
   "outputs": [
    {
     "data": {
      "text/plain": [
       "21601"
      ]
     },
     "execution_count": 117,
     "metadata": {},
     "output_type": "execute_result"
    }
   ],
   "source": [
    "result.seconds"
   ]
  },
  {
   "cell_type": "code",
   "execution_count": 38,
   "id": "83a280f7",
   "metadata": {},
   "outputs": [
    {
     "data": {
      "text/plain": [
       "34236001.0"
      ]
     },
     "execution_count": 38,
     "metadata": {},
     "output_type": "execute_result"
    }
   ],
   "source": [
    "result.total_seconds()"
   ]
  },
  {
   "cell_type": "code",
   "execution_count": 39,
   "id": "b46129b3",
   "metadata": {},
   "outputs": [],
   "source": [
    "import math "
   ]
  },
  {
   "cell_type": "code",
   "execution_count": 41,
   "id": "4635e5d2",
   "metadata": {},
   "outputs": [
    {
     "name": "stdout",
     "output_type": "stream",
     "text": [
      "Help on module math:\n",
      "\n",
      "NAME\n",
      "    math\n",
      "\n",
      "MODULE REFERENCE\n",
      "    https://docs.python.org/3.10/library/math.html\n",
      "    \n",
      "    The following documentation is automatically generated from the Python\n",
      "    source files.  It may be incomplete, incorrect or include features that\n",
      "    are considered implementation detail and may vary between Python\n",
      "    implementations.  When in doubt, consult the module reference at the\n",
      "    location listed above.\n",
      "\n",
      "DESCRIPTION\n",
      "    This module provides access to the mathematical functions\n",
      "    defined by the C standard.\n",
      "\n",
      "FUNCTIONS\n",
      "    acos(x, /)\n",
      "        Return the arc cosine (measured in radians) of x.\n",
      "        \n",
      "        The result is between 0 and pi.\n",
      "    \n",
      "    acosh(x, /)\n",
      "        Return the inverse hyperbolic cosine of x.\n",
      "    \n",
      "    asin(x, /)\n",
      "        Return the arc sine (measured in radians) of x.\n",
      "        \n",
      "        The result is between -pi/2 and pi/2.\n",
      "    \n",
      "    asinh(x, /)\n",
      "        Return the inverse hyperbolic sine of x.\n",
      "    \n",
      "    atan(x, /)\n",
      "        Return the arc tangent (measured in radians) of x.\n",
      "        \n",
      "        The result is between -pi/2 and pi/2.\n",
      "    \n",
      "    atan2(y, x, /)\n",
      "        Return the arc tangent (measured in radians) of y/x.\n",
      "        \n",
      "        Unlike atan(y/x), the signs of both x and y are considered.\n",
      "    \n",
      "    atanh(x, /)\n",
      "        Return the inverse hyperbolic tangent of x.\n",
      "    \n",
      "    ceil(x, /)\n",
      "        Return the ceiling of x as an Integral.\n",
      "        \n",
      "        This is the smallest integer >= x.\n",
      "    \n",
      "    comb(n, k, /)\n",
      "        Number of ways to choose k items from n items without repetition and without order.\n",
      "        \n",
      "        Evaluates to n! / (k! * (n - k)!) when k <= n and evaluates\n",
      "        to zero when k > n.\n",
      "        \n",
      "        Also called the binomial coefficient because it is equivalent\n",
      "        to the coefficient of k-th term in polynomial expansion of the\n",
      "        expression (1 + x)**n.\n",
      "        \n",
      "        Raises TypeError if either of the arguments are not integers.\n",
      "        Raises ValueError if either of the arguments are negative.\n",
      "    \n",
      "    copysign(x, y, /)\n",
      "        Return a float with the magnitude (absolute value) of x but the sign of y.\n",
      "        \n",
      "        On platforms that support signed zeros, copysign(1.0, -0.0)\n",
      "        returns -1.0.\n",
      "    \n",
      "    cos(x, /)\n",
      "        Return the cosine of x (measured in radians).\n",
      "    \n",
      "    cosh(x, /)\n",
      "        Return the hyperbolic cosine of x.\n",
      "    \n",
      "    degrees(x, /)\n",
      "        Convert angle x from radians to degrees.\n",
      "    \n",
      "    dist(p, q, /)\n",
      "        Return the Euclidean distance between two points p and q.\n",
      "        \n",
      "        The points should be specified as sequences (or iterables) of\n",
      "        coordinates.  Both inputs must have the same dimension.\n",
      "        \n",
      "        Roughly equivalent to:\n",
      "            sqrt(sum((px - qx) ** 2.0 for px, qx in zip(p, q)))\n",
      "    \n",
      "    erf(x, /)\n",
      "        Error function at x.\n",
      "    \n",
      "    erfc(x, /)\n",
      "        Complementary error function at x.\n",
      "    \n",
      "    exp(x, /)\n",
      "        Return e raised to the power of x.\n",
      "    \n",
      "    expm1(x, /)\n",
      "        Return exp(x)-1.\n",
      "        \n",
      "        This function avoids the loss of precision involved in the direct evaluation of exp(x)-1 for small x.\n",
      "    \n",
      "    fabs(x, /)\n",
      "        Return the absolute value of the float x.\n",
      "    \n",
      "    factorial(x, /)\n",
      "        Find x!.\n",
      "        \n",
      "        Raise a ValueError if x is negative or non-integral.\n",
      "    \n",
      "    floor(x, /)\n",
      "        Return the floor of x as an Integral.\n",
      "        \n",
      "        This is the largest integer <= x.\n",
      "    \n",
      "    fmod(x, y, /)\n",
      "        Return fmod(x, y), according to platform C.\n",
      "        \n",
      "        x % y may differ.\n",
      "    \n",
      "    frexp(x, /)\n",
      "        Return the mantissa and exponent of x, as pair (m, e).\n",
      "        \n",
      "        m is a float and e is an int, such that x = m * 2.**e.\n",
      "        If x is 0, m and e are both 0.  Else 0.5 <= abs(m) < 1.0.\n",
      "    \n",
      "    fsum(seq, /)\n",
      "        Return an accurate floating point sum of values in the iterable seq.\n",
      "        \n",
      "        Assumes IEEE-754 floating point arithmetic.\n",
      "    \n",
      "    gamma(x, /)\n",
      "        Gamma function at x.\n",
      "    \n",
      "    gcd(*integers)\n",
      "        Greatest Common Divisor.\n",
      "    \n",
      "    hypot(...)\n",
      "        hypot(*coordinates) -> value\n",
      "        \n",
      "        Multidimensional Euclidean distance from the origin to a point.\n",
      "        \n",
      "        Roughly equivalent to:\n",
      "            sqrt(sum(x**2 for x in coordinates))\n",
      "        \n",
      "        For a two dimensional point (x, y), gives the hypotenuse\n",
      "        using the Pythagorean theorem:  sqrt(x*x + y*y).\n",
      "        \n",
      "        For example, the hypotenuse of a 3/4/5 right triangle is:\n",
      "        \n",
      "            >>> hypot(3.0, 4.0)\n",
      "            5.0\n",
      "    \n",
      "    isclose(a, b, *, rel_tol=1e-09, abs_tol=0.0)\n",
      "        Determine whether two floating point numbers are close in value.\n",
      "        \n",
      "          rel_tol\n",
      "            maximum difference for being considered \"close\", relative to the\n",
      "            magnitude of the input values\n",
      "          abs_tol\n",
      "            maximum difference for being considered \"close\", regardless of the\n",
      "            magnitude of the input values\n",
      "        \n",
      "        Return True if a is close in value to b, and False otherwise.\n",
      "        \n",
      "        For the values to be considered close, the difference between them\n",
      "        must be smaller than at least one of the tolerances.\n",
      "        \n",
      "        -inf, inf and NaN behave similarly to the IEEE 754 Standard.  That\n",
      "        is, NaN is not close to anything, even itself.  inf and -inf are\n",
      "        only close to themselves.\n",
      "    \n",
      "    isfinite(x, /)\n",
      "        Return True if x is neither an infinity nor a NaN, and False otherwise.\n",
      "    \n",
      "    isinf(x, /)\n",
      "        Return True if x is a positive or negative infinity, and False otherwise.\n",
      "    \n",
      "    isnan(x, /)\n",
      "        Return True if x is a NaN (not a number), and False otherwise.\n",
      "    \n",
      "    isqrt(n, /)\n",
      "        Return the integer part of the square root of the input.\n",
      "    \n",
      "    lcm(*integers)\n",
      "        Least Common Multiple.\n",
      "    \n",
      "    ldexp(x, i, /)\n",
      "        Return x * (2**i).\n",
      "        \n",
      "        This is essentially the inverse of frexp().\n",
      "    \n",
      "    lgamma(x, /)\n",
      "        Natural logarithm of absolute value of Gamma function at x.\n",
      "    \n",
      "    log(...)\n",
      "        log(x, [base=math.e])\n",
      "        Return the logarithm of x to the given base.\n",
      "        \n",
      "        If the base not specified, returns the natural logarithm (base e) of x.\n",
      "    \n",
      "    log10(x, /)\n",
      "        Return the base 10 logarithm of x.\n",
      "    \n",
      "    log1p(x, /)\n",
      "        Return the natural logarithm of 1+x (base e).\n",
      "        \n",
      "        The result is computed in a way which is accurate for x near zero.\n",
      "    \n",
      "    log2(x, /)\n",
      "        Return the base 2 logarithm of x.\n",
      "    \n",
      "    modf(x, /)\n",
      "        Return the fractional and integer parts of x.\n",
      "        \n",
      "        Both results carry the sign of x and are floats.\n",
      "    \n",
      "    nextafter(x, y, /)\n",
      "        Return the next floating-point value after x towards y.\n",
      "    \n",
      "    perm(n, k=None, /)\n",
      "        Number of ways to choose k items from n items without repetition and with order.\n",
      "        \n",
      "        Evaluates to n! / (n - k)! when k <= n and evaluates\n",
      "        to zero when k > n.\n",
      "        \n",
      "        If k is not specified or is None, then k defaults to n\n",
      "        and the function returns n!.\n",
      "        \n",
      "        Raises TypeError if either of the arguments are not integers.\n",
      "        Raises ValueError if either of the arguments are negative.\n",
      "    \n",
      "    pow(x, y, /)\n",
      "        Return x**y (x to the power of y).\n",
      "    \n",
      "    prod(iterable, /, *, start=1)\n",
      "        Calculate the product of all the elements in the input iterable.\n",
      "        \n",
      "        The default start value for the product is 1.\n",
      "        \n",
      "        When the iterable is empty, return the start value.  This function is\n",
      "        intended specifically for use with numeric values and may reject\n",
      "        non-numeric types.\n",
      "    \n",
      "    radians(x, /)\n",
      "        Convert angle x from degrees to radians.\n",
      "    \n",
      "    remainder(x, y, /)\n",
      "        Difference between x and the closest integer multiple of y.\n",
      "        \n",
      "        Return x - n*y where n*y is the closest integer multiple of y.\n",
      "        In the case where x is exactly halfway between two multiples of\n",
      "        y, the nearest even value of n is used. The result is always exact.\n",
      "    \n",
      "    sin(x, /)\n",
      "        Return the sine of x (measured in radians).\n",
      "    \n",
      "    sinh(x, /)\n",
      "        Return the hyperbolic sine of x.\n",
      "    \n",
      "    sqrt(x, /)\n",
      "        Return the square root of x.\n",
      "    \n",
      "    tan(x, /)\n",
      "        Return the tangent of x (measured in radians).\n",
      "    \n",
      "    tanh(x, /)\n",
      "        Return the hyperbolic tangent of x.\n",
      "    \n",
      "    trunc(x, /)\n",
      "        Truncates the Real x to the nearest Integral toward 0.\n",
      "        \n",
      "        Uses the __trunc__ magic method.\n",
      "    \n",
      "    ulp(x, /)\n",
      "        Return the value of the least significant bit of the float x.\n",
      "\n",
      "DATA\n",
      "    e = 2.718281828459045\n",
      "    inf = inf\n",
      "    nan = nan\n",
      "    pi = 3.141592653589793\n",
      "    tau = 6.283185307179586\n",
      "\n",
      "FILE\n",
      "    /Users/adityapidikiti/anaconda3/lib/python3.10/lib-dynload/math.cpython-310-darwin.so\n",
      "\n",
      "\n"
     ]
    }
   ],
   "source": [
    "help(math) "
   ]
  },
  {
   "cell_type": "code",
   "execution_count": 43,
   "id": "b5e61833",
   "metadata": {},
   "outputs": [
    {
     "name": "stdout",
     "output_type": "stream",
     "text": [
      "Help on class datetime in module datetime:\n",
      "\n",
      "class datetime(date)\n",
      " |  datetime(year, month, day[, hour[, minute[, second[, microsecond[,tzinfo]]]]])\n",
      " |  \n",
      " |  The year, month and day arguments are required. tzinfo may be None, or an\n",
      " |  instance of a tzinfo subclass. The remaining arguments may be ints.\n",
      " |  \n",
      " |  Method resolution order:\n",
      " |      datetime\n",
      " |      date\n",
      " |      builtins.object\n",
      " |  \n",
      " |  Methods defined here:\n",
      " |  \n",
      " |  __add__(self, value, /)\n",
      " |      Return self+value.\n",
      " |  \n",
      " |  __eq__(self, value, /)\n",
      " |      Return self==value.\n",
      " |  \n",
      " |  __ge__(self, value, /)\n",
      " |      Return self>=value.\n",
      " |  \n",
      " |  __getattribute__(self, name, /)\n",
      " |      Return getattr(self, name).\n",
      " |  \n",
      " |  __gt__(self, value, /)\n",
      " |      Return self>value.\n",
      " |  \n",
      " |  __hash__(self, /)\n",
      " |      Return hash(self).\n",
      " |  \n",
      " |  __le__(self, value, /)\n",
      " |      Return self<=value.\n",
      " |  \n",
      " |  __lt__(self, value, /)\n",
      " |      Return self<value.\n",
      " |  \n",
      " |  __ne__(self, value, /)\n",
      " |      Return self!=value.\n",
      " |  \n",
      " |  __radd__(self, value, /)\n",
      " |      Return value+self.\n",
      " |  \n",
      " |  __reduce__(...)\n",
      " |      __reduce__() -> (cls, state)\n",
      " |  \n",
      " |  __reduce_ex__(...)\n",
      " |      __reduce_ex__(proto) -> (cls, state)\n",
      " |  \n",
      " |  __repr__(self, /)\n",
      " |      Return repr(self).\n",
      " |  \n",
      " |  __rsub__(self, value, /)\n",
      " |      Return value-self.\n",
      " |  \n",
      " |  __str__(self, /)\n",
      " |      Return str(self).\n",
      " |  \n",
      " |  __sub__(self, value, /)\n",
      " |      Return self-value.\n",
      " |  \n",
      " |  astimezone(...)\n",
      " |      tz -> convert to local time in new timezone tz\n",
      " |  \n",
      " |  ctime(...)\n",
      " |      Return ctime() style string.\n",
      " |  \n",
      " |  date(...)\n",
      " |      Return date object with same year, month and day.\n",
      " |  \n",
      " |  dst(...)\n",
      " |      Return self.tzinfo.dst(self).\n",
      " |  \n",
      " |  isoformat(...)\n",
      " |      [sep] -> string in ISO 8601 format, YYYY-MM-DDT[HH[:MM[:SS[.mmm[uuu]]]]][+HH:MM].\n",
      " |      sep is used to separate the year from the time, and defaults to 'T'.\n",
      " |      The optional argument timespec specifies the number of additional terms\n",
      " |      of the time to include. Valid options are 'auto', 'hours', 'minutes',\n",
      " |      'seconds', 'milliseconds' and 'microseconds'.\n",
      " |  \n",
      " |  replace(...)\n",
      " |      Return datetime with new specified fields.\n",
      " |  \n",
      " |  time(...)\n",
      " |      Return time object with same time but with tzinfo=None.\n",
      " |  \n",
      " |  timestamp(...)\n",
      " |      Return POSIX timestamp as float.\n",
      " |  \n",
      " |  timetuple(...)\n",
      " |      Return time tuple, compatible with time.localtime().\n",
      " |  \n",
      " |  timetz(...)\n",
      " |      Return time object with same time and tzinfo.\n",
      " |  \n",
      " |  tzname(...)\n",
      " |      Return self.tzinfo.tzname(self).\n",
      " |  \n",
      " |  utcoffset(...)\n",
      " |      Return self.tzinfo.utcoffset(self).\n",
      " |  \n",
      " |  utctimetuple(...)\n",
      " |      Return UTC time tuple, compatible with time.localtime().\n",
      " |  \n",
      " |  ----------------------------------------------------------------------\n",
      " |  Class methods defined here:\n",
      " |  \n",
      " |  combine(...) from builtins.type\n",
      " |      date, time -> datetime with same date and time fields\n",
      " |  \n",
      " |  fromisoformat(...) from builtins.type\n",
      " |      string -> datetime from datetime.isoformat() output\n",
      " |  \n",
      " |  fromtimestamp(...) from builtins.type\n",
      " |      timestamp[, tz] -> tz's local time from POSIX timestamp.\n",
      " |  \n",
      " |  now(tz=None) from builtins.type\n",
      " |      Returns new datetime object representing current time local to tz.\n",
      " |      \n",
      " |        tz\n",
      " |          Timezone object.\n",
      " |      \n",
      " |      If no tz is specified, uses local timezone.\n",
      " |  \n",
      " |  strptime(...) from builtins.type\n",
      " |      string, format -> new datetime parsed from a string (like time.strptime()).\n",
      " |  \n",
      " |  utcfromtimestamp(...) from builtins.type\n",
      " |      Construct a naive UTC datetime from a POSIX timestamp.\n",
      " |  \n",
      " |  utcnow(...) from builtins.type\n",
      " |      Return a new datetime representing UTC day and time.\n",
      " |  \n",
      " |  ----------------------------------------------------------------------\n",
      " |  Static methods defined here:\n",
      " |  \n",
      " |  __new__(*args, **kwargs) from builtins.type\n",
      " |      Create and return a new object.  See help(type) for accurate signature.\n",
      " |  \n",
      " |  ----------------------------------------------------------------------\n",
      " |  Data descriptors defined here:\n",
      " |  \n",
      " |  fold\n",
      " |  \n",
      " |  hour\n",
      " |  \n",
      " |  microsecond\n",
      " |  \n",
      " |  minute\n",
      " |  \n",
      " |  second\n",
      " |  \n",
      " |  tzinfo\n",
      " |  \n",
      " |  ----------------------------------------------------------------------\n",
      " |  Data and other attributes defined here:\n",
      " |  \n",
      " |  max = datetime.datetime(9999, 12, 31, 23, 59, 59, 999999)\n",
      " |  \n",
      " |  min = datetime.datetime(1, 1, 1, 0, 0)\n",
      " |  \n",
      " |  resolution = datetime.timedelta(microseconds=1)\n",
      " |  \n",
      " |  ----------------------------------------------------------------------\n",
      " |  Methods inherited from date:\n",
      " |  \n",
      " |  __format__(...)\n",
      " |      Formats self with strftime.\n",
      " |  \n",
      " |  isocalendar(...)\n",
      " |      Return a named tuple containing ISO year, week number, and weekday.\n",
      " |  \n",
      " |  isoweekday(...)\n",
      " |      Return the day of the week represented by the date.\n",
      " |      Monday == 1 ... Sunday == 7\n",
      " |  \n",
      " |  strftime(...)\n",
      " |      format -> strftime() style string.\n",
      " |  \n",
      " |  toordinal(...)\n",
      " |      Return proleptic Gregorian ordinal.  January 1 of year 1 is day 1.\n",
      " |  \n",
      " |  weekday(...)\n",
      " |      Return the day of the week represented by the date.\n",
      " |      Monday == 0 ... Sunday == 6\n",
      " |  \n",
      " |  ----------------------------------------------------------------------\n",
      " |  Class methods inherited from date:\n",
      " |  \n",
      " |  fromisocalendar(...) from builtins.type\n",
      " |      int, int, int -> Construct a date from the ISO year, week number and weekday.\n",
      " |      \n",
      " |      This is the inverse of the date.isocalendar() function\n",
      " |  \n",
      " |  fromordinal(...) from builtins.type\n",
      " |      int -> date corresponding to a proleptic Gregorian ordinal.\n",
      " |  \n",
      " |  today(...) from builtins.type\n",
      " |      Current date or datetime:  same as self.__class__.fromtimestamp(time.time()).\n",
      " |  \n",
      " |  ----------------------------------------------------------------------\n",
      " |  Data descriptors inherited from date:\n",
      " |  \n",
      " |  day\n",
      " |  \n",
      " |  month\n",
      " |  \n",
      " |  year\n",
      "\n"
     ]
    }
   ],
   "source": [
    "help(datetime)"
   ]
  },
  {
   "cell_type": "code",
   "execution_count": 44,
   "id": "e896222f",
   "metadata": {},
   "outputs": [],
   "source": [
    "value = 4.34"
   ]
  },
  {
   "cell_type": "code",
   "execution_count": 45,
   "id": "2ccdf693",
   "metadata": {},
   "outputs": [
    {
     "data": {
      "text/plain": [
       "4"
      ]
     },
     "execution_count": 45,
     "metadata": {},
     "output_type": "execute_result"
    }
   ],
   "source": [
    "math.floor(value)"
   ]
  },
  {
   "cell_type": "code",
   "execution_count": 46,
   "id": "d5949666",
   "metadata": {},
   "outputs": [
    {
     "data": {
      "text/plain": [
       "5"
      ]
     },
     "execution_count": 46,
     "metadata": {},
     "output_type": "execute_result"
    }
   ],
   "source": [
    "math.ceil(value)"
   ]
  },
  {
   "cell_type": "code",
   "execution_count": 48,
   "id": "ba7e8618",
   "metadata": {},
   "outputs": [
    {
     "data": {
      "text/plain": [
       "6"
      ]
     },
     "execution_count": 48,
     "metadata": {},
     "output_type": "execute_result"
    }
   ],
   "source": [
    "math.ceil(5.5656)"
   ]
  },
  {
   "cell_type": "code",
   "execution_count": 52,
   "id": "19649edf",
   "metadata": {},
   "outputs": [
    {
     "data": {
      "text/plain": [
       "5"
      ]
     },
     "execution_count": 52,
     "metadata": {},
     "output_type": "execute_result"
    }
   ],
   "source": [
    "round(5.4)"
   ]
  },
  {
   "cell_type": "code",
   "execution_count": 54,
   "id": "281cb524",
   "metadata": {},
   "outputs": [],
   "source": [
    "from math import pi"
   ]
  },
  {
   "cell_type": "code",
   "execution_count": 55,
   "id": "f8410225",
   "metadata": {},
   "outputs": [
    {
     "data": {
      "text/plain": [
       "3.141592653589793"
      ]
     },
     "execution_count": 55,
     "metadata": {},
     "output_type": "execute_result"
    }
   ],
   "source": [
    "pi"
   ]
  },
  {
   "cell_type": "code",
   "execution_count": 57,
   "id": "fbad9afc",
   "metadata": {},
   "outputs": [
    {
     "data": {
      "text/plain": [
       "inf"
      ]
     },
     "execution_count": 57,
     "metadata": {},
     "output_type": "execute_result"
    }
   ],
   "source": [
    "math.inf"
   ]
  },
  {
   "cell_type": "code",
   "execution_count": 58,
   "id": "82a9f521",
   "metadata": {},
   "outputs": [
    {
     "data": {
      "text/plain": [
       "2.718281828459045"
      ]
     },
     "execution_count": 58,
     "metadata": {},
     "output_type": "execute_result"
    }
   ],
   "source": [
    "math.e"
   ]
  },
  {
   "cell_type": "code",
   "execution_count": 59,
   "id": "b88863dd",
   "metadata": {},
   "outputs": [
    {
     "data": {
      "text/plain": [
       "3.141592653589793"
      ]
     },
     "execution_count": 59,
     "metadata": {},
     "output_type": "execute_result"
    }
   ],
   "source": [
    "math.pi"
   ]
  },
  {
   "cell_type": "code",
   "execution_count": 60,
   "id": "832839b7",
   "metadata": {},
   "outputs": [
    {
     "data": {
      "text/plain": [
       "1.0"
      ]
     },
     "execution_count": 60,
     "metadata": {},
     "output_type": "execute_result"
    }
   ],
   "source": [
    "math.log(math.e)"
   ]
  },
  {
   "cell_type": "code",
   "execution_count": 62,
   "id": "c5b63ead",
   "metadata": {},
   "outputs": [
    {
     "data": {
      "text/plain": [
       "2.0"
      ]
     },
     "execution_count": 62,
     "metadata": {},
     "output_type": "execute_result"
    }
   ],
   "source": [
    "math.log(100,10)"
   ]
  },
  {
   "cell_type": "code",
   "execution_count": 136,
   "id": "a0cdf7ab",
   "metadata": {},
   "outputs": [
    {
     "data": {
      "text/plain": [
       "2.095903274289385"
      ]
     },
     "execution_count": 136,
     "metadata": {},
     "output_type": "execute_result"
    }
   ],
   "source": [
    "math.log(10,3)"
   ]
  },
  {
   "cell_type": "code",
   "execution_count": 64,
   "id": "bdc1bdfd",
   "metadata": {},
   "outputs": [
    {
     "data": {
      "text/plain": [
       "9"
      ]
     },
     "execution_count": 64,
     "metadata": {},
     "output_type": "execute_result"
    }
   ],
   "source": [
    "3**2"
   ]
  },
  {
   "cell_type": "code",
   "execution_count": 65,
   "id": "8bebd55a",
   "metadata": {},
   "outputs": [],
   "source": [
    "# Random module "
   ]
  },
  {
   "cell_type": "code",
   "execution_count": 70,
   "id": "510ae9d7",
   "metadata": {},
   "outputs": [],
   "source": [
    "list1 = list(range(0,7))"
   ]
  },
  {
   "cell_type": "code",
   "execution_count": 71,
   "id": "891c4e09",
   "metadata": {},
   "outputs": [
    {
     "data": {
      "text/plain": [
       "[0, 1, 2, 3, 4, 5, 6]"
      ]
     },
     "execution_count": 71,
     "metadata": {},
     "output_type": "execute_result"
    }
   ],
   "source": [
    "list1"
   ]
  },
  {
   "cell_type": "code",
   "execution_count": 77,
   "id": "a7a2b925",
   "metadata": {},
   "outputs": [],
   "source": [
    "import random "
   ]
  },
  {
   "cell_type": "code",
   "execution_count": 78,
   "id": "7e1801a9",
   "metadata": {},
   "outputs": [
    {
     "ename": "AttributeError",
     "evalue": "module 'random' has no attribute 'list1'",
     "output_type": "error",
     "traceback": [
      "\u001b[0;31m---------------------------------------------------------------------------\u001b[0m",
      "\u001b[0;31mAttributeError\u001b[0m                            Traceback (most recent call last)",
      "Cell \u001b[0;32mIn[78], line 1\u001b[0m\n\u001b[0;32m----> 1\u001b[0m \u001b[43mrandom\u001b[49m\u001b[38;5;241;43m.\u001b[39;49m\u001b[43mlist1\u001b[49m\n",
      "\u001b[0;31mAttributeError\u001b[0m: module 'random' has no attribute 'list1'"
     ]
    }
   ],
   "source": [
    "random.list1"
   ]
  },
  {
   "cell_type": "code",
   "execution_count": 81,
   "id": "5895c0f9",
   "metadata": {},
   "outputs": [
    {
     "data": {
      "text/plain": [
       "26"
      ]
     },
     "execution_count": 81,
     "metadata": {},
     "output_type": "execute_result"
    }
   ],
   "source": [
    "random.randint(0,100)"
   ]
  },
  {
   "cell_type": "code",
   "execution_count": 86,
   "id": "746b40ed",
   "metadata": {},
   "outputs": [
    {
     "data": {
      "text/plain": [
       "73"
      ]
     },
     "execution_count": 86,
     "metadata": {},
     "output_type": "execute_result"
    }
   ],
   "source": [
    "random.seed(10)\n",
    "random.randint(0,100)"
   ]
  },
  {
   "cell_type": "code",
   "execution_count": 87,
   "id": "e48c51fe",
   "metadata": {},
   "outputs": [
    {
     "data": {
      "text/plain": [
       "4"
      ]
     },
     "execution_count": 87,
     "metadata": {},
     "output_type": "execute_result"
    }
   ],
   "source": [
    "random.randint(0,100)"
   ]
  },
  {
   "cell_type": "code",
   "execution_count": 123,
   "id": "3937dcca",
   "metadata": {},
   "outputs": [
    {
     "name": "stdout",
     "output_type": "stream",
     "text": [
      "7\n",
      "11\n",
      "10\n",
      "46\n",
      "21\n",
      "94\n"
     ]
    }
   ],
   "source": [
    "random.seed(2)\n",
    "print(random.randint(0,100))\n",
    "print(random.randint(0,100))\n",
    "print(random.randint(0,100))\n",
    "print(random.randint(0,100))\n",
    "print(random.randint(0,100))\n",
    "print(random.randint(0,100))"
   ]
  },
  {
   "cell_type": "code",
   "execution_count": 120,
   "id": "065935b3",
   "metadata": {},
   "outputs": [
    {
     "data": {
      "text/plain": [
       "1"
      ]
     },
     "execution_count": 120,
     "metadata": {},
     "output_type": "execute_result"
    }
   ],
   "source": [
    "random.choice(list1)"
   ]
  },
  {
   "cell_type": "code",
   "execution_count": 109,
   "id": "60ff4e6d",
   "metadata": {},
   "outputs": [
    {
     "data": {
      "text/plain": [
       "[3, 0, 2, 6, 4, 5, 1]"
      ]
     },
     "execution_count": 109,
     "metadata": {},
     "output_type": "execute_result"
    }
   ],
   "source": [
    "list1"
   ]
  },
  {
   "cell_type": "code",
   "execution_count": 113,
   "id": "fe91ad21",
   "metadata": {},
   "outputs": [
    {
     "data": {
      "text/plain": [
       "[6, 4, 6, 0, 1, 1, 5, 4, 2, 0]"
      ]
     },
     "execution_count": 113,
     "metadata": {},
     "output_type": "execute_result"
    }
   ],
   "source": [
    "random.choices(population=list1,k=10) #NUmbers are repeated"
   ]
  },
  {
   "cell_type": "code",
   "execution_count": 115,
   "id": "6c522026",
   "metadata": {},
   "outputs": [
    {
     "data": {
      "text/plain": [
       "[2, 3, 5, 4, 0]"
      ]
     },
     "execution_count": 115,
     "metadata": {},
     "output_type": "execute_result"
    }
   ],
   "source": [
    "random.sample(population=list1,k=5)   # number are not repeated"
   ]
  },
  {
   "cell_type": "code",
   "execution_count": 116,
   "id": "745719e2",
   "metadata": {},
   "outputs": [
    {
     "data": {
      "text/plain": [
       "5.107803105164942"
      ]
     },
     "execution_count": 116,
     "metadata": {},
     "output_type": "execute_result"
    }
   ],
   "source": [
    "random.uniform(a=5,b=6)"
   ]
  },
  {
   "cell_type": "code",
   "execution_count": 124,
   "id": "05fca2fb",
   "metadata": {},
   "outputs": [],
   "source": [
    "# Python debugger"
   ]
  },
  {
   "cell_type": "code",
   "execution_count": 125,
   "id": "05d38fde",
   "metadata": {},
   "outputs": [],
   "source": [
    "x = {1,2,3,4}"
   ]
  },
  {
   "cell_type": "code",
   "execution_count": 131,
   "id": "5932dcbe",
   "metadata": {},
   "outputs": [],
   "source": [
    "x = [1,2,3,4]\n",
    "y = 2\n",
    "z = 3"
   ]
  },
  {
   "cell_type": "code",
   "execution_count": 134,
   "id": "7eac1d67",
   "metadata": {},
   "outputs": [],
   "source": [
    "import pdb "
   ]
  },
  {
   "cell_type": "code",
   "execution_count": 135,
   "id": "78f8fb64",
   "metadata": {},
   "outputs": [
    {
     "name": "stdout",
     "output_type": "stream",
     "text": [
      "--Return--\n",
      "None\n",
      "> \u001b[0;32m/var/folders/8l/dn_n421d2vxgyb1xm1q5wv8c0000gn/T/ipykernel_44519/1832713109.py\u001b[0m(2)\u001b[0;36m<module>\u001b[0;34m()\u001b[0m\n",
      "\u001b[0;32m      1 \u001b[0;31m\u001b[0mresult\u001b[0m \u001b[0;34m=\u001b[0m \u001b[0my\u001b[0m \u001b[0;34m+\u001b[0m \u001b[0mz\u001b[0m\u001b[0;34m\u001b[0m\u001b[0;34m\u001b[0m\u001b[0m\n",
      "\u001b[0m\u001b[0;32m----> 2 \u001b[0;31m\u001b[0mpdb\u001b[0m\u001b[0;34m.\u001b[0m\u001b[0mset_trace\u001b[0m\u001b[0;34m(\u001b[0m\u001b[0;34m)\u001b[0m\u001b[0;34m\u001b[0m\u001b[0;34m\u001b[0m\u001b[0m\n",
      "\u001b[0m\u001b[0;32m      3 \u001b[0;31m\u001b[0mresult2\u001b[0m \u001b[0;34m=\u001b[0m \u001b[0mx\u001b[0m \u001b[0;34m+\u001b[0m \u001b[0my\u001b[0m\u001b[0;34m\u001b[0m\u001b[0;34m\u001b[0m\u001b[0m\n",
      "\u001b[0m\n",
      "ipdb> x\n",
      "[1, 2, 3, 4]\n",
      "ipdb> result\n",
      "5\n",
      "ipdb> y\n",
      "2\n",
      "ipdb> x\n",
      "[1, 2, 3, 4]\n",
      "ipdb> z\n",
      "3\n",
      "ipdb> q\n"
     ]
    }
   ],
   "source": [
    "\n",
    "result = y + z \n",
    "pdb.set_trace()\n",
    "result2 = x + y\n"
   ]
  },
  {
   "cell_type": "code",
   "execution_count": 137,
   "id": "1128cb04",
   "metadata": {},
   "outputs": [],
   "source": [
    "# Regular Experssions "
   ]
  },
  {
   "cell_type": "code",
   "execution_count": 142,
   "id": "1e52a76e",
   "metadata": {},
   "outputs": [
    {
     "data": {
      "text/plain": [
       "True"
      ]
     },
     "execution_count": 142,
     "metadata": {},
     "output_type": "execute_result"
    }
   ],
   "source": [
    "straing = 'dog'\n",
    "'dog' in straing"
   ]
  },
  {
   "cell_type": "code",
   "execution_count": 140,
   "id": "cfc8ad9e",
   "metadata": {},
   "outputs": [
    {
     "data": {
      "text/plain": [
       "True"
      ]
     },
     "execution_count": 140,
     "metadata": {},
     "output_type": "execute_result"
    }
   ],
   "source": [
    "2 in list1"
   ]
  },
  {
   "cell_type": "code",
   "execution_count": 143,
   "id": "b1774099",
   "metadata": {},
   "outputs": [],
   "source": [
    "test = \"this agent phone number is 705-500-6545\""
   ]
  },
  {
   "cell_type": "code",
   "execution_count": 145,
   "id": "a11ec7f5",
   "metadata": {},
   "outputs": [
    {
     "data": {
      "text/plain": [
       "True"
      ]
     },
     "execution_count": 145,
     "metadata": {},
     "output_type": "execute_result"
    }
   ],
   "source": [
    "'500' in test"
   ]
  },
  {
   "cell_type": "code",
   "execution_count": 146,
   "id": "31f50ba5",
   "metadata": {},
   "outputs": [],
   "source": [
    "import re "
   ]
  },
  {
   "cell_type": "code",
   "execution_count": 153,
   "id": "309d63ad",
   "metadata": {},
   "outputs": [],
   "source": [
    "pattern = 'phone'"
   ]
  },
  {
   "cell_type": "code",
   "execution_count": 154,
   "id": "7f5121e6",
   "metadata": {},
   "outputs": [
    {
     "data": {
      "text/plain": [
       "<re.Match object; span=(11, 16), match='phone'>"
      ]
     },
     "execution_count": 154,
     "metadata": {},
     "output_type": "execute_result"
    }
   ],
   "source": [
    "re.search(pattern,test) "
   ]
  },
  {
   "cell_type": "code",
   "execution_count": 155,
   "id": "d32838ee",
   "metadata": {},
   "outputs": [],
   "source": [
    "re.search('cell',test)"
   ]
  },
  {
   "cell_type": "code",
   "execution_count": 157,
   "id": "eef14063",
   "metadata": {},
   "outputs": [],
   "source": [
    "match = re.search('500',test)       #search only reports first pattern "
   ]
  },
  {
   "cell_type": "code",
   "execution_count": 158,
   "id": "56c97719",
   "metadata": {},
   "outputs": [
    {
     "data": {
      "text/plain": [
       "<re.Match object; span=(31, 34), match='500'>"
      ]
     },
     "execution_count": 158,
     "metadata": {},
     "output_type": "execute_result"
    }
   ],
   "source": [
    "match"
   ]
  },
  {
   "cell_type": "code",
   "execution_count": 159,
   "id": "aab8b761",
   "metadata": {},
   "outputs": [
    {
     "data": {
      "text/plain": [
       "(31, 34)"
      ]
     },
     "execution_count": 159,
     "metadata": {},
     "output_type": "execute_result"
    }
   ],
   "source": [
    "match.span()"
   ]
  },
  {
   "cell_type": "code",
   "execution_count": 160,
   "id": "595c1e14",
   "metadata": {},
   "outputs": [
    {
     "data": {
      "text/plain": [
       "31"
      ]
     },
     "execution_count": 160,
     "metadata": {},
     "output_type": "execute_result"
    }
   ],
   "source": [
    "match.start()"
   ]
  },
  {
   "cell_type": "code",
   "execution_count": 161,
   "id": "08a767cc",
   "metadata": {},
   "outputs": [
    {
     "data": {
      "text/plain": [
       "34"
      ]
     },
     "execution_count": 161,
     "metadata": {},
     "output_type": "execute_result"
    }
   ],
   "source": [
    "match.end()"
   ]
  },
  {
   "cell_type": "code",
   "execution_count": 163,
   "id": "059d9ede",
   "metadata": {},
   "outputs": [],
   "source": [
    "test1 = \"this agent phone phone number number is 705-500-6545\""
   ]
  },
  {
   "cell_type": "code",
   "execution_count": 164,
   "id": "e8effe27",
   "metadata": {},
   "outputs": [],
   "source": [
    "match2 = re.findall('phone',test1)"
   ]
  },
  {
   "cell_type": "code",
   "execution_count": 165,
   "id": "2c66f488",
   "metadata": {},
   "outputs": [
    {
     "data": {
      "text/plain": [
       "['phone', 'phone']"
      ]
     },
     "execution_count": 165,
     "metadata": {},
     "output_type": "execute_result"
    }
   ],
   "source": [
    "match2"
   ]
  },
  {
   "cell_type": "code",
   "execution_count": 166,
   "id": "9793acb6",
   "metadata": {},
   "outputs": [
    {
     "data": {
      "text/plain": [
       "2"
      ]
     },
     "execution_count": 166,
     "metadata": {},
     "output_type": "execute_result"
    }
   ],
   "source": [
    "len(match2)"
   ]
  },
  {
   "cell_type": "code",
   "execution_count": 174,
   "id": "0b8029ea",
   "metadata": {},
   "outputs": [
    {
     "name": "stdout",
     "output_type": "stream",
     "text": [
      "(11, 16)\n",
      "(17, 22)\n"
     ]
    }
   ],
   "source": [
    "for match in re.finditer('phone',test1):\n",
    "    print(match.span())"
   ]
  },
  {
   "cell_type": "code",
   "execution_count": 177,
   "id": "3ade07d5",
   "metadata": {},
   "outputs": [
    {
     "name": "stdout",
     "output_type": "stream",
     "text": [
      "phone\n",
      "phone\n"
     ]
    }
   ],
   "source": [
    "for match in re.finditer('phone',test1):\n",
    "    print(match.group())"
   ]
  },
  {
   "cell_type": "code",
   "execution_count": 184,
   "id": "1a8b42e8",
   "metadata": {},
   "outputs": [],
   "source": [
    "test = \"my phone number is 735-500-6545\""
   ]
  },
  {
   "cell_type": "code",
   "execution_count": 185,
   "id": "8450bd07",
   "metadata": {},
   "outputs": [],
   "source": [
    "phone = re.search(r'\\d\\d\\d-\\d\\d\\d-\\d\\d\\d\\d',test)"
   ]
  },
  {
   "cell_type": "code",
   "execution_count": 391,
   "id": "49d6a0a9",
   "metadata": {},
   "outputs": [
    {
     "data": {
      "text/plain": [
       "'735-500-6545'"
      ]
     },
     "execution_count": 391,
     "metadata": {},
     "output_type": "execute_result"
    }
   ],
   "source": [
    "phone.group()"
   ]
  },
  {
   "cell_type": "code",
   "execution_count": 187,
   "id": "a10853f4",
   "metadata": {},
   "outputs": [
    {
     "data": {
      "text/plain": [
       "'735-500-6545'"
      ]
     },
     "execution_count": 187,
     "metadata": {},
     "output_type": "execute_result"
    }
   ],
   "source": [
    "phone.group()"
   ]
  },
  {
   "cell_type": "code",
   "execution_count": 188,
   "id": "91525f86",
   "metadata": {},
   "outputs": [
    {
     "data": {
      "text/plain": [
       "(19, 31)"
      ]
     },
     "execution_count": 188,
     "metadata": {},
     "output_type": "execute_result"
    }
   ],
   "source": [
    "phone.span()"
   ]
  },
  {
   "cell_type": "code",
   "execution_count": 189,
   "id": "cb5e10f2",
   "metadata": {},
   "outputs": [],
   "source": [
    "phone = re.search(r'\\d{3}-\\d{3}-\\d{4}',test)"
   ]
  },
  {
   "cell_type": "code",
   "execution_count": 190,
   "id": "f137570b",
   "metadata": {},
   "outputs": [
    {
     "data": {
      "text/plain": [
       "<re.Match object; span=(19, 31), match='735-500-6545'>"
      ]
     },
     "execution_count": 190,
     "metadata": {},
     "output_type": "execute_result"
    }
   ],
   "source": [
    "phone"
   ]
  },
  {
   "cell_type": "code",
   "execution_count": 191,
   "id": "2cdb73d9",
   "metadata": {},
   "outputs": [
    {
     "data": {
      "text/plain": [
       "'735-500-6545'"
      ]
     },
     "execution_count": 191,
     "metadata": {},
     "output_type": "execute_result"
    }
   ],
   "source": [
    "phone.group()"
   ]
  },
  {
   "cell_type": "code",
   "execution_count": 196,
   "id": "8082b3c3",
   "metadata": {},
   "outputs": [],
   "source": [
    "phone_pattern = re.compile(r'(\\d{3})-(\\d{3})-(\\d{4})')"
   ]
  },
  {
   "cell_type": "code",
   "execution_count": 197,
   "id": "86c82e09",
   "metadata": {},
   "outputs": [],
   "source": [
    "results = re.search(phone_pattern,test)"
   ]
  },
  {
   "cell_type": "code",
   "execution_count": 199,
   "id": "5f2e57d8",
   "metadata": {},
   "outputs": [
    {
     "data": {
      "text/plain": [
       "'735-500-6545'"
      ]
     },
     "execution_count": 199,
     "metadata": {},
     "output_type": "execute_result"
    }
   ],
   "source": [
    "results.group()"
   ]
  },
  {
   "cell_type": "code",
   "execution_count": 200,
   "id": "d555876d",
   "metadata": {},
   "outputs": [
    {
     "data": {
      "text/plain": [
       "'735'"
      ]
     },
     "execution_count": 200,
     "metadata": {},
     "output_type": "execute_result"
    }
   ],
   "source": [
    "results.group(1)"
   ]
  },
  {
   "cell_type": "code",
   "execution_count": 201,
   "id": "c9baa6b7",
   "metadata": {},
   "outputs": [
    {
     "data": {
      "text/plain": [
       "'500'"
      ]
     },
     "execution_count": 201,
     "metadata": {},
     "output_type": "execute_result"
    }
   ],
   "source": [
    "results.group(2)"
   ]
  },
  {
   "cell_type": "code",
   "execution_count": 202,
   "id": "5258bab0",
   "metadata": {},
   "outputs": [
    {
     "data": {
      "text/plain": [
       "'6545'"
      ]
     },
     "execution_count": 202,
     "metadata": {},
     "output_type": "execute_result"
    }
   ],
   "source": [
    "results.group(3)"
   ]
  },
  {
   "cell_type": "code",
   "execution_count": 205,
   "id": "25f17c66",
   "metadata": {},
   "outputs": [
    {
     "data": {
      "text/plain": [
       "<re.Match object; span=(4, 7), match='cat'>"
      ]
     },
     "execution_count": 205,
     "metadata": {},
     "output_type": "execute_result"
    }
   ],
   "source": [
    "re.search(r'cat|dog','The cat dog is here') "
   ]
  },
  {
   "cell_type": "code",
   "execution_count": 247,
   "id": "3abd8b75",
   "metadata": {},
   "outputs": [],
   "source": [
    "read = re.findall(r'.at|.og','The cat hat sat dog is here') "
   ]
  },
  {
   "cell_type": "code",
   "execution_count": 219,
   "id": "4628860e",
   "metadata": {},
   "outputs": [
    {
     "data": {
      "text/plain": [
       "['1']"
      ]
     },
     "execution_count": 219,
     "metadata": {},
     "output_type": "execute_result"
    }
   ],
   "source": [
    "re.findall(r'^\\d','1 is a digit')"
   ]
  },
  {
   "cell_type": "code",
   "execution_count": 220,
   "id": "dfa588bd",
   "metadata": {},
   "outputs": [
    {
     "data": {
      "text/plain": [
       "['digit']"
      ]
     },
     "execution_count": 220,
     "metadata": {},
     "output_type": "execute_result"
    }
   ],
   "source": [
    "re.findall(r'digit$','1 is a digit')"
   ]
  },
  {
   "cell_type": "code",
   "execution_count": 249,
   "id": "48f0a7d4",
   "metadata": {},
   "outputs": [
    {
     "data": {
      "text/plain": [
       "['cat', 'hat', 'sat', 'dog']"
      ]
     },
     "execution_count": 249,
     "metadata": {},
     "output_type": "execute_result"
    }
   ],
   "source": [
    "read"
   ]
  },
  {
   "cell_type": "code",
   "execution_count": null,
   "id": "f351da1b",
   "metadata": {},
   "outputs": [],
   "source": []
  },
  {
   "cell_type": "code",
   "execution_count": null,
   "id": "adb53204",
   "metadata": {},
   "outputs": [],
   "source": []
  },
  {
   "cell_type": "code",
   "execution_count": null,
   "id": "819c3180",
   "metadata": {},
   "outputs": [],
   "source": []
  },
  {
   "cell_type": "code",
   "execution_count": null,
   "id": "105d9791",
   "metadata": {},
   "outputs": [],
   "source": []
  },
  {
   "cell_type": "code",
   "execution_count": null,
   "id": "52347e53",
   "metadata": {},
   "outputs": [],
   "source": []
  },
  {
   "cell_type": "code",
   "execution_count": 225,
   "id": "725f1fe0",
   "metadata": {},
   "outputs": [],
   "source": [
    "pharse = 'there are 3 numbers 34 inside 5 this sentance'"
   ]
  },
  {
   "cell_type": "code",
   "execution_count": 230,
   "id": "a8b5f05d",
   "metadata": {},
   "outputs": [],
   "source": [
    "pattern = r'[^\\d]+'"
   ]
  },
  {
   "cell_type": "code",
   "execution_count": 231,
   "id": "ce3755ad",
   "metadata": {},
   "outputs": [
    {
     "data": {
      "text/plain": [
       "['there are ', ' numbers ', ' inside ', ' this sentance']"
      ]
     },
     "execution_count": 231,
     "metadata": {},
     "output_type": "execute_result"
    }
   ],
   "source": [
    "re.findall(pattern,pharse)"
   ]
  },
  {
   "cell_type": "code",
   "execution_count": 232,
   "id": "d1df24cc",
   "metadata": {},
   "outputs": [],
   "source": [
    "test_phrase = r'This is straing! to remove the punctuation@'"
   ]
  },
  {
   "cell_type": "code",
   "execution_count": 235,
   "id": "0e091868",
   "metadata": {},
   "outputs": [],
   "source": [
    "clean = re.findall(r'[^!.?@]+',test_phrase)"
   ]
  },
  {
   "cell_type": "code",
   "execution_count": 236,
   "id": "d77d1ede",
   "metadata": {},
   "outputs": [
    {
     "data": {
      "text/plain": [
       "'This is straing to remove the punctuation'"
      ]
     },
     "execution_count": 236,
     "metadata": {},
     "output_type": "execute_result"
    }
   ],
   "source": [
    "''.join(clean)"
   ]
  },
  {
   "cell_type": "code",
   "execution_count": 237,
   "id": "45e06707",
   "metadata": {},
   "outputs": [],
   "source": [
    "text = \"only find the hypen-words in the sentance. But group them\""
   ]
  },
  {
   "cell_type": "code",
   "execution_count": 242,
   "id": "3d3eb8c4",
   "metadata": {},
   "outputs": [
    {
     "data": {
      "text/plain": [
       "['hypen-words']"
      ]
     },
     "execution_count": 242,
     "metadata": {},
     "output_type": "execute_result"
    }
   ],
   "source": [
    "re.findall(r'[\\w]+-[\\w]+',text)"
   ]
  },
  {
   "cell_type": "code",
   "execution_count": 243,
   "id": "ee345255",
   "metadata": {},
   "outputs": [],
   "source": [
    "test = \"Hello, catfish\"\n",
    "testtwo = \"HY catdog\"\n",
    "testthree = \"hello catnap\""
   ]
  },
  {
   "cell_type": "code",
   "execution_count": 245,
   "id": "a57c4a57",
   "metadata": {},
   "outputs": [],
   "source": [
    "catty = re.search(r'cat(fish|nap|dog)',test)"
   ]
  },
  {
   "cell_type": "code",
   "execution_count": 246,
   "id": "2d94ffdd",
   "metadata": {},
   "outputs": [
    {
     "data": {
      "text/plain": [
       "(7, 14)"
      ]
     },
     "execution_count": 246,
     "metadata": {},
     "output_type": "execute_result"
    }
   ],
   "source": [
    "catty.span()"
   ]
  },
  {
   "cell_type": "raw",
   "id": "7c53f3c2",
   "metadata": {},
   "source": [
    "#Timmimg code in python"
   ]
  },
  {
   "cell_type": "code",
   "execution_count": 253,
   "id": "61aa27f6",
   "metadata": {},
   "outputs": [],
   "source": [
    "def func_one(n):\n",
    "    return[str(num) for num in range(n)]"
   ]
  },
  {
   "cell_type": "code",
   "execution_count": 254,
   "id": "9b1a3e61",
   "metadata": {},
   "outputs": [
    {
     "data": {
      "text/plain": [
       "['0', '1', '2', '3', '4', '5', '6', '7', '8', '9']"
      ]
     },
     "execution_count": 254,
     "metadata": {},
     "output_type": "execute_result"
    }
   ],
   "source": [
    "func_one(10)"
   ]
  },
  {
   "cell_type": "code",
   "execution_count": 255,
   "id": "fafb75be",
   "metadata": {},
   "outputs": [],
   "source": [
    "def func_two(n):\n",
    "    return list(map(str,range(n)))"
   ]
  },
  {
   "cell_type": "code",
   "execution_count": 256,
   "id": "668b485a",
   "metadata": {},
   "outputs": [
    {
     "data": {
      "text/plain": [
       "['0', '1', '2', '3', '4', '5', '6', '7', '8', '9']"
      ]
     },
     "execution_count": 256,
     "metadata": {},
     "output_type": "execute_result"
    }
   ],
   "source": [
    "func_two(10)"
   ]
  },
  {
   "cell_type": "code",
   "execution_count": 257,
   "id": "28572934",
   "metadata": {},
   "outputs": [],
   "source": [
    "import time"
   ]
  },
  {
   "cell_type": "code",
   "execution_count": 263,
   "id": "476f748d",
   "metadata": {},
   "outputs": [
    {
     "name": "stdout",
     "output_type": "stream",
     "text": [
      "0.002245187759399414\n"
     ]
    }
   ],
   "source": [
    "#CURRENT time \n",
    "start_time = time.time()\n",
    "# RUn CODE \n",
    "result= func_one(10000)\n",
    "#start.time = time.time()\n",
    "end_time = time.time()\n",
    "#ELAPSED TIME \n",
    "elapsed_time = end_time - start_time\n",
    "\n",
    "print(elapsed_time)"
   ]
  },
  {
   "cell_type": "code",
   "execution_count": 262,
   "id": "e209496d",
   "metadata": {},
   "outputs": [
    {
     "name": "stdout",
     "output_type": "stream",
     "text": [
      "0.001834869384765625\n"
     ]
    }
   ],
   "source": [
    "#CURRENT time \n",
    "start_time = time.time()\n",
    "# RUn CODE \n",
    "result= func_two(10000)\n",
    "#start.time = time.time()\n",
    "end_time = time.time()\n",
    "#ELAPSED TIME \n",
    "elapsed_time = end_time - start_time\n",
    "\n",
    "print(elapsed_time)"
   ]
  },
  {
   "cell_type": "code",
   "execution_count": 264,
   "id": "8072e5a9",
   "metadata": {},
   "outputs": [],
   "source": [
    "import timeit"
   ]
  },
  {
   "cell_type": "code",
   "execution_count": 270,
   "id": "bc50b8ab",
   "metadata": {},
   "outputs": [],
   "source": [
    "stmt = '''\n",
    "func_one(100)\n",
    "'''"
   ]
  },
  {
   "cell_type": "code",
   "execution_count": 271,
   "id": "120af309",
   "metadata": {},
   "outputs": [],
   "source": [
    "setup = '''\n",
    "def func_one(n):\n",
    "    return[str(num) for num in range(n)]\n",
    "'''"
   ]
  },
  {
   "cell_type": "code",
   "execution_count": 272,
   "id": "be454796",
   "metadata": {},
   "outputs": [
    {
     "data": {
      "text/plain": [
       "1.5381431769928895"
      ]
     },
     "execution_count": 272,
     "metadata": {},
     "output_type": "execute_result"
    }
   ],
   "source": [
    "timeit.timeit(stmt,setup,number=100000)"
   ]
  },
  {
   "cell_type": "code",
   "execution_count": 277,
   "id": "827198b1",
   "metadata": {},
   "outputs": [],
   "source": [
    "stmt2 = '''\n",
    "func_two(100)\n",
    "'''"
   ]
  },
  {
   "cell_type": "code",
   "execution_count": 278,
   "id": "79942b20",
   "metadata": {},
   "outputs": [],
   "source": [
    "setup2 = '''\n",
    "def func_two(n):\n",
    "    return list(map(str,range(n)))\n",
    "'''"
   ]
  },
  {
   "cell_type": "code",
   "execution_count": 279,
   "id": "ab408072",
   "metadata": {},
   "outputs": [
    {
     "data": {
      "text/plain": [
       "1.4296253270003945"
      ]
     },
     "execution_count": 279,
     "metadata": {},
     "output_type": "execute_result"
    }
   ],
   "source": [
    "timeit.timeit(stmt2,setup2,number=100000)"
   ]
  },
  {
   "cell_type": "code",
   "execution_count": 281,
   "id": "ce013309",
   "metadata": {},
   "outputs": [
    {
     "name": "stdout",
     "output_type": "stream",
     "text": [
      "16.3 µs ± 1.52 µs per loop (mean ± std. dev. of 7 runs, 100,000 loops each)\n"
     ]
    }
   ],
   "source": [
    "%%timeit\n",
    "func_one(100)"
   ]
  },
  {
   "cell_type": "code",
   "execution_count": 282,
   "id": "92b61899",
   "metadata": {},
   "outputs": [
    {
     "name": "stdout",
     "output_type": "stream",
     "text": [
      "12.5 µs ± 279 ns per loop (mean ± std. dev. of 7 runs, 100,000 loops each)\n"
     ]
    }
   ],
   "source": [
    "%%timeit\n",
    "func_two(100)"
   ]
  },
  {
   "cell_type": "code",
   "execution_count": 284,
   "id": "d5e02ba3",
   "metadata": {},
   "outputs": [],
   "source": [
    "f = open('fileone.txt','w+')\n",
    "f.write('ONE FILE')\n",
    "f.close()"
   ]
  },
  {
   "cell_type": "code",
   "execution_count": 285,
   "id": "69f880f0",
   "metadata": {},
   "outputs": [],
   "source": [
    "f = open('filetwo.txt','w+')\n",
    "f.write('TWO FILE')\n",
    "f.close()"
   ]
  },
  {
   "cell_type": "code",
   "execution_count": 286,
   "id": "f631566b",
   "metadata": {},
   "outputs": [],
   "source": [
    "f = open('filethree.txt','w+')\n",
    "f.write('THREE FILE')\n",
    "f.close()"
   ]
  },
  {
   "cell_type": "code",
   "execution_count": 287,
   "id": "c2ca0fc2",
   "metadata": {},
   "outputs": [],
   "source": [
    "import zipfile"
   ]
  },
  {
   "cell_type": "code",
   "execution_count": 288,
   "id": "5d354a6a",
   "metadata": {},
   "outputs": [],
   "source": [
    "com_file = zipfile.ZipFile('comp_file.zip','w')"
   ]
  },
  {
   "cell_type": "code",
   "execution_count": 290,
   "id": "3ea8dbb3",
   "metadata": {},
   "outputs": [],
   "source": [
    "com_file.write('fileone.txt',compress_type=zipfile.ZIP_DEFLATED)"
   ]
  },
  {
   "cell_type": "code",
   "execution_count": 291,
   "id": "64e529e8",
   "metadata": {},
   "outputs": [],
   "source": [
    "com_file.write('filetwo.txt',compress_type=zipfile.ZIP_DEFLATED)"
   ]
  },
  {
   "cell_type": "code",
   "execution_count": 292,
   "id": "70532551",
   "metadata": {},
   "outputs": [],
   "source": [
    "com_file.write('filethree.txt',compress_type=zipfile.ZIP_DEFLATED)"
   ]
  },
  {
   "cell_type": "code",
   "execution_count": 293,
   "id": "45354241",
   "metadata": {},
   "outputs": [],
   "source": [
    "com_file.close()"
   ]
  },
  {
   "cell_type": "code",
   "execution_count": 295,
   "id": "9c29b48d",
   "metadata": {},
   "outputs": [],
   "source": [
    "zip_obj = zipfile.ZipFile('comp_file.zip','r')"
   ]
  },
  {
   "cell_type": "code",
   "execution_count": 296,
   "id": "eb9e5b57",
   "metadata": {},
   "outputs": [],
   "source": [
    "zip_obj.extractall('extracted_content')"
   ]
  },
  {
   "cell_type": "code",
   "execution_count": 297,
   "id": "39a7e305",
   "metadata": {},
   "outputs": [
    {
     "data": {
      "text/plain": [
       "'/Users/adityapidikiti/Python Notebook/Advanced Python Modules'"
      ]
     },
     "execution_count": 297,
     "metadata": {},
     "output_type": "execute_result"
    }
   ],
   "source": [
    "pwd"
   ]
  },
  {
   "cell_type": "code",
   "execution_count": 298,
   "id": "40624bf7",
   "metadata": {},
   "outputs": [],
   "source": [
    "dir_to_zip = '/Users/adityapidikiti/Python Notebook/Advanced Python Modules/extracted_content'"
   ]
  },
  {
   "cell_type": "code",
   "execution_count": 299,
   "id": "fbfc1bf5",
   "metadata": {},
   "outputs": [],
   "source": [
    "output_filename = 'example'"
   ]
  },
  {
   "cell_type": "code",
   "execution_count": 300,
   "id": "3cb35ada",
   "metadata": {},
   "outputs": [
    {
     "data": {
      "text/plain": [
       "'/Users/adityapidikiti/Python Notebook/Advanced Python Modules/example.zip'"
      ]
     },
     "execution_count": 300,
     "metadata": {},
     "output_type": "execute_result"
    }
   ],
   "source": [
    "shutil.make_archive(output_filename,'zip',dir_to_zip)"
   ]
  },
  {
   "cell_type": "code",
   "execution_count": 301,
   "id": "5a208bad",
   "metadata": {},
   "outputs": [],
   "source": [
    "shutil.unpack_archive('example.zip','final_unzip','zip')"
   ]
  },
  {
   "cell_type": "code",
   "execution_count": 302,
   "id": "57f763b3",
   "metadata": {},
   "outputs": [
    {
     "data": {
      "text/plain": [
       "'/Users/adityapidikiti/Python Notebook/Advanced Python Modules'"
      ]
     },
     "execution_count": 302,
     "metadata": {},
     "output_type": "execute_result"
    }
   ],
   "source": [
    "pwd"
   ]
  },
  {
   "cell_type": "code",
   "execution_count": 305,
   "id": "4f16bd31",
   "metadata": {},
   "outputs": [
    {
     "data": {
      "text/plain": [
       "'/Users/adityapidikiti/Python Notebook/Advanced Python Modules/unzip_me_for_instructions.zip'"
      ]
     },
     "execution_count": 305,
     "metadata": {},
     "output_type": "execute_result"
    }
   ],
   "source": [
    "shutil.move('/Users/adityapidikiti/Downloads/unzip_me_for_instructions.zip','/Users/adityapidikiti/Python Notebook/Advanced Python Modules/')"
   ]
  },
  {
   "cell_type": "code",
   "execution_count": 306,
   "id": "1706f375",
   "metadata": {},
   "outputs": [],
   "source": [
    "shutil.unpack_archive('unzip_me_for_instructions.zip','extracted_content','zip')"
   ]
  },
  {
   "cell_type": "code",
   "execution_count": 308,
   "id": "394dd6b2",
   "metadata": {},
   "outputs": [
    {
     "name": "stdout",
     "output_type": "stream",
     "text": [
      "Good work on unzipping the file!\n",
      "You should now see 5 folders, each with a lot of random .txt files.\n",
      "Within one of these text files is a telephone number formated ###-###-#### \n",
      "Use the Python os module and regular expressions to iterate through each file, open it, and search for a telephone number.\n",
      "Good luck!\n"
     ]
    }
   ],
   "source": [
    "f = open('/Users/adityapidikiti/Python Notebook/Advanced Python Modules/extracted_content/extracted_content/instructions.txt','r+')\n",
    "print(f.read())"
   ]
  },
  {
   "cell_type": "code",
   "execution_count": 309,
   "id": "ef4f4ba0",
   "metadata": {},
   "outputs": [
    {
     "ename": "NameError",
     "evalue": "name 'os' is not defined",
     "output_type": "error",
     "traceback": [
      "\u001b[0;31m---------------------------------------------------------------------------\u001b[0m",
      "\u001b[0;31mNameError\u001b[0m                                 Traceback (most recent call last)",
      "Cell \u001b[0;32mIn[309], line 1\u001b[0m\n\u001b[0;32m----> 1\u001b[0m \u001b[43mos\u001b[49m\u001b[38;5;241m.\u001b[39mlistdir()\n",
      "\u001b[0;31mNameError\u001b[0m: name 'os' is not defined"
     ]
    }
   ],
   "source": [
    "os.listdir()"
   ]
  },
  {
   "cell_type": "code",
   "execution_count": 310,
   "id": "1eb70f26",
   "metadata": {},
   "outputs": [],
   "source": [
    "import os"
   ]
  },
  {
   "cell_type": "code",
   "execution_count": 312,
   "id": "262fcaad",
   "metadata": {},
   "outputs": [
    {
     "data": {
      "text/plain": [
       "['Instructions.txt', 'Three', 'One', 'Two', 'Five', 'Four']"
      ]
     },
     "execution_count": 312,
     "metadata": {},
     "output_type": "execute_result"
    }
   ],
   "source": [
    "os.listdir('/Users/adityapidikiti/Python Notebook/Advanced Python Modules/extracted_content/extracted_content/')"
   ]
  },
  {
   "cell_type": "code",
   "execution_count": 411,
   "id": "fbe0aedb",
   "metadata": {},
   "outputs": [
    {
     "name": "stdout",
     "output_type": "stream",
     "text": [
      "719-266-2837\n"
     ]
    }
   ],
   "source": [
    "for folder,sub_folders,files in os.walk('/Users/adityapidikiti/Python Notebook/Advanced Python Modules/extracted_content/'):\n",
    "    for file in files:\n",
    "        file_path = folder+ '/'+ file\n",
    "        f= open( file_path,'r+')\n",
    "        content = f.read()\n",
    "        pattern = r'\\d\\d\\d-\\d\\d\\d-\\d\\d\\d\\d'\n",
    "        result = re.search(pattern,content)\n",
    "        if result != None:\n",
    "            print(result.group())"
   ]
  },
  {
   "cell_type": "code",
   "execution_count": 400,
   "id": "9c8fcf2e",
   "metadata": {},
   "outputs": [
    {
     "name": "stdout",
     "output_type": "stream",
     "text": [
      "719-266-2837\n"
     ]
    }
   ],
   "source": [
    "for r in results:\n",
    "    if r != None:\n",
    "        print(r.group())"
   ]
  },
  {
   "cell_type": "code",
   "execution_count": 359,
   "id": "7822d314",
   "metadata": {},
   "outputs": [],
   "source": [
    "def search(file,pattern= r'\\d{3}-\\d{3}-\\d{4}'):\n",
    "    f = open(file,'r')\n",
    "    text = f.read()\n",
    "    \n",
    "    if re.search(pattern,text):\n",
    "        return re.search(pattern,text)\n",
    "    else:\n",
    "        return ''"
   ]
  },
  {
   "cell_type": "code",
   "execution_count": 360,
   "id": "ca797d6a",
   "metadata": {},
   "outputs": [],
   "source": [
    "resultss = []\n",
    "for folder , sub_folders , files in os.walk(os.getcwd()+\"/extracted_content\"):\n",
    "    \n",
    "    for f in files:\n",
    "        full_path = folder+'/'+f\n",
    "         \n",
    "        resultss.append(search(full_path)) \n"
   ]
  },
  {
   "cell_type": "code",
   "execution_count": 361,
   "id": "5630913a",
   "metadata": {},
   "outputs": [
    {
     "name": "stdout",
     "output_type": "stream",
     "text": [
      "719-266-2837\n"
     ]
    }
   ],
   "source": [
    "for r in resultss:\n",
    "    if r != '':\n",
    "        print(r.group())"
   ]
  },
  {
   "cell_type": "code",
   "execution_count": 362,
   "id": "b42eab74",
   "metadata": {},
   "outputs": [
    {
     "name": "stdout",
     "output_type": "stream",
     "text": [
      "['', '', '', '', '', '', '', '', '', '', '', '', '', '', '', '', '', '', '', '', '', '', '', '', '', '', '', '', '', '', '', '', '', '', '', '', '', '', '', '', '', '', '', '', '', '', '', '', '', '', '', '', '', '', '', '', '', '', '', '', '', '', '', '', '', '', '', '', '', '', '', '', '', '', '', '', '', '', '', '', '', '', '', '', '', '', '', '', '', '', '', '', '', '', '', '', '', '', '', '', '', '', <re.Match object; span=(1062, 1074), match='719-266-2837'>, '', '', '', '', '', '', '', '', '', '', '', '', '', '', '', '', '', '', '', '']\n"
     ]
    }
   ],
   "source": [
    "print(resultss)"
   ]
  },
  {
   "cell_type": "code",
   "execution_count": null,
   "id": "d02d3a7f",
   "metadata": {},
   "outputs": [],
   "source": []
  }
 ],
 "metadata": {
  "kernelspec": {
   "display_name": "Python 3 (ipykernel)",
   "language": "python",
   "name": "python3"
  },
  "language_info": {
   "codemirror_mode": {
    "name": "ipython",
    "version": 3
   },
   "file_extension": ".py",
   "mimetype": "text/x-python",
   "name": "python",
   "nbconvert_exporter": "python",
   "pygments_lexer": "ipython3",
   "version": "3.10.9"
  }
 },
 "nbformat": 4,
 "nbformat_minor": 5
}
