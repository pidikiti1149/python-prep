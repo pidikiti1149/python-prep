{
 "cells": [
  {
   "cell_type": "code",
   "execution_count": 1,
   "id": "ff159138",
   "metadata": {},
   "outputs": [],
   "source": [
    "import random\n",
    "suits = ('Hearts', 'Diamonds', 'Spades', 'Clubs')\n",
    "ranks = ('Two', 'Three', 'Four', 'Five', 'Six', 'Seven', 'Eight', 'Nine', 'Ten', 'Jack', 'Queen', 'King', 'Ace')\n",
    "values = {'Two':2, 'Three':3, 'Four':4, 'Five':5, 'Six':6, 'Seven':7, 'Eight':8, 'Nine':9, 'Ten':10, 'Jack':10,\n",
    "         'Queen':10, 'King':10, 'Ace':11}\n",
    "\n",
    "playing = True"
   ]
  },
  {
   "cell_type": "code",
   "execution_count": 2,
   "id": "7bd26845",
   "metadata": {},
   "outputs": [],
   "source": [
    "class Card: \n",
    "    \n",
    "    def __init__(self,suit,rank):\n",
    "        self.suit = suit \n",
    "        self.rank = rank\n",
    "        self.value = values[rank]\n",
    "    \n",
    "    def __str__(self):\n",
    "        return self.rank +\" of \"+ self.suit"
   ]
  },
  {
   "cell_type": "code",
   "execution_count": 3,
   "id": "11f61e24",
   "metadata": {},
   "outputs": [],
   "source": [
    "new_class = Card('Hearts', 'Two')"
   ]
  },
  {
   "cell_type": "code",
   "execution_count": 4,
   "id": "3eba0d04",
   "metadata": {},
   "outputs": [
    {
     "name": "stdout",
     "output_type": "stream",
     "text": [
      "Two\n"
     ]
    }
   ],
   "source": [
    "print(new_class.rank)"
   ]
  },
  {
   "cell_type": "code",
   "execution_count": 5,
   "id": "934b33cf",
   "metadata": {},
   "outputs": [
    {
     "name": "stdout",
     "output_type": "stream",
     "text": [
      "Two of Hearts\n"
     ]
    }
   ],
   "source": [
    "print(new_class)"
   ]
  },
  {
   "cell_type": "code",
   "execution_count": 6,
   "id": "6585c734",
   "metadata": {},
   "outputs": [],
   "source": [
    "class Deck(): \n",
    "    \n",
    "    def __init__(self):\n",
    "        self.deck_cards = []\n",
    "        \n",
    "        for suit in suits:\n",
    "            for rank in ranks:\n",
    "                # Create a card object \n",
    "                \n",
    "                created_card = Card(suit,rank)\n",
    "                self.deck_cards.append(created_card)\n",
    "                \n",
    "    def __str__(self):\n",
    "        return f'Deck has {len(self.deck_cards)} cards'  \n",
    "    \n",
    "    def shuffle(self):\n",
    "        random.shuffle(self.deck_cards)\n",
    "        \n",
    "    def deal_one(self):\n",
    "        return self.deck_cards.pop(0)"
   ]
  },
  {
   "cell_type": "code",
   "execution_count": 7,
   "id": "a7ae606d",
   "metadata": {},
   "outputs": [],
   "source": [
    "test_deck = Deck()\n",
    "first_card = test_deck.deck_cards[50]"
   ]
  },
  {
   "cell_type": "code",
   "execution_count": 8,
   "id": "5c793b49",
   "metadata": {},
   "outputs": [
    {
     "name": "stdout",
     "output_type": "stream",
     "text": [
      "<class '__main__.Deck'>\n"
     ]
    }
   ],
   "source": [
    "print(Deck)"
   ]
  },
  {
   "cell_type": "code",
   "execution_count": 9,
   "id": "8524b04b",
   "metadata": {},
   "outputs": [
    {
     "ename": "TypeError",
     "evalue": "'Deck' object is not subscriptable",
     "output_type": "error",
     "traceback": [
      "\u001b[0;31m---------------------------------------------------------------------------\u001b[0m",
      "\u001b[0;31mTypeError\u001b[0m                                 Traceback (most recent call last)",
      "Cell \u001b[0;32mIn[9], line 1\u001b[0m\n\u001b[0;32m----> 1\u001b[0m \u001b[38;5;28mprint\u001b[39m(\u001b[43mtest_deck\u001b[49m\u001b[43m[\u001b[49m\u001b[38;5;241;43m50\u001b[39;49m\u001b[43m]\u001b[49m)\n",
      "\u001b[0;31mTypeError\u001b[0m: 'Deck' object is not subscriptable"
     ]
    }
   ],
   "source": [
    "print(test_deck[50])"
   ]
  },
  {
   "cell_type": "code",
   "execution_count": 10,
   "id": "e949ba8c",
   "metadata": {},
   "outputs": [],
   "source": [
    "class Hand():\n",
    "    def __init__(self):\n",
    "        self.cards = []  # start with an empty list as we did in the Deck class\n",
    "        self.value = 0   # start with zero value\n",
    "        self.aces = 0    # add an attribute to keep track of aces\n",
    "    \n",
    "    def add_cards(self,new_cards):\n",
    "        if type(new_cards) == type([]):\n",
    "            self.cards.extend(new_cards)\n",
    "            for card in new_cards:\n",
    "                self.value += values[card.rank]\n",
    "                if card.rank == 'Ace':\n",
    "                    self.aces += 1\n",
    "        else:\n",
    "            self.cards.append(new_cards)\n",
    "            self.value += values[new_cards.rank]\n",
    "            if new_cards.rank == 'Ace':\n",
    "                self.aces += 1\n",
    "    \n",
    "    def adjust_for_ace(self):\n",
    "        while self.value > 21 and self.aces:\n",
    "            self.value -= 10\n",
    "            self.aces -= 1\n",
    "        \n",
    "    def list_cards(self):\n",
    "        return list(self.cards)\n",
    "    "
   ]
  },
  {
   "cell_type": "code",
   "execution_count": 11,
   "id": "dd45487b",
   "metadata": {},
   "outputs": [],
   "source": [
    "new_hand = Hand()"
   ]
  },
  {
   "cell_type": "code",
   "execution_count": 12,
   "id": "0efefe6f",
   "metadata": {},
   "outputs": [],
   "source": [
    "new_hand.add_cards(first_card)"
   ]
  },
  {
   "cell_type": "code",
   "execution_count": 13,
   "id": "f164a9f0",
   "metadata": {},
   "outputs": [
    {
     "data": {
      "text/plain": [
       "10"
      ]
     },
     "execution_count": 13,
     "metadata": {},
     "output_type": "execute_result"
    }
   ],
   "source": [
    "new_hand.value"
   ]
  },
  {
   "cell_type": "code",
   "execution_count": 14,
   "id": "06fac67d",
   "metadata": {},
   "outputs": [],
   "source": [
    "class Chips:\n",
    "    \n",
    "    def __init__(self):\n",
    "        self.total = 100  # This can be set to a default value or supplied by a user input\n",
    "        self.bet = 0\n",
    "        \n",
    "    def get_total(self):\n",
    "        return self.total\n",
    "        \n",
    "    def win_bet(self):\n",
    "        self.total += self.bet \n",
    "    \n",
    "    def lose_bet(self):\n",
    "        self.total -= self.bet \n",
    "        \n"
   ]
  },
  {
   "cell_type": "code",
   "execution_count": 15,
   "id": "a8673793",
   "metadata": {},
   "outputs": [],
   "source": [
    "def take_bet(chips):\n",
    "    \n",
    "    while True:\n",
    "        try:\n",
    "            chips.bet = int(input('How many chips would you like to bet? '))\n",
    "        except ValueError:\n",
    "            print('Sorry, a bet must be an integer!')\n",
    "        else:\n",
    "            if chips.bet > chips.total:\n",
    "                print(\"Sorry, your bet can't exceed\",chips.total)\n",
    "            else:\n",
    "                break"
   ]
  },
  {
   "cell_type": "code",
   "execution_count": 16,
   "id": "27549331",
   "metadata": {},
   "outputs": [
    {
     "ename": "TypeError",
     "evalue": "take_bet() missing 1 required positional argument: 'chips'",
     "output_type": "error",
     "traceback": [
      "\u001b[0;31m---------------------------------------------------------------------------\u001b[0m",
      "\u001b[0;31mTypeError\u001b[0m                                 Traceback (most recent call last)",
      "Cell \u001b[0;32mIn[16], line 1\u001b[0m\n\u001b[0;32m----> 1\u001b[0m \u001b[43mtake_bet\u001b[49m\u001b[43m(\u001b[49m\u001b[43m)\u001b[49m\n",
      "\u001b[0;31mTypeError\u001b[0m: take_bet() missing 1 required positional argument: 'chips'"
     ]
    }
   ],
   "source": [
    "take_bet()"
   ]
  },
  {
   "cell_type": "code",
   "execution_count": 17,
   "id": "6a2368e2",
   "metadata": {},
   "outputs": [
    {
     "ename": "NameError",
     "evalue": "name 'chips' is not defined",
     "output_type": "error",
     "traceback": [
      "\u001b[0;31m---------------------------------------------------------------------------\u001b[0m",
      "\u001b[0;31mNameError\u001b[0m                                 Traceback (most recent call last)",
      "Cell \u001b[0;32mIn[17], line 1\u001b[0m\n\u001b[0;32m----> 1\u001b[0m \u001b[43mchips\u001b[49m\u001b[38;5;241m.\u001b[39mlose_bet()\n",
      "\u001b[0;31mNameError\u001b[0m: name 'chips' is not defined"
     ]
    }
   ],
   "source": [
    "chips.lose_bet()"
   ]
  },
  {
   "cell_type": "code",
   "execution_count": 18,
   "id": "48803cea",
   "metadata": {},
   "outputs": [
    {
     "ename": "SyntaxError",
     "evalue": "invalid syntax (898252605.py, line 1)",
     "output_type": "error",
     "traceback": [
      "\u001b[0;36m  Cell \u001b[0;32mIn[18], line 1\u001b[0;36m\u001b[0m\n\u001b[0;31m    chips.\u001b[0m\n\u001b[0m          ^\u001b[0m\n\u001b[0;31mSyntaxError\u001b[0m\u001b[0;31m:\u001b[0m invalid syntax\n"
     ]
    }
   ],
   "source": [
    "chips."
   ]
  },
  {
   "cell_type": "code",
   "execution_count": 19,
   "id": "5f93bb7f",
   "metadata": {},
   "outputs": [
    {
     "ename": "NameError",
     "evalue": "name 'take_beet' is not defined",
     "output_type": "error",
     "traceback": [
      "\u001b[0;31m---------------------------------------------------------------------------\u001b[0m",
      "\u001b[0;31mNameError\u001b[0m                                 Traceback (most recent call last)",
      "Cell \u001b[0;32mIn[19], line 1\u001b[0m\n\u001b[0;32m----> 1\u001b[0m \u001b[43mtake_beet\u001b[49m\u001b[38;5;241m.\u001b[39mbet\n",
      "\u001b[0;31mNameError\u001b[0m: name 'take_beet' is not defined"
     ]
    }
   ],
   "source": [
    "take_beet.bet"
   ]
  },
  {
   "cell_type": "code",
   "execution_count": 20,
   "id": "721e34b3",
   "metadata": {},
   "outputs": [],
   "source": [
    "def hit(deck, hand):\n",
    "    card = deck.deal_one()  # Deal one card from the deck\n",
    "    hand.add_cards(card)  # Add the dealt card to the hand\n",
    "    hand.adjust_for_ace()"
   ]
  },
  {
   "cell_type": "code",
   "execution_count": 21,
   "id": "3cf0c879",
   "metadata": {},
   "outputs": [],
   "source": [
    "hit(test_deck,new_hand)"
   ]
  },
  {
   "cell_type": "code",
   "execution_count": 22,
   "id": "c673d9a3",
   "metadata": {},
   "outputs": [
    {
     "ename": "NameError",
     "evalue": "name 'test1_deck' is not defined",
     "output_type": "error",
     "traceback": [
      "\u001b[0;31m---------------------------------------------------------------------------\u001b[0m",
      "\u001b[0;31mNameError\u001b[0m                                 Traceback (most recent call last)",
      "Cell \u001b[0;32mIn[22], line 1\u001b[0m\n\u001b[0;32m----> 1\u001b[0m \u001b[38;5;28mlen\u001b[39m(\u001b[43mtest1_deck\u001b[49m\u001b[38;5;241m.\u001b[39mdeck_cards)\n",
      "\u001b[0;31mNameError\u001b[0m: name 'test1_deck' is not defined"
     ]
    }
   ],
   "source": [
    "len(test1_deck.deck_cards)"
   ]
  },
  {
   "cell_type": "code",
   "execution_count": 23,
   "id": "77b80db5",
   "metadata": {},
   "outputs": [
    {
     "data": {
      "text/plain": [
       "2"
      ]
     },
     "execution_count": 23,
     "metadata": {},
     "output_type": "execute_result"
    }
   ],
   "source": [
    "len(new_hand.cards)"
   ]
  },
  {
   "cell_type": "code",
   "execution_count": 24,
   "id": "483ecb58",
   "metadata": {},
   "outputs": [],
   "source": [
    "def hit_or_stand(deck,hand):\n",
    "    global playing  # to control an upcoming while loop\n",
    "    \n",
    "    while True:\n",
    "        x = input(\"Would you like to Hit or Stand? Enter 'h' or 's' \")\n",
    "        \n",
    "        if x[0].lower() == 'h':\n",
    "            hit(deck,hand)  # hit() function defined above\n",
    "\n",
    "        elif x[0].lower() == 's':\n",
    "            print(\"Player stands. Dealer is playing.\")\n",
    "            playing = False\n",
    "\n",
    "        else:\n",
    "            print(\"Sorry, please try again.\")\n",
    "            continue\n",
    "        break\n",
    "            "
   ]
  },
  {
   "cell_type": "code",
   "execution_count": 25,
   "id": "4a5df4ff",
   "metadata": {},
   "outputs": [
    {
     "name": "stdout",
     "output_type": "stream",
     "text": [
      "Would you like to Hit or Stand? Enter 'h' or 's' h\n"
     ]
    }
   ],
   "source": [
    "hit_or_stand(test_deck,new_hand)"
   ]
  },
  {
   "cell_type": "code",
   "execution_count": 26,
   "id": "619c5b0f",
   "metadata": {},
   "outputs": [
    {
     "data": {
      "text/plain": [
       "3"
      ]
     },
     "execution_count": 26,
     "metadata": {},
     "output_type": "execute_result"
    }
   ],
   "source": [
    "len(new_hand.cards)"
   ]
  },
  {
   "cell_type": "code",
   "execution_count": 28,
   "id": "7a308493",
   "metadata": {},
   "outputs": [],
   "source": [
    "def show_some(player,dealer):\n",
    "    \n",
    "    print(f'Player value is {player.value} and dealer value is {dealer.cards[1].value}')\n",
    "        \n",
    "    \n",
    "def show_all(player,dealer):\n",
    "    \n",
    "    print(f\"Player value is {player.value} and dealer value is {dealer.value}\")\n",
    "    \n"
   ]
  },
  {
   "cell_type": "code",
   "execution_count": 29,
   "id": "6fefa085",
   "metadata": {},
   "outputs": [
    {
     "ename": "AttributeError",
     "evalue": "'list' object has no attribute 'value'",
     "output_type": "error",
     "traceback": [
      "\u001b[0;31m---------------------------------------------------------------------------\u001b[0m",
      "\u001b[0;31mAttributeError\u001b[0m                            Traceback (most recent call last)",
      "Cell \u001b[0;32mIn[29], line 1\u001b[0m\n\u001b[0;32m----> 1\u001b[0m \u001b[38;5;28mprint\u001b[39m(\u001b[43mnew_hand\u001b[49m\u001b[38;5;241;43m.\u001b[39;49m\u001b[43mcards\u001b[49m\u001b[38;5;241;43m.\u001b[39;49m\u001b[43mvalue\u001b[49m)\n",
      "\u001b[0;31mAttributeError\u001b[0m: 'list' object has no attribute 'value'"
     ]
    }
   ],
   "source": [
    "print(new_hand.cards.value)"
   ]
  },
  {
   "cell_type": "code",
   "execution_count": 30,
   "id": "5dffed01",
   "metadata": {},
   "outputs": [],
   "source": [
    "second_hand = Hand()"
   ]
  },
  {
   "cell_type": "code",
   "execution_count": 31,
   "id": "67dbb7d4",
   "metadata": {},
   "outputs": [
    {
     "name": "stdout",
     "output_type": "stream",
     "text": [
      "Would you like to Hit or Stand? Enter 'h' or 's' \n"
     ]
    },
    {
     "ename": "IndexError",
     "evalue": "string index out of range",
     "output_type": "error",
     "traceback": [
      "\u001b[0;31m---------------------------------------------------------------------------\u001b[0m",
      "\u001b[0;31mIndexError\u001b[0m                                Traceback (most recent call last)",
      "Cell \u001b[0;32mIn[31], line 1\u001b[0m\n\u001b[0;32m----> 1\u001b[0m \u001b[43mhit_or_stand\u001b[49m\u001b[43m(\u001b[49m\u001b[43mtest_deck\u001b[49m\u001b[43m,\u001b[49m\u001b[43msecond_hand\u001b[49m\u001b[43m)\u001b[49m\n",
      "Cell \u001b[0;32mIn[24], line 7\u001b[0m, in \u001b[0;36mhit_or_stand\u001b[0;34m(deck, hand)\u001b[0m\n\u001b[1;32m      4\u001b[0m \u001b[38;5;28;01mwhile\u001b[39;00m \u001b[38;5;28;01mTrue\u001b[39;00m:\n\u001b[1;32m      5\u001b[0m     x \u001b[38;5;241m=\u001b[39m \u001b[38;5;28minput\u001b[39m(\u001b[38;5;124m\"\u001b[39m\u001b[38;5;124mWould you like to Hit or Stand? Enter \u001b[39m\u001b[38;5;124m'\u001b[39m\u001b[38;5;124mh\u001b[39m\u001b[38;5;124m'\u001b[39m\u001b[38;5;124m or \u001b[39m\u001b[38;5;124m'\u001b[39m\u001b[38;5;124ms\u001b[39m\u001b[38;5;124m'\u001b[39m\u001b[38;5;124m \u001b[39m\u001b[38;5;124m\"\u001b[39m)\n\u001b[0;32m----> 7\u001b[0m     \u001b[38;5;28;01mif\u001b[39;00m \u001b[43mx\u001b[49m\u001b[43m[\u001b[49m\u001b[38;5;241;43m0\u001b[39;49m\u001b[43m]\u001b[49m\u001b[38;5;241m.\u001b[39mlower() \u001b[38;5;241m==\u001b[39m \u001b[38;5;124m'\u001b[39m\u001b[38;5;124mh\u001b[39m\u001b[38;5;124m'\u001b[39m:\n\u001b[1;32m      8\u001b[0m         hit(deck,hand)  \u001b[38;5;66;03m# hit() function defined above\u001b[39;00m\n\u001b[1;32m     10\u001b[0m     \u001b[38;5;28;01melif\u001b[39;00m x[\u001b[38;5;241m0\u001b[39m]\u001b[38;5;241m.\u001b[39mlower() \u001b[38;5;241m==\u001b[39m \u001b[38;5;124m'\u001b[39m\u001b[38;5;124ms\u001b[39m\u001b[38;5;124m'\u001b[39m:\n",
      "\u001b[0;31mIndexError\u001b[0m: string index out of range"
     ]
    }
   ],
   "source": [
    "hit_or_stand(test_deck,second_hand)"
   ]
  },
  {
   "cell_type": "code",
   "execution_count": 32,
   "id": "8ca44c63",
   "metadata": {},
   "outputs": [
    {
     "ename": "IndexError",
     "evalue": "list index out of range",
     "output_type": "error",
     "traceback": [
      "\u001b[0;31m---------------------------------------------------------------------------\u001b[0m",
      "\u001b[0;31mIndexError\u001b[0m                                Traceback (most recent call last)",
      "Cell \u001b[0;32mIn[32], line 1\u001b[0m\n\u001b[0;32m----> 1\u001b[0m \u001b[38;5;28mprint\u001b[39m(\u001b[43msecond_hand\u001b[49m\u001b[38;5;241;43m.\u001b[39;49m\u001b[43mcards\u001b[49m\u001b[43m[\u001b[49m\u001b[38;5;241;43m1\u001b[39;49m\u001b[43m]\u001b[49m\u001b[38;5;241m.\u001b[39mvalue)\n",
      "\u001b[0;31mIndexError\u001b[0m: list index out of range"
     ]
    }
   ],
   "source": [
    "print(second_hand.cards[1].value)"
   ]
  },
  {
   "cell_type": "code",
   "execution_count": 33,
   "id": "4b7045dd",
   "metadata": {},
   "outputs": [
    {
     "name": "stdout",
     "output_type": "stream",
     "text": [
      "Player value is 15 and dealer value is 0\n"
     ]
    }
   ],
   "source": [
    "show_all(new_hand,second_hand)"
   ]
  },
  {
   "cell_type": "code",
   "execution_count": 34,
   "id": "cfc4a6c7",
   "metadata": {},
   "outputs": [],
   "source": [
    "def player_busts(player,dealer,chips):\n",
    "    print(\"Player busts!\")\n",
    "    chips.lose_bet()\n",
    "\n",
    "def player_wins(player,dealer,chips):\n",
    "    print(\"Player wins!\")\n",
    "    chips.win_bet()\n",
    "\n",
    "def dealer_busts(player,dealer,chips):\n",
    "    print(\"Dealer busts!\")\n",
    "    chips.win_bet()\n",
    "    \n",
    "def dealer_wins(player,dealer,chips):\n",
    "    print(\"Dealer wins!\")\n",
    "    chips.lose_bet()\n",
    "    \n",
    "def push(player,dealer):\n",
    "    print(\"Dealer and Player tie! It's a push.\")\n",
    "\n",
    "        "
   ]
  },
  {
   "cell_type": "code",
   "execution_count": 35,
   "id": "57a178b7",
   "metadata": {},
   "outputs": [],
   "source": [
    "chips = Chips()"
   ]
  },
  {
   "cell_type": "code",
   "execution_count": 36,
   "id": "2a7b8e2f",
   "metadata": {},
   "outputs": [
    {
     "ename": "AttributeError",
     "evalue": "'Chips' object has no attribute 'take_bet'",
     "output_type": "error",
     "traceback": [
      "\u001b[0;31m---------------------------------------------------------------------------\u001b[0m",
      "\u001b[0;31mAttributeError\u001b[0m                            Traceback (most recent call last)",
      "Cell \u001b[0;32mIn[36], line 1\u001b[0m\n\u001b[0;32m----> 1\u001b[0m \u001b[43mchips\u001b[49m\u001b[38;5;241;43m.\u001b[39;49m\u001b[43mtake_bet\u001b[49m()\n",
      "\u001b[0;31mAttributeError\u001b[0m: 'Chips' object has no attribute 'take_bet'"
     ]
    }
   ],
   "source": [
    "chips.take_bet()"
   ]
  },
  {
   "cell_type": "code",
   "execution_count": 37,
   "id": "6cc2ad22",
   "metadata": {},
   "outputs": [
    {
     "ename": "NameError",
     "evalue": "name 'player' is not defined",
     "output_type": "error",
     "traceback": [
      "\u001b[0;31m---------------------------------------------------------------------------\u001b[0m",
      "\u001b[0;31mNameError\u001b[0m                                 Traceback (most recent call last)",
      "Cell \u001b[0;32mIn[37], line 1\u001b[0m\n\u001b[0;32m----> 1\u001b[0m player_busts(\u001b[43mplayer\u001b[49m,dealer,chips)\n",
      "\u001b[0;31mNameError\u001b[0m: name 'player' is not defined"
     ]
    }
   ],
   "source": [
    "player_busts(player,dealer,chips)"
   ]
  },
  {
   "cell_type": "code",
   "execution_count": 38,
   "id": "c31a216e",
   "metadata": {},
   "outputs": [
    {
     "name": "stdout",
     "output_type": "stream",
     "text": [
      "Player busts!\n"
     ]
    }
   ],
   "source": [
    "player_busts(new_hand,second_hand,chips)"
   ]
  },
  {
   "cell_type": "code",
   "execution_count": 39,
   "id": "8d7c325d",
   "metadata": {},
   "outputs": [
    {
     "data": {
      "text/plain": [
       "100"
      ]
     },
     "execution_count": 39,
     "metadata": {},
     "output_type": "execute_result"
    }
   ],
   "source": [
    "chips.total"
   ]
  },
  {
   "cell_type": "code",
   "execution_count": 40,
   "id": "5ec45c91",
   "metadata": {},
   "outputs": [
    {
     "name": "stdout",
     "output_type": "stream",
     "text": [
      "Welcome to BalckJack game\n",
      "How many chips would you like to bet? 10\n",
      "Player value is 7 and dealer value is 10\n",
      "Would you like to Hit or Stand? Enter 'h' or 's' h\n",
      "Player value is 15 and dealer value is 10\n",
      "Would you like to Hit or Stand? Enter 'h' or 's' h\n",
      "Player value is 25 and dealer value is 10\n",
      "Player busts!\n",
      "Player you have 90\n",
      "Player to you want to continue to play another game: yes\n",
      "Welcome to BalckJack game\n",
      "How many chips would you like to bet? 34\n",
      "Player value is 13 and dealer value is 3\n",
      "Would you like to Hit or Stand? Enter 'h' or 's' h\n",
      "Player value is 22 and dealer value is 3\n",
      "Player busts!\n",
      "Player you have 66\n",
      "Player to you want to continue to play another game: yes\n",
      "Welcome to BalckJack game\n",
      "How many chips would you like to bet? 23\n",
      "Player value is 13 and dealer value is 8\n",
      "Would you like to Hit or Stand? Enter 'h' or 's' h\n",
      "Player value is 17 and dealer value is 8\n",
      "Would you like to Hit or Stand? Enter 'h' or 's' h\n",
      "Player value is 23 and dealer value is 8\n",
      "Player busts!\n",
      "Player you have 77\n",
      "Player to you want to continue to play another game: yes\n",
      "Welcome to BalckJack game\n",
      "How many chips would you like to bet? 19\n",
      "Player value is 18 and dealer value is 2\n",
      "Would you like to Hit or Stand? Enter 'h' or 's' s\n",
      "Player stands. Dealer is playing.\n",
      "Player value is 18 and dealer value is 2\n",
      "Would you like to Hit or Stand? Enter 'h' or 's' h\n",
      "Would you like to Hit or Stand? Enter 'h' or 's' h\n",
      "Player value is 18 and dealer value is 25\n",
      "Dealer busts!\n",
      "Player you have 119\n",
      "Player to you want to continue to play another game: no\n"
     ]
    }
   ],
   "source": [
    "game_on = True\n",
    "\n",
    "while game_on:\n",
    "    print('Welcome to BalckJack game')\n",
    "    \n",
    "    game_deck = Deck()\n",
    "\n",
    "    player_hand = Hand()\n",
    "    dealer_hand = Hand()\n",
    "    \n",
    "    game_deck.shuffle()\n",
    "    \n",
    "    player_hand.add_cards(game_deck.deal_one())\n",
    "    dealer_hand.add_cards(game_deck.deal_one())\n",
    "    player_hand.add_cards(game_deck.deal_one())\n",
    "    dealer_hand.add_cards(game_deck.deal_one())\n",
    "        \n",
    "    player_chips = Chips()\n",
    "    \n",
    "    take_bet( player_chips)\n",
    "    \n",
    "    show_some(player_hand,dealer_hand)\n",
    "\n",
    "    \n",
    "    while playing:  \n",
    "        \n",
    "        hit_or_stand(game_deck,player_hand)\n",
    "        \n",
    "        \n",
    "        show_some(player_hand,dealer_hand)\n",
    " \n",
    "        \n",
    "        if player_hand.value > 21 :\n",
    "            \n",
    "            player_busts(player_hand,dealer_hand,player_chips)\n",
    "\n",
    "            break\n",
    "            \n",
    "    if player_hand.value <= 21:\n",
    "        \n",
    "        while dealer_hand.value < 17 :\n",
    "            \n",
    "            hit_or_stand(game_deck,dealer_hand)\n",
    "                    \n",
    "\n",
    "        show_all(player_hand,dealer_hand)\n",
    "                    \n",
    "\n",
    "    \n",
    "        if dealer_hand.value > 21:\n",
    "            dealer_busts(player_hand,dealer_hand,player_chips)\n",
    "\n",
    "        elif dealer_hand.value > player_hand.value:\n",
    "            dealer_wins(player_hand,dealer_hand,player_chips)\n",
    "\n",
    "        elif dealer_hand.value < player_hand.value:\n",
    "            player_wins(player_hand,dealer_hand,player_chips)\n",
    "\n",
    "        else:\n",
    "            push(player_hand,dealer_hand)\n",
    "            \n",
    "    \n",
    "    print(f\"Player you have {player_chips.total}\")\n",
    "        \n",
    "    game_input = input(str(\"Player to you want to continue to play another game: \"))\n",
    "        \n",
    "    if game_input == 'yes':\n",
    "        game_on = True\n",
    "        player_hand.value = 0\n",
    "        dealer_hand.value = 0\n",
    "        playing=True\n",
    "        continue\n",
    "    else :\n",
    "        game_on = False\n",
    "        player_hand.value = 0\n",
    "        dealer_hand.value = 0\n",
    "        playing=True\n",
    "        break"
   ]
  },
  {
   "cell_type": "code",
   "execution_count": 46,
   "id": "dc423bd6",
   "metadata": {},
   "outputs": [
    {
     "data": {
      "text/plain": [
       "'Player value is 24 and dealer value is 5'"
      ]
     },
     "execution_count": 46,
     "metadata": {},
     "output_type": "execute_result"
    }
   ],
   "source": [
    "show_some(player_hand,dealer_hand)"
   ]
  },
  {
   "cell_type": "code",
   "execution_count": 50,
   "id": "0e6aef6e",
   "metadata": {},
   "outputs": [
    {
     "data": {
      "text/plain": [
       "'Player value is 6 and dealer value is 3'"
      ]
     },
     "execution_count": 50,
     "metadata": {},
     "output_type": "execute_result"
    }
   ],
   "source": [
    "show_some(player_hand,dealer_hand)"
   ]
  },
  {
   "cell_type": "code",
   "execution_count": 41,
   "id": "c3e451ea",
   "metadata": {},
   "outputs": [],
   "source": [
    "items = [1,2,3,4,5]"
   ]
  },
  {
   "cell_type": "code",
   "execution_count": 46,
   "id": "210690e7",
   "metadata": {},
   "outputs": [
    {
     "name": "stdout",
     "output_type": "stream",
     "text": [
      "Print all numbers: \t 1\t 2\t 3\t 4\t 5\n"
     ]
    }
   ],
   "source": [
    "print('Print all numbers: ', *items, sep='\\t ')"
   ]
  },
  {
   "cell_type": "code",
   "execution_count": null,
   "id": "cbf060ca",
   "metadata": {},
   "outputs": [],
   "source": []
  }
 ],
 "metadata": {
  "kernelspec": {
   "display_name": "Python 3 (ipykernel)",
   "language": "python",
   "name": "python3"
  },
  "language_info": {
   "codemirror_mode": {
    "name": "ipython",
    "version": 3
   },
   "file_extension": ".py",
   "mimetype": "text/x-python",
   "name": "python",
   "nbconvert_exporter": "python",
   "pygments_lexer": "ipython3",
   "version": "3.10.9"
  }
 },
 "nbformat": 4,
 "nbformat_minor": 5
}
